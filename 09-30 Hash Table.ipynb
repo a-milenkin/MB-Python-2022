{
 "cells": [
  {
   "cell_type": "markdown",
   "metadata": {},
   "source": [
    "# Hash Tabels"
   ]
  },
  {
   "cell_type": "markdown",
   "metadata": {},
   "source": [
    "## Array with custom index (Associative)\n",
    "\n",
    "Let's remember how looks like usual arrays. It is a container, that contains some amount of elements where each element has an index - number, where we or array can find this element. \\[5,4,6,7\\] - element 6 has index 2 (as you remember indices are counted from 0). But what to do if we want to take element with index 'car' in array 'person'. I mean if we want just ask array person\\['car'\\] and take his car model. So, the interface for such an array is called the 'Associative array'.\n",
    "\n",
    "![associative](images\\associative.png)\n",
    "\n",
    "First of all, it is a dynamic array with non constant memory. **You can add elements to it even if it is full.** Secondly, actualy it is not an array, it is container with pairs (\"key\",\"value\"). In simple world key is index of array, value... is value). The same as for other containers there are several implementations of dynamic array. But most of them have the same interface:\n",
    "\n",
    "\n",
    " 1. Construct - O(n).\n",
    " 2. Add element ('key','value') - add to array element with index 'key' and value. There are no exact time limits for this operation, but in the most famous implementations it take O(1) or O(logN) in worst.\n",
    " 3. Delete element ('key') - mark the memory with 'key' element as empty. The value will be deleted.\n",
    " 4. Find of \\[key\\] - find element with 'key' index.\n",
    "\n",
    "As I said before, there are several implementations of the Associative array. \n",
    "\n",
    "The first one is to create a data structure for such arrays, it works quite simple and can be simply described. But in some way it unmutable. Mean if you want to add value with the key that is not described in the structure - you should create a new structure for such data.\n",
    "\n",
    "There is a simpler and more effective method - use an array that contains pairs (key, value) as values. With binary search you can find any element with difficulties O(logN).\n",
    "\n",
    "The third one - use the search tree, that contains (key, value) inside every node. We will discuss it in the next lecture.\n",
    "\n",
    "Finally, we can use hash tables. It literally gives the answer to queries like \\[Object\\], where the object can literally be any class. The only point is that the hash function must be able to work with these objects. Wait, hash function? Yep, here we come to the concept of a hash table. "
   ]
  },
  {
   "cell_type": "markdown",
   "metadata": {},
   "source": [
    "## Hash table\n",
    "\n",
    "Ok, fomaly Hash table is another one container that was created as **array with fast (in average O(1)) access and composite indices** (the ability to use any class as an index). So, usually, an array uses numbers as indices not because we like numbers (we like numbers?) but because it is the simplest way to find elements in memory (just summ beginning of the array with the element number). So how can we find elements in the hash table with a complex key? The answer is hash function. And it is the main idea of hash table.\n",
    "\n",
    "This function takes a key as an argument and returns a number - real index of the element in an array. Ok, now you can see the hash table is a usual array, where we do not take the indices directly, but calculate them from the keys using a hash function. Sounds good, but we need to find such a function. And more of it, this function should give us a unique index for every key. But what if such keys about million, billion or more, like key - word with ten or twenty symbols. There are about 23^20 variants. Quite a bit of. In addition to this, how do we make such a function truly unique if the keys have no digits and are generally quite complex?\n",
    "\n",
    "Honestly, no way. Because of a really big amount of different types of keys instead of trying to do this we would modify our array and hash function to minimize such matches. Firstly, let's take some functions,  that turns our keys into numbers. For example for string keys, let's calculate the sum of symbols using an encoding table. For example word 'wow' in UTF8."
   ]
  },
  {
   "cell_type": "code",
   "execution_count": 6,
   "metadata": {
    "tags": []
   },
   "outputs": [
    {
     "name": "stdout",
     "output_type": "stream",
     "text": [
      "119 111 349\n"
     ]
    }
   ],
   "source": [
    "a = ord('w')\n",
    "b = ord('o')\n",
    "\n",
    "print(str(a) + \" \" + str(b) + \" \" + str(a+b+a))\n"
   ]
  },
  {
   "cell_type": "code",
   "execution_count": 7,
   "metadata": {},
   "outputs": [],
   "source": [
    "# \"wow\" - 349 \n",
    "# [0, ......349]"
   ]
  },
  {
   "cell_type": "markdown",
   "metadata": {},
   "source": [
    "How we can see, each symbol in machine language is a number, and when we work with strings we actually work with numeric array. So, to understand what number each character is encoded in, you can look at the encoding table, or just ask the python).\n",
    "\n",
    "![utf8](images/utf8.png)"
   ]
  },
  {
   "cell_type": "markdown",
   "metadata": {},
   "source": [
    " Above you can see some charecters of UTF8 table. Actually, it contains about 2^32 different symbols (at the end of the table their musical symbols and china hieroglyphs). So, now we can calculate some numbers for each word, but there are many words with an identical sum of characters. And what to do about it? Ok, firstly our array has a limited size and there is not a good idea if we ask it to resize just because we have two elements with key 1 and 47482587629842346987698. To solve it let's remember modulo division. By definition, taking a number a modulo b means that we take the remainder of dividing a by b. \n",
    " \n",
    "**For example** 15 dividing to 4 give us remainder 3 (because 4*3 + 3 = 15). Ok, so we have our array size and key-number that we got from hash function and we can just to calculate key modulo array size that brings us the actual index in the array. And if the array is not yet filled to the level when it is already required to increase its size we just put an element into index.\n",
    "\n",
    "![hashBase](images/hashBase.gif)\n",
    "\n",
    "But now we have the other problem - colisions. Some times hash function can give us equal numbers for diffrent strings. And more offten, different numbers can become equal if we take them modulo by size. There are two well-known ways to solve this problem."
   ]
  },
  {
   "cell_type": "markdown",
   "metadata": {},
   "source": [
    "## Separate chaining"
   ]
  },
  {
   "cell_type": "markdown",
   "metadata": {},
   "source": [
    "First method is called separate chaining. The main idea of it that we transform our array of elements to array of cells. Each cell will now store a list. And when we get two elements with the same hash fuction, we just put them inside a list (to begining of list) with the index equal to hash function result. To get element, we take a first element of list from the cell with the index equal to hash function and go through the list to find the element with our key (original one, because hash function is the same for all of them).\n",
    "\n",
    "![chaining](images/chaining.png)"
   ]
  },
  {
   "cell_type": "markdown",
   "metadata": {},
   "source": [
    "Ok, it looks like a working solution. But let's look to asymptotics. If we have too many keys with the same hash function we get a big list at one of the cells. At the same time, other cells are still empty. It will be cost a lot of memory and a quiet time to search for elements. About `O(k)`, where k - the average length of the element. But we still want to keep it about O(1). One of the ideas is to recreate (resize) array when k becomes too big (for example K\\*n is equal to N, where n - not empty cells, N - array size). The second idea is to use all the memory of the array to store the elements, and not occupy additional memory with lists. Both of these ideas bring us to the second method."
   ]
  },
  {
   "cell_type": "markdown",
   "metadata": {},
   "source": [
    "## Open addressing\n",
    "\n",
    "Instead of creating of lists inside an array, we will resolve collisions by shifting over the array. For example, if we have elements with to equal hash function, we put the first one into in cell with an index equal to hash function and the next element into the next cell.\n",
    "\n",
    "![openAdd1](images/openAdd1.png)\n",
    "\n",
    "\n",
    "As we see at the example above, John and Sandra have the same hash functions, and because of it, we put Sandra into the next cell. This easy to implement method still has some problems when we try to add or find elements at the beginning in a big list of filled cells. If the array will be filled at 60% or 70%, the search can take about O(N) steps which are quite a lot.\n",
    "\n",
    "How we can solve the problem above? - Let's try to move farther from collision element, not in 1 step, but q steps: $h1(s) = (h(s) + q*k) % size$, where k - steps before we don't find empty cell. With this, we are much less likely to form large groups of elements at some place. But now we have a problem, that we can jump into some steps and back to our element (because when we get the end of the array we teleport to the beginning with the next step and continue to search from the beginning of the array).\n",
    "\n",
    "\n"
   ]
  },
  {
   "cell_type": "code",
   "execution_count": 8,
   "metadata": {
    "tags": []
   },
   "outputs": [
    {
     "name": "stdout",
     "output_type": "stream",
     "text": [
      "8\n",
      "\n",
      "3\n",
      "7\n",
      "3\n",
      "7\n",
      "3\n",
      "7\n",
      "3\n",
      "7\n"
     ]
    }
   ],
   "source": [
    "a = [1, 2, 3, 4, 5, 6, 7, 8]\n",
    "print(len(a))\n",
    "print()\n",
    "i = 2\n",
    "q = 4\n",
    "k = 0\n",
    "for k in range(len(a)):\n",
    "    index = (i + q*k) % len(a)\n",
    "    print(a[index])"
   ]
  },
  {
   "cell_type": "markdown",
   "metadata": {},
   "source": [
    "In such way, we will definitely never find a place for an element with a hash function of '2'.Ok, then we should choose q in a way that helps us to scan all array cells. Let's remember prime numbers. By definition, they have no complex divisors except 1 and themselves. For example number 7. We can divide it only to 1 and 7. But we need not prime numbers, but numbers that are relative prime with array size. With them, we will move through the array in a new way every time we appear at the beginning. And it is quite simple to do, just take an odd q (because the size usually takes as powers of two). Let's try."
   ]
  },
  {
   "cell_type": "code",
   "execution_count": 9,
   "metadata": {
    "tags": []
   },
   "outputs": [
    {
     "name": "stdout",
     "output_type": "stream",
     "text": [
      "8\n",
      "\n",
      "3\n",
      "6\n",
      "1\n",
      "4\n",
      "7\n",
      "2\n",
      "5\n",
      "8\n"
     ]
    }
   ],
   "source": [
    "a = [1, 2, 3, 4, 5, 6, 7, 8]\n",
    "print(len(a))\n",
    "print()\n",
    "i = 2\n",
    "q = 3\n",
    "k = 0\n",
    "for k in range(len(a)):\n",
    "    index = (i + q*k) % len(a)\n",
    "    print(a[index])"
   ]
  },
  {
   "cell_type": "markdown",
   "metadata": {},
   "source": [
    "That is better. Still there can be a situation when we can meet a big group of elements in small part of the table. It is almost impossible to finally defeat this, as with a good choice of a pivot in quick sort. But there is a lot of diffrent hash fuctions that are trying to reduce the likelihood of collisions. One of the most famous is `double hashing`. In this method we take not one, but two diffrent hash function. Really diffrent. For example for string first hash function calculate the summ of elements and the second one the middel element multiple by string length. And don't forget made it relative prime to table size -> h2(s) = (s\\[middle\\]*len(s))*2 + 1. The result hash function is h(s) = h1(s) + h2(s)*k, k - step."
   ]
  },
  {
   "cell_type": "code",
   "execution_count": 10,
   "metadata": {
    "tags": []
   },
   "outputs": [
    {
     "name": "stdout",
     "output_type": "stream",
     "text": [
      "8\n",
      "\n",
      "fg\n",
      "cd\n",
      "hk\n",
      "ef\n",
      "bc\n",
      "gh\n",
      "de\n",
      "ab\n"
     ]
    }
   ],
   "source": [
    "a = ['ab', 'bc', 'cd', 'de', 'ef', 'fg', 'gh', 'hk']\n",
    "print(len(a))\n",
    "print()\n",
    "i = ord(a[1][0]) + ord (a[1][1])\n",
    "k = 0\n",
    "for k in range (len(a)):\n",
    "    q = len(a[1])*ord(a[1][1])*2 + 1\n",
    "    index = (i + q*k) % len(a)\n",
    "    print(a[index])"
   ]
  },
  {
   "cell_type": "markdown",
   "metadata": {},
   "source": [
    "I almost forgot. There are basic hash tables here, in python. It is called dictionary. I am shure that you already work with them."
   ]
  },
  {
   "cell_type": "code",
   "execution_count": 11,
   "metadata": {
    "tags": []
   },
   "outputs": [
    {
     "name": "stdout",
     "output_type": "stream",
     "text": [
      "2\n"
     ]
    }
   ],
   "source": [
    "a = {'ab':1,\n",
    "     'bc':2,\n",
    "     'cd':3,\n",
    "     'de':4}\n",
    "\n",
    "print(a['bc'])"
   ]
  },
  {
   "cell_type": "code",
   "execution_count": null,
   "metadata": {},
   "outputs": [],
   "source": []
  }
 ],
 "metadata": {
  "kernelspec": {
   "display_name": "Python 3",
   "language": "python",
   "name": "python3"
  },
  "language_info": {
   "codemirror_mode": {
    "name": "ipython",
    "version": 3
   },
   "file_extension": ".py",
   "mimetype": "text/x-python",
   "name": "python",
   "nbconvert_exporter": "python",
   "pygments_lexer": "ipython3",
   "version": "3.8.5"
  },
  "toc": {
   "base_numbering": 1,
   "nav_menu": {},
   "number_sections": true,
   "sideBar": true,
   "skip_h1_title": false,
   "title_cell": "Table of Contents",
   "title_sidebar": "Contents",
   "toc_cell": false,
   "toc_position": {},
   "toc_section_display": true,
   "toc_window_display": false
  }
 },
 "nbformat": 4,
 "nbformat_minor": 2
}
