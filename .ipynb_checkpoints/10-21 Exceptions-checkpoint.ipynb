{
 "cells": [
  {
   "cell_type": "code",
   "execution_count": null,
   "metadata": {},
   "outputs": [],
   "source": [
    "f = open ('spring2.txt', \"w\")\n",
    "f.write (\"I hear that you smart\\nDon't believe everything they said\")\n",
    "f.close()"
   ]
  },
  {
   "cell_type": "markdown",
   "metadata": {
    "id": "DKH3s4QvPna1"
   },
   "source": [
    "##  Exceptions\n",
    "\n",
    "In work with some programm you can meet incorrect behavior of it. It can happens because there is \"bags\" in programm and it can make the thing that it should not to do. For example read element of array by the index, which bigger than array size (in that situation you will try to read memory outside of array and operating system will forbid you to do it). Python is not exception).\n",
    "\n",
    "In work with Python you can use some Exceptions mechanisms that will help you to make you programm more stable. You can create them to show that something go wrong inside your function and can process it to resolve incorrect situation. Make a note that exceptions from functions that you not process (when they appear) will crash your programm."
   ]
  },
  {
   "cell_type": "markdown",
   "metadata": {
    "id": "Nl4f3XGYPna2"
   },
   "source": [
    "**Interesting example of exceptions process**\n",
    "\n",
    "The bear was escaped from zoo. No one can find him.\n",
    "\n",
    "Finally some old woman called:\n",
    "\n",
    "-- Help! There is the bear in my yard and he climbed on the tree. Please, take him out!\n",
    "\n",
    "In some time the man with rifle and little dog arrive to woman house, give the rifle to her, point to the dog and say:\n",
    "\n",
    "— Madam, This is \"Kefirchik\". Now I will try to climb to the tree, shake a branch, the bear will drop down, Kefirchik will grab his thigh and drag it to zoo.\n",
    "\n",
    "— Ok. But what for you give me the rifle?\n",
    "\n",
    "— If I drop down instead of bear, shoot to Kefirchick!\n",
    "\n"
   ]
  },
  {
   "cell_type": "markdown",
   "metadata": {
    "id": "E35buGC4Pna2"
   },
   "source": [
    "There is special mechanisms for process or, how it is called, catch the exception in Python существует - `try: ... except: ...`"
   ]
  },
  {
   "cell_type": "code",
   "execution_count": 29,
   "metadata": {
    "id": "KDXGiskbPna3",
    "outputId": "4ef56aee-5017-4432-c95d-905da7ad6b66"
   },
   "outputs": [
    {
     "ename": "ZeroDivisionError",
     "evalue": "division by zero",
     "output_type": "error",
     "traceback": [
      "\u001b[1;31m---------------------------------------------------------------------------\u001b[0m",
      "\u001b[1;31mZeroDivisionError\u001b[0m                         Traceback (most recent call last)",
      "\u001b[1;32m&lt;ipython-input-29-b971f1464605&gt;\u001b[0m in \u001b[0;36m&lt;module&gt;\u001b[1;34m\u001b[0m\n\u001b[1;32m----&gt; 1\u001b[1;33m \u001b[1;36m1\u001b[0m \u001b[1;33m/\u001b[0m \u001b[1;36m0\u001b[0m\u001b[1;33m\u001b[0m\u001b[1;33m\u001b[0m\u001b[0m\n\u001b[0m",
      "\u001b[1;31mZeroDivisionError\u001b[0m: division by zero"
     ]
    }
   ],
   "source": [
    "1 / 0 "
   ]
  },
  {
   "cell_type": "code",
   "execution_count": 30,
   "metadata": {
    "id": "rwVKkOxYPna5",
    "outputId": "31a5a475-713d-4467-c520-e2f6c905fa27",
    "tags": []
   },
   "outputs": [
    {
     "name": "stdout",
     "output_type": "stream",
     "text": [
      "HI\n"
     ]
    }
   ],
   "source": [
    "try:\n",
    "    1 / 0\n",
    "except ZeroDivisionError:\n",
    "    print (\"HI\")"
   ]
  },
  {
   "cell_type": "markdown",
   "metadata": {
    "id": "OxzZUHYmPna7"
   },
   "source": [
    "Sometimes you need to catch several type of exceptions. For this just write several blocks of except."
   ]
  },
  {
   "cell_type": "code",
   "execution_count": 31,
   "metadata": {
    "id": "ZkT_y5d-Pna8",
    "outputId": "b9e84426-aac4-4feb-c50a-5980b91aea93",
    "tags": []
   },
   "outputs": [
    {
     "name": "stdout",
     "output_type": "stream",
     "text": [
      "b must be different from 0\n"
     ]
    }
   ],
   "source": [
    "a = input()\n",
    "b = input()\n",
    "try:\n",
    "    a = int(a) # possible error\n",
    "    b = int(b) # possible error\n",
    "    print (a / b)\n",
    "except ValueError:\n",
    "    print (\"a and b must be integers\")\n",
    "except ZeroDivisionError:\n",
    "    print (\"b must be different from 0\")"
   ]
  },
  {
   "cell_type": "markdown",
   "metadata": {
    "id": "JDPhE3NJPna-"
   },
   "source": [
    "Because exception is a object type it has subtypes (The OOP Inheritance Paradigm, you will know about it later). Because of it we can catch more general type of exception. For example partial exception - fileNotFound and more general fileCannotBeOpened. Because after cathing of exception Python not process it again, you should write more partial type firstly.\n",
    "\n",
    "![подтипы исключений](https://w3.cs.jmu.edu/spragunr/CS240_F14/activities/exceptions/exception_hierarchy.png)\n",
    "\n",
    "Here the example how it should not be made"
   ]
  },
  {
   "cell_type": "code",
   "execution_count": 32,
   "metadata": {
    "id": "n-NoRNKhPna_",
    "outputId": "b2c5e79d-3bbb-41ca-905f-cfdaf1008b96",
    "tags": []
   },
   "outputs": [
    {
     "name": "stdout",
     "output_type": "stream",
     "text": [
      "Other exception\n"
     ]
    }
   ],
   "source": [
    "a = input()\n",
    "b = input()\n",
    "try:\n",
    "    a = int(a) # possible error\n",
    "    b = int(b) # possible error\n",
    "    print (a / b)\n",
    "    print (a[0])\n",
    "except Exception: # Exception usually is one of the most general Exceptions, it's highly recommended not to use more general exceptions\n",
    "    print (\"Other exception\")\n",
    "except ValueError:\n",
    "    print (\"a and b must be integers\")\n",
    "except ZeroDivisionError:\n",
    "    print (\"b must be different from 0\")"
   ]
  },
  {
   "cell_type": "markdown",
   "metadata": {
    "id": "RCQQhCjOPnbC"
   },
   "source": [
    "And here is right one"
   ]
  },
  {
   "cell_type": "code",
   "execution_count": 33,
   "metadata": {
    "id": "CSkuLZM3PnbC",
    "outputId": "512fe2c2-2221-4d7d-dd4e-390e48b79d69",
    "tags": []
   },
   "outputs": [
    {
     "name": "stdout",
     "output_type": "stream",
     "text": [
      "b must be different from 0\n"
     ]
    }
   ],
   "source": [
    "a = input()\n",
    "b = input()\n",
    "try:\n",
    "    a = int(a) # possible error\n",
    "    b = int(b) # possible error\n",
    "    print (a / b)\n",
    "    print (a[0])\n",
    "except ValueError:\n",
    "    print (\"a and b must be integers\")\n",
    "except ZeroDivisionError:\n",
    "    print (\"b must be different from 0\")\n",
    "except Exception: # Exception usually is the most general Exception, it's highly recommended not to use more general exceptions\n",
    "    print (\"Other exception\")"
   ]
  },
  {
   "cell_type": "markdown",
   "metadata": {
    "id": "qOCppek4PnbE"
   },
   "source": [
    "## Some rare interesting fitches\n",
    "\n",
    "### Else\n",
    "\n",
    "Ok, but what we should to do if we want calc some function only if exception will not raised.\n",
    "\n",
    "It not work:"
   ]
  },
  {
   "cell_type": "code",
   "execution_count": 34,
   "metadata": {
    "id": "gUCubmh4PnbF",
    "outputId": "8e889f98-8d82-4812-f176-b60c9ba54318",
    "tags": []
   },
   "outputs": [
    {
     "name": "stdout",
     "output_type": "stream",
     "text": [
      "b must be different from 0\n"
     ]
    },
    {
     "ename": "NameError",
     "evalue": "name &#39;result&#39; is not defined",
     "output_type": "error",
     "traceback": [
      "\u001b[1;31m---------------------------------------------------------------------------\u001b[0m",
      "\u001b[1;31mNameError\u001b[0m                                 Traceback (most recent call last)",
      "\u001b[1;32m&lt;ipython-input-34-8a5e14c6a845&gt;\u001b[0m in \u001b[0;36m&lt;module&gt;\u001b[1;34m\u001b[0m\n\u001b[0;32m     12\u001b[0m     \u001b[0mprint\u001b[0m \u001b[1;33m(\u001b[0m\u001b[1;34m&quot;Other exception&quot;\u001b[0m\u001b[1;33m)\u001b[0m\u001b[1;33m\u001b[0m\u001b[1;33m\u001b[0m\u001b[0m\n\u001b[0;32m     13\u001b[0m \u001b[1;33m\u001b[0m\u001b[0m\n\u001b[1;32m---&gt; 14\u001b[1;33m \u001b[0mprint\u001b[0m \u001b[1;33m(\u001b[0m\u001b[0mresult\u001b[0m\u001b[1;33m)\u001b[0m\u001b[1;33m\u001b[0m\u001b[1;33m\u001b[0m\u001b[0m\n\u001b[0m",
      "\u001b[1;31mNameError\u001b[0m: name &#39;result&#39; is not defined"
     ]
    }
   ],
   "source": [
    "a = input()\n",
    "b = input()\n",
    "try:\n",
    "    a = int(a) # possible error\n",
    "    b = int(b) # possible error\n",
    "    result = a / b\n",
    "except ValueError:\n",
    "    print (\"a and b must be integers\")\n",
    "except ZeroDivisionError:\n",
    "    print (\"b must be different from 0\")\n",
    "except Exception: # Exception usually is the most general Exception, it's highly recommended not to use more general exceptions\n",
    "    print (\"Other exception\")\n",
    "\n",
    "print (result)"
   ]
  },
  {
   "cell_type": "markdown",
   "metadata": {
    "id": "VThzuO1vPnbI"
   },
   "source": [
    "For this tasks there is 'else' mechanism that you can use:"
   ]
  },
  {
   "cell_type": "code",
   "execution_count": 36,
   "metadata": {
    "id": "8aK_g_GPPnbJ",
    "outputId": "eac38c4b-263d-4a12-a100-0d3b282f0d11",
    "tags": []
   },
   "outputs": [
    {
     "name": "stdout",
     "output_type": "stream",
     "text": [
      "2.0\n"
     ]
    }
   ],
   "source": [
    "a = input()\n",
    "b = input()\n",
    "try:\n",
    "    a = int(a) # possible error\n",
    "    b = int(b) # possible error\n",
    "    result = a / b\n",
    "except ValueError:\n",
    "    print (\"a and b must be integers\")\n",
    "except ZeroDivisionError:\n",
    "    print (\"b must be different from 0\")\n",
    "except Exception: # Exception usually is the most general Exception, it's highly recommended not to use more general exceptions\n",
    "    print (\"Other exception\")\n",
    "else:# Will work only if exception was not raised\n",
    "    print (result)"
   ]
  },
  {
   "cell_type": "markdown",
   "metadata": {
    "id": "-zQh_FVqPnbM"
   },
   "source": [
    "### Finally\n",
    "\n",
    "Another one word that you can use in exception shedule is `finally` - it is the block of instructions that programm should do in any cases - if the exception was handled and if not."
   ]
  },
  {
   "cell_type": "code",
   "execution_count": 38,
   "metadata": {
    "id": "qwkCwaIzPnbN",
    "outputId": "84d51c1c-afe4-475d-c16d-ee796cedfbe6",
    "tags": []
   },
   "outputs": [
    {
     "name": "stdout",
     "output_type": "stream",
     "text": [
      "a and b must be integers\n",
      "Hi\n"
     ]
    }
   ],
   "source": [
    "a = input()\n",
    "b = input()\n",
    "try:\n",
    "    a = int(a) # possible error\n",
    "    b = int(b) # possible error\n",
    "    result = a / b\n",
    "    print(result[0])\n",
    "except ValueError:\n",
    "    print (\"a and b must be integers\")\n",
    "except ZeroDivisionError:\n",
    "    print (\"b must be different from 0\")\n",
    "else:\n",
    "    print (result)\n",
    "finally:\n",
    "    print (\"Hi\")"
   ]
  },
  {
   "cell_type": "markdown",
   "metadata": {
    "id": "iqMTAJ6DPnbS"
   },
   "source": [
    "Usually `finally` is used as block where you can free up resources that you used in try block (if you not use it, try block can stoped before free up resources and you 'lose' them). For example if we open file in try block and catch an exception inside it, we will not close a file because of exception."
   ]
  },
  {
   "cell_type": "code",
   "execution_count": 39,
   "metadata": {
    "id": "iw_KLssuPnbS",
    "outputId": "db7b0fa5-3581-4149-f4b6-9db93d1a51ec",
    "tags": []
   },
   "outputs": [
    {
     "name": "stdout",
     "output_type": "stream",
     "text": [
      "2.0\n",
      "Closing file\n"
     ]
    }
   ],
   "source": [
    "a = input()\n",
    "b = input()\n",
    "try:\n",
    "    fl = open(\"infile.txt\", \"w\")\n",
    "    a = int(a) # possible error\n",
    "    b = int(b) # possible error\n",
    "    result = a / b\n",
    "    fl.write(f\"{result}\\n\")\n",
    "except ValueError:\n",
    "    print (\"a and b must be integers\")\n",
    "except ZeroDivisionError:\n",
    "    print (\"b must be different from 0\")\n",
    "else:\n",
    "    print (result)\n",
    "finally:\n",
    "    print(\"Closing file\")\n",
    "    fl.close()"
   ]
  },
  {
   "cell_type": "markdown",
   "metadata": {
    "id": "SiQLli-YPnbV"
   },
   "source": [
    "# With (Context manager)"
   ]
  },
  {
   "cell_type": "markdown",
   "metadata": {
    "id": "CcYp6PP3PnbV"
   },
   "source": [
    "So, there is another one better known schedule to solve problem above - `with`.\n",
    "\n",
    "'Finally' construction: "
   ]
  },
  {
   "cell_type": "code",
   "execution_count": 40,
   "metadata": {
    "id": "y3aOHpiqPnbW",
    "outputId": "da62e692-9b40-4aa7-eeb8-135a4260777e",
    "tags": []
   },
   "outputs": [
    {
     "name": "stdout",
     "output_type": "stream",
     "text": [
      "I hear that you smart\n",
      "Don&#39;t believe everything they say\n"
     ]
    },
    {
     "ename": "ZeroDivisionError",
     "evalue": "division by zero",
     "output_type": "error",
     "traceback": [
      "\u001b[1;31m---------------------------------------------------------------------------\u001b[0m",
      "\u001b[1;31mZeroDivisionError\u001b[0m                         Traceback (most recent call last)",
      "\u001b[1;32m&lt;ipython-input-40-b445fc890234&gt;\u001b[0m in \u001b[0;36m&lt;module&gt;\u001b[1;34m\u001b[0m\n\u001b[0;32m      2\u001b[0m \u001b[1;32mtry\u001b[0m\u001b[1;33m:\u001b[0m\u001b[1;33m\u001b[0m\u001b[1;33m\u001b[0m\u001b[0m\n\u001b[0;32m      3\u001b[0m     \u001b[0mprint\u001b[0m \u001b[1;33m(\u001b[0m\u001b[0min_file\u001b[0m\u001b[1;33m.\u001b[0m\u001b[0mread\u001b[0m\u001b[1;33m(\u001b[0m\u001b[1;33m)\u001b[0m\u001b[1;33m)\u001b[0m\u001b[1;33m\u001b[0m\u001b[1;33m\u001b[0m\u001b[0m\n\u001b[1;32m----&gt; 4\u001b[1;33m     \u001b[0ma\u001b[0m \u001b[1;33m=\u001b[0m \u001b[1;36m5\u001b[0m \u001b[1;33m/\u001b[0m \u001b[1;36m0\u001b[0m\u001b[1;33m\u001b[0m\u001b[1;33m\u001b[0m\u001b[0m\n\u001b[0m\u001b[0;32m      5\u001b[0m \u001b[1;32mfinally\u001b[0m\u001b[1;33m:\u001b[0m\u001b[1;33m\u001b[0m\u001b[1;33m\u001b[0m\u001b[0m\n\u001b[0;32m      6\u001b[0m     \u001b[0min_file\u001b[0m\u001b[1;33m.\u001b[0m\u001b[0mclose\u001b[0m\u001b[1;33m(\u001b[0m\u001b[1;33m)\u001b[0m\u001b[1;33m\u001b[0m\u001b[1;33m\u001b[0m\u001b[0m\n",
      "\u001b[1;31mZeroDivisionError\u001b[0m: division by zero"
     ]
    }
   ],
   "source": [
    "in_file = open(\"spring2.txt\", \"r\")\n",
    "try:\n",
    "    print (in_file.read())\n",
    "    a = 5 / 0\n",
    "finally:\n",
    "    in_file.close()"
   ]
  },
  {
   "cell_type": "code",
   "execution_count": 41,
   "metadata": {
    "id": "xpNkW7LYPnbZ",
    "outputId": "5cadf8d4-f297-4da9-e807-9a42fb61769b",
    "tags": []
   },
   "outputs": [
    {
     "name": "stdout",
     "output_type": "stream",
     "text": [
      "True\n"
     ]
    }
   ],
   "source": [
    "print (in_file.closed)"
   ]
  },
  {
   "cell_type": "markdown",
   "metadata": {},
   "source": [
    "'With' construction:"
   ]
  },
  {
   "cell_type": "code",
   "execution_count": 43,
   "metadata": {
    "id": "bc8IzX-7Pnbc",
    "outputId": "14cd8375-1c09-4e45-d419-16b1d4b6bb43",
    "tags": []
   },
   "outputs": [
    {
     "name": "stdout",
     "output_type": "stream",
     "text": [
      "I hear that you smart\n",
      "Don&#39;t believe everything they say\n"
     ]
    },
    {
     "ename": "ZeroDivisionError",
     "evalue": "division by zero",
     "output_type": "error",
     "traceback": [
      "\u001b[1;31m---------------------------------------------------------------------------\u001b[0m",
      "\u001b[1;31mZeroDivisionError\u001b[0m                         Traceback (most recent call last)",
      "\u001b[1;32m&lt;ipython-input-43-2671ed84db3c&gt;\u001b[0m in \u001b[0;36m&lt;module&gt;\u001b[1;34m\u001b[0m\n\u001b[0;32m      1\u001b[0m \u001b[1;32mwith\u001b[0m \u001b[0mopen\u001b[0m\u001b[1;33m(\u001b[0m\u001b[1;34m&quot;spring2.txt&quot;\u001b[0m\u001b[1;33m,\u001b[0m \u001b[1;34m&quot;r&quot;\u001b[0m\u001b[1;33m)\u001b[0m \u001b[1;32mas\u001b[0m \u001b[0min_file\u001b[0m\u001b[1;33m:\u001b[0m\u001b[1;33m\u001b[0m\u001b[1;33m\u001b[0m\u001b[0m\n\u001b[0;32m      2\u001b[0m     \u001b[0mprint\u001b[0m \u001b[1;33m(\u001b[0m\u001b[0min_file\u001b[0m\u001b[1;33m.\u001b[0m\u001b[0mread\u001b[0m\u001b[1;33m(\u001b[0m\u001b[1;33m)\u001b[0m\u001b[1;33m)\u001b[0m\u001b[1;33m\u001b[0m\u001b[1;33m\u001b[0m\u001b[0m\n\u001b[1;32m----&gt; 3\u001b[1;33m     \u001b[0ma\u001b[0m \u001b[1;33m=\u001b[0m \u001b[1;36m5\u001b[0m \u001b[1;33m/\u001b[0m \u001b[1;36m0\u001b[0m \u001b[1;31m# anyway, file will be closed\u001b[0m\u001b[1;33m\u001b[0m\u001b[1;33m\u001b[0m\u001b[0m\n\u001b[0m",
      "\u001b[1;31mZeroDivisionError\u001b[0m: division by zero"
     ]
    }
   ],
   "source": [
    "with open(\"spring2.txt\", \"r\") as in_file:\n",
    "    print (in_file.read())\n",
    "    a = 5 / 0 # anyway, file will be closed \n"
   ]
  },
  {
   "cell_type": "code",
   "execution_count": 44,
   "metadata": {
    "id": "DpIgU7E_Pnbf",
    "outputId": "f618b626-cac7-4a19-9647-2adebadd1f4c",
    "tags": []
   },
   "outputs": [
    {
     "name": "stdout",
     "output_type": "stream",
     "text": [
      "True\n"
     ]
    }
   ],
   "source": [
    "print (in_file.closed)"
   ]
  },
  {
   "cell_type": "markdown",
   "metadata": {
    "id": "7btP4tDIPnbh"
   },
   "source": [
    "## Assert\n",
    "`assert` is command that crash the program if its condition is not True. It can help you that all data is correct."
   ]
  },
  {
   "cell_type": "code",
   "execution_count": 45,
   "metadata": {
    "id": "pL8uxpQfPnbi"
   },
   "outputs": [],
   "source": [
    "assert 10==10"
   ]
  },
  {
   "cell_type": "code",
   "execution_count": 46,
   "metadata": {
    "id": "isGMvOUoPnbm",
    "outputId": "d5a23e58-e9c8-4313-ab08-3d4189fb638b"
   },
   "outputs": [
    {
     "ename": "AssertionError",
     "evalue": "",
     "output_type": "error",
     "traceback": [
      "\u001b[1;31m---------------------------------------------------------------------------\u001b[0m",
      "\u001b[1;31mAssertionError\u001b[0m                            Traceback (most recent call last)",
      "\u001b[1;32m&lt;ipython-input-46-1cc030fe0ad5&gt;\u001b[0m in \u001b[0;36m&lt;module&gt;\u001b[1;34m\u001b[0m\n\u001b[1;32m----&gt; 1\u001b[1;33m \u001b[1;32massert\u001b[0m \u001b[1;36m10\u001b[0m\u001b[1;33m==\u001b[0m\u001b[1;36m2\u001b[0m\u001b[1;33m\u001b[0m\u001b[1;33m\u001b[0m\u001b[0m\n\u001b[0m",
      "\u001b[1;31mAssertionError\u001b[0m: "
     ]
    }
   ],
   "source": [
    "assert 10==2"
   ]
  },
  {
   "cell_type": "code",
   "execution_count": 47,
   "metadata": {
    "id": "jEvW-MHRPnbo",
    "outputId": "67057cff-f1d1-420d-a2cd-689c5bcd5296"
   },
   "outputs": [
    {
     "ename": "AssertionError",
     "evalue": "You passed wrong denominator",
     "output_type": "error",
     "traceback": [
      "\u001b[1;31m---------------------------------------------------------------------------\u001b[0m",
      "\u001b[1;31mAssertionError\u001b[0m                            Traceback (most recent call last)",
      "\u001b[1;32m&lt;ipython-input-47-1aed776c1917&gt;\u001b[0m in \u001b[0;36m&lt;module&gt;\u001b[1;34m\u001b[0m\n\u001b[0;32m      1\u001b[0m \u001b[0mv1\u001b[0m \u001b[1;33m=\u001b[0m \u001b[1;36m10\u001b[0m\u001b[1;33m\u001b[0m\u001b[1;33m\u001b[0m\u001b[0m\n\u001b[0;32m      2\u001b[0m \u001b[0mv2\u001b[0m \u001b[1;33m=\u001b[0m \u001b[1;36m0\u001b[0m\u001b[1;33m\u001b[0m\u001b[1;33m\u001b[0m\u001b[0m\n\u001b[1;32m----&gt; 3\u001b[1;33m \u001b[1;32massert\u001b[0m \u001b[0mv2\u001b[0m\u001b[1;33m!=\u001b[0m\u001b[1;36m0\u001b[0m\u001b[1;33m,\u001b[0m \u001b[1;34m&#39;You passed wrong denominator&#39;\u001b[0m\u001b[1;33m\u001b[0m\u001b[1;33m\u001b[0m\u001b[0m\n\u001b[0m",
      "\u001b[1;31mAssertionError\u001b[0m: You passed wrong denominator"
     ]
    }
   ],
   "source": [
    "v1 = 10\n",
    "v2 = 0\n",
    "assert v2!=0, 'You passed wrong denominator'"
   ]
  },
  {
   "cell_type": "markdown",
   "metadata": {},
   "source": [
    "## Raising Exceptions\n",
    "\n",
    "Before we catch Exception and proceed it we need to raise it in incorrect situation. For this Python has key work `raise ExceptionName (\"message\")`"
   ]
  },
  {
   "cell_type": "code",
   "execution_count": 2,
   "metadata": {},
   "outputs": [
    {
     "ename": "ValueError",
     "evalue": "bad bad things",
     "output_type": "error",
     "traceback": [
      "\u001b[1;31m---------------------------------------------------------------------------\u001b[0m",
      "\u001b[1;31mValueError\u001b[0m                                Traceback (most recent call last)",
      "\u001b[1;32m&lt;ipython-input-2-84e061c9ba86&gt;\u001b[0m in \u001b[0;36m&lt;module&gt;\u001b[1;34m\u001b[0m\n\u001b[1;32m----&gt; 1\u001b[1;33m \u001b[1;32mraise\u001b[0m \u001b[0mValueError\u001b[0m \u001b[1;33m(\u001b[0m\u001b[1;34m&quot;bad bad things&quot;\u001b[0m\u001b[1;33m)\u001b[0m\u001b[1;33m\u001b[0m\u001b[1;33m\u001b[0m\u001b[0m\n\u001b[0m",
      "\u001b[1;31mValueError\u001b[0m: bad bad things"
     ]
    }
   ],
   "source": [
    "raise ValueError (\"bad bad things\")"
   ]
  },
  {
   "cell_type": "markdown",
   "metadata": {},
   "source": [
    "Make a note that ExceptionName is class name that describe exception. If you want use some other name you should define a new class."
   ]
  },
  {
   "cell_type": "code",
   "execution_count": 3,
   "metadata": {},
   "outputs": [
    {
     "ename": "NameError",
     "evalue": "name &#39;someUnknownException&#39; is not defined",
     "output_type": "error",
     "traceback": [
      "\u001b[1;31m---------------------------------------------------------------------------\u001b[0m",
      "\u001b[1;31mNameError\u001b[0m                                 Traceback (most recent call last)",
      "\u001b[1;32m&lt;ipython-input-3-b215840069df&gt;\u001b[0m in \u001b[0;36m&lt;module&gt;\u001b[1;34m\u001b[0m\n\u001b[1;32m----&gt; 1\u001b[1;33m \u001b[1;32mraise\u001b[0m \u001b[0msomeUnknownException\u001b[0m \u001b[1;33m(\u001b[0m\u001b[1;34m&quot;123&quot;\u001b[0m\u001b[1;33m)\u001b[0m\u001b[1;33m\u001b[0m\u001b[1;33m\u001b[0m\u001b[0m\n\u001b[0m",
      "\u001b[1;31mNameError\u001b[0m: name &#39;someUnknownException&#39; is not defined"
     ]
    }
   ],
   "source": [
    "raise someUnknownException (\"123\")"
   ]
  },
  {
   "cell_type": "markdown",
   "metadata": {},
   "source": [
    "Also you can to chain exceptions"
   ]
  },
  {
   "cell_type": "code",
   "execution_count": 4,
   "metadata": {},
   "outputs": [
    {
     "ename": "RuntimeError",
     "evalue": "file not created",
     "output_type": "error",
     "traceback": [
      "\u001b[1;31m---------------------------------------------------------------------------\u001b[0m",
      "\u001b[1;31mFileNotFoundError\u001b[0m                         Traceback (most recent call last)",
      "\u001b[1;32m&lt;ipython-input-4-87d2168010c9&gt;\u001b[0m in \u001b[0;36m&lt;module&gt;\u001b[1;34m\u001b[0m\n\u001b[0;32m      4\u001b[0m \u001b[1;32mtry\u001b[0m\u001b[1;33m:\u001b[0m\u001b[1;33m\u001b[0m\u001b[1;33m\u001b[0m\u001b[0m\n\u001b[1;32m----&gt; 5\u001b[1;33m     \u001b[0mfoo\u001b[0m\u001b[1;33m(\u001b[0m\u001b[1;33m)\u001b[0m\u001b[1;33m\u001b[0m\u001b[1;33m\u001b[0m\u001b[0m\n\u001b[0m\u001b[0;32m      6\u001b[0m \u001b[1;32mexcept\u001b[0m \u001b[0mFileNotFoundError\u001b[0m\u001b[1;33m:\u001b[0m\u001b[1;33m\u001b[0m\u001b[1;33m\u001b[0m\u001b[0m\n",
      "\u001b[1;32m&lt;ipython-input-4-87d2168010c9&gt;\u001b[0m in \u001b[0;36mfoo\u001b[1;34m()\u001b[0m\n\u001b[0;32m      1\u001b[0m \u001b[1;32mdef\u001b[0m \u001b[0mfoo\u001b[0m\u001b[1;33m(\u001b[0m\u001b[1;33m)\u001b[0m\u001b[1;33m:\u001b[0m\u001b[1;33m\u001b[0m\u001b[1;33m\u001b[0m\u001b[0m\n\u001b[1;32m----&gt; 2\u001b[1;33m     \u001b[1;32mraise\u001b[0m \u001b[0mFileNotFoundError\u001b[0m\u001b[1;33m\u001b[0m\u001b[1;33m\u001b[0m\u001b[0m\n\u001b[0m\u001b[0;32m      3\u001b[0m \u001b[1;33m\u001b[0m\u001b[0m\n",
      "\u001b[1;31mFileNotFoundError\u001b[0m: ",
      "\nDuring handling of the above exception, another exception occurred:\n",
      "\u001b[1;31mRuntimeError\u001b[0m                              Traceback (most recent call last)",
      "\u001b[1;32m&lt;ipython-input-4-87d2168010c9&gt;\u001b[0m in \u001b[0;36m&lt;module&gt;\u001b[1;34m\u001b[0m\n\u001b[0;32m      5\u001b[0m     \u001b[0mfoo\u001b[0m\u001b[1;33m(\u001b[0m\u001b[1;33m)\u001b[0m\u001b[1;33m\u001b[0m\u001b[1;33m\u001b[0m\u001b[0m\n\u001b[0;32m      6\u001b[0m \u001b[1;32mexcept\u001b[0m \u001b[0mFileNotFoundError\u001b[0m\u001b[1;33m:\u001b[0m\u001b[1;33m\u001b[0m\u001b[1;33m\u001b[0m\u001b[0m\n\u001b[1;32m----&gt; 7\u001b[1;33m     \u001b[1;32mraise\u001b[0m \u001b[0mRuntimeError\u001b[0m \u001b[1;33m(\u001b[0m\u001b[1;34m&quot;file not created&quot;\u001b[0m\u001b[1;33m)\u001b[0m\u001b[1;33m\u001b[0m\u001b[1;33m\u001b[0m\u001b[0m\n\u001b[0m",
      "\u001b[1;31mRuntimeError\u001b[0m: file not created"
     ]
    }
   ],
   "source": [
    "def foo():\n",
    "    raise FileNotFoundError\n",
    "\n",
    "try:\n",
    "    foo()\n",
    "except FileNotFoundError:\n",
    "    raise RuntimeError (\"file not created\")"
   ]
  },
  {
   "cell_type": "markdown",
   "metadata": {},
   "source": [
    "In chain of exceptions you can use statement `from` that show from which exception new one was rised. Without from it work automaticaly (like in example above). But if you want 'break' the chain just write `from None`"
   ]
  },
  {
   "cell_type": "code",
   "execution_count": 5,
   "metadata": {},
   "outputs": [
    {
     "ename": "RuntimeError",
     "evalue": "",
     "output_type": "error",
     "traceback": [
      "\u001b[1;31m---------------------------------------------------------------------------\u001b[0m",
      "\u001b[1;31mFileNotFoundError\u001b[0m                         Traceback (most recent call last)",
      "\u001b[1;32m&lt;ipython-input-5-17c090da3097&gt;\u001b[0m in \u001b[0;36m&lt;module&gt;\u001b[1;34m\u001b[0m\n\u001b[0;32m      4\u001b[0m \u001b[1;32mtry\u001b[0m\u001b[1;33m:\u001b[0m\u001b[1;33m\u001b[0m\u001b[1;33m\u001b[0m\u001b[0m\n\u001b[1;32m----&gt; 5\u001b[1;33m     \u001b[0mfoo\u001b[0m\u001b[1;33m(\u001b[0m\u001b[1;33m)\u001b[0m\u001b[1;33m\u001b[0m\u001b[1;33m\u001b[0m\u001b[0m\n\u001b[0m\u001b[0;32m      6\u001b[0m \u001b[1;32mexcept\u001b[0m \u001b[0mFileNotFoundError\u001b[0m \u001b[1;32mas\u001b[0m \u001b[0mee\u001b[0m\u001b[1;33m:\u001b[0m\u001b[1;33m\u001b[0m\u001b[1;33m\u001b[0m\u001b[0m\n",
      "\u001b[1;32m&lt;ipython-input-5-17c090da3097&gt;\u001b[0m in \u001b[0;36mfoo\u001b[1;34m()\u001b[0m\n\u001b[0;32m      1\u001b[0m \u001b[1;32mdef\u001b[0m \u001b[0mfoo\u001b[0m\u001b[1;33m(\u001b[0m\u001b[1;33m)\u001b[0m\u001b[1;33m:\u001b[0m\u001b[1;33m\u001b[0m\u001b[1;33m\u001b[0m\u001b[0m\n\u001b[1;32m----&gt; 2\u001b[1;33m     \u001b[1;32mraise\u001b[0m \u001b[0mFileNotFoundError\u001b[0m \u001b[1;33m(\u001b[0m\u001b[1;34m&quot;file not created&quot;\u001b[0m\u001b[1;33m)\u001b[0m\u001b[1;33m\u001b[0m\u001b[1;33m\u001b[0m\u001b[0m\n\u001b[0m\u001b[0;32m      3\u001b[0m \u001b[1;33m\u001b[0m\u001b[0m\n",
      "\u001b[1;31mFileNotFoundError\u001b[0m: file not created",
      "\nThe above exception was the direct cause of the following exception:\n",
      "\u001b[1;31mRuntimeError\u001b[0m                              Traceback (most recent call last)",
      "\u001b[1;32m&lt;ipython-input-5-17c090da3097&gt;\u001b[0m in \u001b[0;36m&lt;module&gt;\u001b[1;34m\u001b[0m\n\u001b[0;32m      5\u001b[0m     \u001b[0mfoo\u001b[0m\u001b[1;33m(\u001b[0m\u001b[1;33m)\u001b[0m\u001b[1;33m\u001b[0m\u001b[1;33m\u001b[0m\u001b[0m\n\u001b[0;32m      6\u001b[0m \u001b[1;32mexcept\u001b[0m \u001b[0mFileNotFoundError\u001b[0m \u001b[1;32mas\u001b[0m \u001b[0mee\u001b[0m\u001b[1;33m:\u001b[0m\u001b[1;33m\u001b[0m\u001b[1;33m\u001b[0m\u001b[0m\n\u001b[1;32m----&gt; 7\u001b[1;33m     \u001b[1;32mraise\u001b[0m \u001b[0mRuntimeError\u001b[0m \u001b[1;32mfrom\u001b[0m \u001b[0mee\u001b[0m\u001b[1;33m\u001b[0m\u001b[1;33m\u001b[0m\u001b[0m\n\u001b[0m",
      "\u001b[1;31mRuntimeError\u001b[0m: "
     ]
    }
   ],
   "source": [
    "def foo():\n",
    "    raise FileNotFoundError (\"file not created\")\n",
    "\n",
    "try:\n",
    "    foo()\n",
    "except FileNotFoundError as ee:\n",
    "    raise RuntimeError from ee"
   ]
  },
  {
   "cell_type": "code",
   "execution_count": 6,
   "metadata": {},
   "outputs": [
    {
     "ename": "RuntimeError",
     "evalue": "",
     "output_type": "error",
     "traceback": [
      "\u001b[1;31m---------------------------------------------------------------------------\u001b[0m",
      "\u001b[1;31mRuntimeError\u001b[0m                              Traceback (most recent call last)",
      "\u001b[1;32m&lt;ipython-input-6-d78261a0ca9c&gt;\u001b[0m in \u001b[0;36m&lt;module&gt;\u001b[1;34m\u001b[0m\n\u001b[0;32m      5\u001b[0m     \u001b[0mfoo\u001b[0m\u001b[1;33m(\u001b[0m\u001b[1;33m)\u001b[0m\u001b[1;33m\u001b[0m\u001b[1;33m\u001b[0m\u001b[0m\n\u001b[0;32m      6\u001b[0m \u001b[1;32mexcept\u001b[0m \u001b[0mFileNotFoundError\u001b[0m \u001b[1;32mas\u001b[0m \u001b[0mee\u001b[0m\u001b[1;33m:\u001b[0m\u001b[1;33m\u001b[0m\u001b[1;33m\u001b[0m\u001b[0m\n\u001b[1;32m----&gt; 7\u001b[1;33m     \u001b[1;32mraise\u001b[0m \u001b[0mRuntimeError\u001b[0m \u001b[1;32mfrom\u001b[0m \u001b[1;32mNone\u001b[0m\u001b[1;33m\u001b[0m\u001b[1;33m\u001b[0m\u001b[0m\n\u001b[0m",
      "\u001b[1;31mRuntimeError\u001b[0m: "
     ]
    }
   ],
   "source": [
    "def foo():\n",
    "    raise FileNotFoundError (\"file not created\")\n",
    "\n",
    "try:\n",
    "    foo()\n",
    "except FileNotFoundError as ee:\n",
    "    raise RuntimeError from None"
   ]
  },
  {
   "cell_type": "markdown",
   "metadata": {},
   "source": [
    "### New exception class\n",
    "\n",
    "To create an exception class you should define a new class that will inherit from exception class or other exception classes (like FileNotFound). To inherit from other class just write `class newClass (parentClassName)`.\n",
    "\n",
    "Inside the eception class you should define Constructor with some fields that newClass will contain"
   ]
  },
  {
   "cell_type": "code",
   "execution_count": 7,
   "metadata": {},
   "outputs": [
    {
     "ename": "newExcep",
     "evalue": "(&#39;something bad&#39;, 5)",
     "output_type": "error",
     "traceback": [
      "\u001b[1;31m---------------------------------------------------------------------------\u001b[0m",
      "\u001b[1;31mnewExcep\u001b[0m                                  Traceback (most recent call last)",
      "\u001b[1;32m&lt;ipython-input-7-c9c6263a3208&gt;\u001b[0m in \u001b[0;36m&lt;module&gt;\u001b[1;34m\u001b[0m\n\u001b[0;32m      4\u001b[0m         \u001b[0mself\u001b[0m\u001b[1;33m.\u001b[0m\u001b[0mnumber\u001b[0m \u001b[1;33m=\u001b[0m \u001b[0mnumber\u001b[0m\u001b[1;33m\u001b[0m\u001b[1;33m\u001b[0m\u001b[0m\n\u001b[0;32m      5\u001b[0m \u001b[1;33m\u001b[0m\u001b[0m\n\u001b[1;32m----&gt; 6\u001b[1;33m \u001b[1;32mraise\u001b[0m \u001b[0mnewExcep\u001b[0m \u001b[1;33m(\u001b[0m\u001b[1;34m&quot;something bad&quot;\u001b[0m\u001b[1;33m,\u001b[0m \u001b[1;36m5\u001b[0m\u001b[1;33m)\u001b[0m\u001b[1;33m\u001b[0m\u001b[1;33m\u001b[0m\u001b[0m\n\u001b[0m",
      "\u001b[1;31mnewExcep\u001b[0m: (&#39;something bad&#39;, 5)"
     ]
    }
   ],
   "source": [
    "class newExcep (Exception):\n",
    "    def __init__ (self, message, number):\n",
    "        self.message = message\n",
    "        self.number = number\n",
    "\n",
    "raise newExcep (\"something bad\", 5)"
   ]
  }
 ],
 "metadata": {
  "colab": {
   "name": "Basics_Lecture3.ipynb",
   "provenance": []
  },
  "kernelspec": {
   "display_name": "Python 3",
   "language": "python",
   "name": "python3"
  },
  "language_info": {
   "codemirror_mode": {
    "name": "ipython",
    "version": 3
   },
   "file_extension": ".py",
   "mimetype": "text/x-python",
   "name": "python",
   "nbconvert_exporter": "python",
   "pygments_lexer": "ipython3",
   "version": "3.8.5"
  },
  "toc": {
   "base_numbering": 1,
   "nav_menu": {},
   "number_sections": true,
   "sideBar": true,
   "skip_h1_title": false,
   "title_cell": "Table of Contents",
   "title_sidebar": "Contents",
   "toc_cell": false,
   "toc_position": {},
   "toc_section_display": true,
   "toc_window_display": false
  }
 },
 "nbformat": 4,
 "nbformat_minor": 1
}
