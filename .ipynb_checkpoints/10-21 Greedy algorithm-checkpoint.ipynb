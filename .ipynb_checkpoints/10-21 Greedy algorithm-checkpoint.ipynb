{
 "cells": [
  {
   "cell_type": "markdown",
   "metadata": {},
   "source": [
    "# Greedy Algorithm"
   ]
  },
  {
   "cell_type": "markdown",
   "metadata": {},
   "source": [
    "## Combinatorial optimization\n",
    "\n",
    "Today we move to a new type of task - combinatorial optimization tasks. They are the parts of mathematical optimization, but we won't touch such complex structures and discuss an only simple variants of them.\n",
    "\n",
    "So, the `Combinatorial optimization` task in simple words is task where you should choose the optimal subset from the set of elements to get the \"best\" result of some function (usually it means taking the minimum or maximum function value). More formally - we have F(y1,y2,y3,...) and the set X = {x1,x2,...,xN} - our task is choose K elements from set X to get a maximum\\minimum of Fvalue. Wherein F can be depend on number of elements (K), for example the less elements we take the bigger value of F we take, and it can depend on the set of elements (for example the bigger element we take the better result we get). But more often our number K is dependent on some other parameter of elements.\n",
    "\n",
    "Simple example: we have an `N` coins and we need to take not more than `K` of them and maximize the sum. So here we have a simple function `F` that calculates the sum of elements and becomes zero value when the number of elements becomes bigger than K. To simplify we can divide `F` to `f (y1,y2,...) ` and system of inequalities (in this task only one inequality - `n<K` >). As result like in the task - we need to maximize `f (y1,y2,...)` with no more than K elements.\n",
    "\n",
    "Now let's slightly redo our example: Now we have an infinite amount of coins with denominations {1,2,3}. Our task is to take a number N with a minimal number of coins. So, in this variant our `f (y1,2,...)` is the amount of coins and the \"inequality\" is `sum (y1,y2,...) = N`. Both of these two tasks are called \"Coin change task\". There is another variant of such task - When denominations of coins is not consecutive numbers but something like {5,3,2} and the problem may not have a solution.\n",
    "\n",
    "![coins](images/10-21/coin0.png)\n",
    "\n",
    "Actually there are a lot of such tasks - the Travelling Salesman Problem or some optimization tasks on graphs. But how to solve them? Lets think about it."
   ]
  },
  {
   "cell_type": "markdown",
   "metadata": {},
   "source": [
    "## Full search\n",
    "\n",
    "So, first of all we have some function F that we should bring to minimum or maximum value on the set of elements {x1,...,xN}. If not think carefully what we can do with this? Sounds funny but steal, the first solution that we can imagine is try some bundle of elements inside F and write the result. Then try some other bundle and continue like this till we not try all possible bundles of elements. This method is called `Full search`.\n",
    "\n",
    "It's main idea as we discussed early is try all possible bunches of elements in the set. Sounds like a plan. All that we need is understand the task to create correct function `f` with all needed inequality and then wait till computer not found the best bundle among all. But wait a second - what about the complexity of such algorithm? Let's calculate it.\n",
    "\n",
    "Ok, we have a set `X = {x1,..,xN}`. Now, to create a bundle we need take some elements from it. In tasks there can be dynamically amount of element (for example second variant of coin task). So, for example we take the element x1, now we should go over all bundles with `fixed` first element `x1`. The number of such bundles is equal to number of bundles of set `{x2,x3,...,xN}` because it is exactly the bundle without first element. Plus to this, we can fix each element of bundle as first element, so we have N * |{x2,...,xN}| bundles in sum. Let's move on and repeated all reasoning -> `N * (N-1) * |{x3,...,xN}|` -> -> -> `N * (N-1) * (N-2) * ... * 1` = N! (where ! is factorial). So, our complexity is O(N!) what is really big because N! ~ e^N = exp(N). As you remember from complexity table\n",
    "\n",
    "![complexity](images/complexity.jpg)\n",
    "\n",
    "Complexity of exp(N) (or 2^N as describe in table) is unimaginable big. And this is the number of steps. So, if we will have about 100 or more coins this number become too big to calculate"
   ]
  },
  {
   "cell_type": "code",
   "execution_count": 4,
   "metadata": {},
   "outputs": [
    {
     "name": "stdout",
     "output_type": "stream",
     "text": [
      "9.33E+155\n"
     ]
    }
   ],
   "source": [
    "sum = 1\n",
    "for i in range (1,100):\n",
    "    sum = sum*i\n",
    "print (\"{:.2E}\".format(sum))"
   ]
  },
  {
   "cell_type": "markdown",
   "metadata": {},
   "source": [
    "About 10**156. I don't think that your computer can calculate such a big number of steps in you life."
   ]
  },
  {
   "cell_type": "code",
   "execution_count": 9,
   "metadata": {},
   "outputs": [
    {
     "name": "stdout",
     "output_type": "stream",
     "text": [
      "(1, 2, 3, 4, 5)\n",
      "(1, 2, 3, 5, 4)\n",
      "(1, 2, 4, 3, 5)\n",
      "(1, 2, 4, 5, 3)\n",
      "(1, 2, 5, 3, 4)\n",
      "(1, 2, 5, 4, 3)\n",
      "(1, 3, 2, 4, 5)\n",
      "(1, 3, 2, 5, 4)\n",
      "(1, 3, 4, 2, 5)\n",
      "(1, 3, 4, 5, 2)\n",
      "(1, 3, 5, 2, 4)\n",
      "(1, 3, 5, 4, 2)\n",
      "(1, 4, 2, 3, 5)\n",
      "(1, 4, 2, 5, 3)\n",
      "(1, 4, 3, 2, 5)\n",
      "(1, 4, 3, 5, 2)\n",
      "(1, 4, 5, 2, 3)\n",
      "(1, 4, 5, 3, 2)\n",
      "(1, 5, 2, 3, 4)\n",
      "(1, 5, 2, 4, 3)\n",
      "(1, 5, 3, 2, 4)\n",
      "(1, 5, 3, 4, 2)\n",
      "(1, 5, 4, 2, 3)\n",
      "(1, 5, 4, 3, 2)\n",
      "(2, 1, 3, 4, 5)\n",
      "(2, 1, 3, 5, 4)\n",
      "(2, 1, 4, 3, 5)\n",
      "(2, 1, 4, 5, 3)\n",
      "(2, 1, 5, 3, 4)\n",
      "(2, 1, 5, 4, 3)\n",
      "(2, 3, 1, 4, 5)\n",
      "(2, 3, 1, 5, 4)\n",
      "(2, 3, 4, 1, 5)\n",
      "(2, 3, 4, 5, 1)\n",
      "(2, 3, 5, 1, 4)\n",
      "(2, 3, 5, 4, 1)\n",
      "(2, 4, 1, 3, 5)\n",
      "(2, 4, 1, 5, 3)\n",
      "(2, 4, 3, 1, 5)\n",
      "(2, 4, 3, 5, 1)\n",
      "(2, 4, 5, 1, 3)\n",
      "(2, 4, 5, 3, 1)\n",
      "(2, 5, 1, 3, 4)\n",
      "(2, 5, 1, 4, 3)\n",
      "(2, 5, 3, 1, 4)\n",
      "(2, 5, 3, 4, 1)\n",
      "(2, 5, 4, 1, 3)\n",
      "(2, 5, 4, 3, 1)\n",
      "(3, 1, 2, 4, 5)\n",
      "(3, 1, 2, 5, 4)\n",
      "(3, 1, 4, 2, 5)\n",
      "(3, 1, 4, 5, 2)\n",
      "(3, 1, 5, 2, 4)\n",
      "(3, 1, 5, 4, 2)\n",
      "(3, 2, 1, 4, 5)\n",
      "(3, 2, 1, 5, 4)\n",
      "(3, 2, 4, 1, 5)\n",
      "(3, 2, 4, 5, 1)\n",
      "(3, 2, 5, 1, 4)\n",
      "(3, 2, 5, 4, 1)\n",
      "(3, 4, 1, 2, 5)\n",
      "(3, 4, 1, 5, 2)\n",
      "(3, 4, 2, 1, 5)\n",
      "(3, 4, 2, 5, 1)\n",
      "(3, 4, 5, 1, 2)\n",
      "(3, 4, 5, 2, 1)\n",
      "(3, 5, 1, 2, 4)\n",
      "(3, 5, 1, 4, 2)\n",
      "(3, 5, 2, 1, 4)\n",
      "(3, 5, 2, 4, 1)\n",
      "(3, 5, 4, 1, 2)\n",
      "(3, 5, 4, 2, 1)\n",
      "(4, 1, 2, 3, 5)\n",
      "(4, 1, 2, 5, 3)\n",
      "(4, 1, 3, 2, 5)\n",
      "(4, 1, 3, 5, 2)\n",
      "(4, 1, 5, 2, 3)\n",
      "(4, 1, 5, 3, 2)\n",
      "(4, 2, 1, 3, 5)\n",
      "(4, 2, 1, 5, 3)\n",
      "(4, 2, 3, 1, 5)\n",
      "(4, 2, 3, 5, 1)\n",
      "(4, 2, 5, 1, 3)\n",
      "(4, 2, 5, 3, 1)\n",
      "(4, 3, 1, 2, 5)\n",
      "(4, 3, 1, 5, 2)\n",
      "(4, 3, 2, 1, 5)\n",
      "(4, 3, 2, 5, 1)\n",
      "(4, 3, 5, 1, 2)\n",
      "(4, 3, 5, 2, 1)\n",
      "(4, 5, 1, 2, 3)\n",
      "(4, 5, 1, 3, 2)\n",
      "(4, 5, 2, 1, 3)\n",
      "(4, 5, 2, 3, 1)\n",
      "(4, 5, 3, 1, 2)\n",
      "(4, 5, 3, 2, 1)\n",
      "(5, 1, 2, 3, 4)\n",
      "(5, 1, 2, 4, 3)\n",
      "(5, 1, 3, 2, 4)\n",
      "(5, 1, 3, 4, 2)\n",
      "(5, 1, 4, 2, 3)\n",
      "(5, 1, 4, 3, 2)\n",
      "(5, 2, 1, 3, 4)\n",
      "(5, 2, 1, 4, 3)\n",
      "(5, 2, 3, 1, 4)\n",
      "(5, 2, 3, 4, 1)\n",
      "(5, 2, 4, 1, 3)\n",
      "(5, 2, 4, 3, 1)\n",
      "(5, 3, 1, 2, 4)\n",
      "(5, 3, 1, 4, 2)\n",
      "(5, 3, 2, 1, 4)\n",
      "(5, 3, 2, 4, 1)\n",
      "(5, 3, 4, 1, 2)\n",
      "(5, 3, 4, 2, 1)\n",
      "(5, 4, 1, 2, 3)\n",
      "(5, 4, 1, 3, 2)\n",
      "(5, 4, 2, 1, 3)\n",
      "(5, 4, 2, 3, 1)\n",
      "(5, 4, 3, 1, 2)\n",
      "(5, 4, 3, 2, 1)\n"
     ]
    }
   ],
   "source": [
    "from itertools import permutations\n",
    "coins = [1,2,3,4,5]\n",
    "for i in permutations (coins):\n",
    "    print (i)"
   ]
  },
  {
   "cell_type": "markdown",
   "metadata": {},
   "source": [
    "## Greedy algorithm\n",
    "\n",
    "Ok, we need some other idea to solve combinatorial optimization problem. And I have a bad news for you - there is not any universal algorithm faster than Full search to solve this task. But, there are some algorithm that can solve this task in special cases. One of them is Greedy algorithm.\n",
    "\n",
    "The main idea of such algorithm is simple. At each step from first to last we should to choose the local optimal element from the set. For example the first task about coins - to maximize our sum of coins at each step we take the coin with maximum denomination. At the end of algorithm we get K coins with maximum sum (because at each step we took the maximum denomination to maximize current sum)."
   ]
  },
  {
   "cell_type": "code",
   "execution_count": 15,
   "metadata": {},
   "outputs": [
    {
     "name": "stdout",
     "output_type": "stream",
     "text": [
      "15\n",
      "12\n",
      "10\n",
      "8\n",
      "6\n",
      "sum = 51\n",
      "right sum = 51\n"
     ]
    }
   ],
   "source": [
    "coins = [15,3,12,6,10,8,3,2,5]\n",
    "k = 5\n",
    "i = 0\n",
    "s = 0\n",
    "while i < k:\n",
    "    m = max (coins) # Take the biggest element in each step\n",
    "    coins.remove (m)\n",
    "    print (m)\n",
    "    i+=1\n",
    "    s+=m\n",
    "print (\"sum = \" + str(s))\n",
    "\n",
    "coins = [15,3,12,6,10,8,3,2,5] #calc right answer with full search\n",
    "s = 0\n",
    "from functools import reduce\n",
    "from itertools import permutations\n",
    "for i in permutations (coins,k):\n",
    "    s = max(s, reduce(lambda x,y: x+y, i))\n",
    "print (\"right sum = \" + str(s))"
   ]
  },
  {
   "cell_type": "markdown",
   "metadata": {},
   "source": [
    "This idea we can use in all tasks that looks like choose K elements that are total maximum or minimum in sum. It should be intuitively clear that in such problems we should choose the largest / smallest / optimal elements at each steps.\n",
    "\n",
    "But as we discuss above - there are a lot of tasks where it not work. For example second task with coins. For example we have only `{2,3}` coins and final number 10. The Greedy algorithm in first 3 steps will choose coins with denomination 3 and in sum we get 9. But from 9 we can reach 10 because we don't have the coin with denomination 1. In correct solution in last step we should take not the coin '3' but '2' and then another one time '2'. In result we got `{3,3,2,2} = 10` in sum. Unfortunately, the field of applicability of greedy algorithms is very limited and we should find it limit."
   ]
  },
  {
   "cell_type": "markdown",
   "metadata": {},
   "source": [
    "### Applicability\n",
    "\n",
    "Let's look more careful at each step. Inside the step we choose the optimal elements for a local task. Mean that all other elements that we choose before are not exists. Plus to this algorithm not think about all elements that it going to choose later. So - one of the main demand is independence of steps from each others. After the choose the element you should always take in result the subtask that you would solve, independently from chosen element in current step (mean any element). But this is not the all, for example the other task:\n",
    "\n",
    "The Knapsack problem - you have the set of elements, each one have the volume and the price. And you have the backpack with fix size. You should put inside it elements that give you maximum price.\n",
    "\n",
    "![Knapsack](images/10-21/Knapsack.png)\n",
    "\n",
    "So, at the end of the process of filling the backpack, you may encounter the same problem as in the problem with coins. You will have 5kg free space, 4kg with 5$, and 3kg-4$ and 2kg-3$ packages. Greedy algorithm will choose the box with 4kg and ended, but right answer is 3kg + 2kg boxes. And it bring us to main point - at each step you should be sure that local optimal choose in the same time is global optimal choose. And you should have the method to prove that.\n",
    "\n",
    "Actually there is some interesting method calling \"matroids\".\n",
    "Matroids is the pair (S,I), where S - our set X and I the set of subsets with some special properties:\n",
    "\n",
    " - Empty subset from S is element(set is element!) of I\n",
    " - If A is subset of B and B is element of I than A is element of I\n",
    " - If |A| < |B| than there is element x in B\\A that can create a new set `A with x` that will be element of I.\n",
    "\n",
    " To be honest this method just describe requirements for Greedy algorithm in mathematic language. But it should help you to more clearly understand what happens.\n",
    "\n",
    "So, lets take a look into two examples. First one - `the correct`. For example lets take the coins example. So, we have `N` coins and we need no more than `K` coins with maximum sum. We have the set of coins `X = {x1,x2,...,xN}`, and we will have the `I = {i1,i2,...,iN}` - set of subsets of length at most K. In other world `ik = {y1,y2,..,yk}` is the subset of `X` where `k < K`. Now lets check that all properties are carried out.\n",
    "  \n",
    " - For `K=0` we have the empty set of coins `i = {}` which is part of `I`, because it size is `0 < K`.\n",
    " - Let is assume that `B` is the set of coins and part of `I` where `k=|B|` and `A` is subset of `B`. Because `A` has the number of coin less than `B` (we take only some coins from `B`) and as a consequence less than `K` - it is part of `I`.\n",
    " - Let is assume that `A` and `B` are sets of coins with sizes less than K (there are from the `I`) and `|A| < |B|`. And lets take any elements from `B\\A` and call it `x`. Than if we add `x` to `A` we got a new set of coins `A1`. It size will be equal or less than `B` because the size of `A` less than `B` and one new coin can't made `A` bigger than `B`. Than `|A1| <= |B| < K` Q.E.D. .\n",
    " \n",
    " Now, the another one example - incorrect. Lets take the task about the Backpack. As a reminder - we need take some packages into our backpack with `V` volume with maximum cost of taken packages. Each package has cost and volume. And there are `N` different packages, Ok, lets assume that `X = {x1,x2,..,xN}` is the set of our packages. And let's assume that `I = {i1,..,iK}` is set set of subsets with the volume less than `V`. Ok, now about matroids:\n",
    "  - The empty set is the part of `I`, because the volume of empty set is 0 wich is less than `V`.\n",
    "  - Let is assume that `B` is the set of packages with volume less than `V` and `A` is subset of `B`. Because the subset of `B` has less packages with less volume than we can say, that `|A| < |B| < V` and that is mean that `A` is part of `I`.\n",
    "  - And finally let is assume that `A` and `B` are sets of packages with the volume less than `V` and `|A| < |B|`. Let's take any element from `B\\A` and call it `x`. And we meet the problem, because for some `A` and `B` may not exist such x. For example if `|B| - |A| = 1` and minimum package volume is 2. So, we can't add to any `A` some element to made from it new `A1` that will be the part of matroid. And because of this this task can not be solved by Greedy algorithm.\n",
    "\n",
    "  In simple words, in third condition we shoed that we can't reach the result from any step of algorithm and that mean, that greedy algorithm should think about future and correctness of it actions. And it doesn't.\n"
   ]
  }
 ],
 "metadata": {
  "kernelspec": {
   "display_name": "Python 3.8.3 64-bit ('base': conda)",
   "metadata": {
    "interpreter": {
     "hash": "ecf5722fdaf1897a315d257d89d94520bfcaa453217d5becf09b39e73618b0de"
    }
   },
   "name": "Python 3.8.3 64-bit ('base': conda)"
  },
  "language_info": {
   "codemirror_mode": {
    "name": "ipython",
    "version": 3
   },
   "file_extension": ".py",
   "mimetype": "text/x-python",
   "name": "python",
   "nbconvert_exporter": "python",
   "pygments_lexer": "ipython3",
   "version": "3.8.3-final"
  },
  "toc": {
   "base_numbering": 1,
   "nav_menu": {},
   "number_sections": true,
   "sideBar": true,
   "skip_h1_title": false,
   "title_cell": "Table of Contents",
   "title_sidebar": "Contents",
   "toc_cell": false,
   "toc_position": {},
   "toc_section_display": true,
   "toc_window_display": false
  }
 },
 "nbformat": 4,
 "nbformat_minor": 2
}
