{
 "cells": [
  {
   "cell_type": "markdown",
   "metadata": {},
   "source": [
    "# Little Hints"
   ]
  },
  {
   "cell_type": "markdown",
   "metadata": {},
   "source": [
    "## Python Hash function\n",
    "\n",
    "As you remember, we spoke about hash function some lectures ago. For remeber - this is implementation of data structure 'abstract array' that help us to use any type of objects as index for array. But this is not lecture about algorithms, so lets move to python function `hash()`\n",
    "\n",
    "Hint: `!python -c` mean run the comand inside IPython notebook in console. In other words it run in different python executor from this one, because Python have the same results for all hash function in the same instance (running compilator)."
   ]
  },
  {
   "cell_type": "code",
   "execution_count": 1,
   "metadata": {},
   "outputs": [
    {
     "name": "stdout",
     "output_type": "stream",
     "text": [
      "4656265151972755903\n",
      "2961690919724799914\n",
      "4656265151972755903\n",
      "\n",
      "-8381552111685956419\n",
      "-8381552111685956419\n"
     ]
    }
   ],
   "source": [
    "print (hash(\"abc\"))\n",
    "!python -c \"print(hash(\\\"abc\\\"))\"\n",
    "print (hash(\"abc\"))\n",
    "print()\n",
    "print (hash(\"abce\"))\n",
    "print (hash(\"abc\" + \"e\"))"
   ]
  },
  {
   "cell_type": "markdown",
   "metadata": {},
   "source": [
    "How you can see above, Python has it is own function hash(). Actually this is special function that call `__hash__()` method of object. For basic number types and strings it generate a random number that will be the same for all same basic objects."
   ]
  },
  {
   "cell_type": "code",
   "execution_count": 40,
   "metadata": {},
   "outputs": [
    {
     "name": "stdout",
     "output_type": "stream",
     "text": [
      "-4856418608673722924 1971008705776 abcd True\n",
      "-4856418608673722924 1970971872048\n",
      "-4856418608673722924 1970971872048\n"
     ]
    }
   ],
   "source": [
    "a = \"abcd\"\n",
    "print (hash (a.capitalize().lower()), id (a.capitalize().lower()), a.capitalize().lower(), a.capitalize().lower() == a)\n",
    "print (hash (\"ab\" + \"cd\"), id (\"ab\" + \"cd\"))\n",
    "print (hash (\"a\"+\"b\"+\"cd\"), id (\"a\" + \"b\" + \"cd\"))"
   ]
  },
  {
   "cell_type": "markdown",
   "metadata": {},
   "source": [
    "Plus to this, how you can see, the same strings are stored in different memory, but has the same hash functions."
   ]
  },
  {
   "cell_type": "markdown",
   "metadata": {},
   "source": [
    "For the tuples it just calculate the sum with multipliers"
   ]
  },
  {
   "cell_type": "code",
   "execution_count": 20,
   "metadata": {},
   "outputs": [
    {
     "name": "stdout",
     "output_type": "stream",
     "text": [
      "529344067295497451\n",
      "529344067295497451\n"
     ]
    }
   ],
   "source": [
    "print (hash((1,2,3)))\n",
    "!python -c \"print(hash((1,2,3)))\" # The same inside other python process"
   ]
  },
  {
   "cell_type": "markdown",
   "metadata": {},
   "source": [
    "For other classes you should create you own hash function or use the default (but in such situation you must garant that you object is unmutable)"
   ]
  },
  {
   "cell_type": "code",
   "execution_count": 42,
   "metadata": {},
   "outputs": [
    {
     "name": "stdout",
     "output_type": "stream",
     "text": [
      "1971006446848 1971006447280\n",
      "5 5\n"
     ]
    }
   ],
   "source": [
    "class AA:\n",
    "    def __init__(self):\n",
    "        self.a = 5\n",
    "\n",
    "    def __hash__(self):\n",
    "        return self.a\n",
    "\n",
    "a = AA()\n",
    "b = AA()\n",
    "print (id(a), id(b))\n",
    "print (hash(a), hash(b))"
   ]
  },
  {
   "cell_type": "code",
   "execution_count": 53,
   "metadata": {},
   "outputs": [
    {
     "name": "stdout",
     "output_type": "stream",
     "text": [
      "1971005189136 1971005188896\n",
      "123187824321 123187824306 123187824321\n"
     ]
    }
   ],
   "source": [
    "class BB:\n",
    "    def __init__(self):\n",
    "        self.b = 5\n",
    "\n",
    "a = BB()\n",
    "b = BB()"
   ]
  },
  {
   "cell_type": "code",
   "execution_count": 63,
   "metadata": {},
   "outputs": [
    {
     "name": "stdout",
     "output_type": "stream",
     "text": [
      "1971005189136 1971005188896\n",
      "123187824321 123187824306\n",
      "123187824321 123187824321\n"
     ]
    }
   ],
   "source": [
    "print (id(a), id(b))\n",
    "c = hash(a)\n",
    "print (c, hash(b))\n",
    "a.b = 7\n",
    "a.c = 10\n",
    "print (hash(a), c)"
   ]
  },
  {
   "cell_type": "markdown",
   "metadata": {},
   "source": [
    "How you can see, in variant with automatic hash function it is not changed, because in default it connect to object `id` and use it to calculate the hash. So, be careful when you try use it in dicts"
   ]
  },
  {
   "cell_type": "markdown",
   "metadata": {},
   "source": [
    "## Type casts\n",
    "\n",
    "One of the main feature of Python that it is dynamically typed. In other words, when you rigth a = 5 computer automatically understand that a is int class and it should work with it as with integer type. But sometimes we need recreate our variable inside with other type, for rhis purpose there is type casts"
   ]
  },
  {
   "cell_type": "code",
   "execution_count": 77,
   "metadata": {},
   "outputs": [
    {
     "name": "stdout",
     "output_type": "stream",
     "text": [
      "a: <class 'float'> 5.5\n",
      "b: <class 'int'> 5\n",
      "c: <class 'int'> 6\n"
     ]
    }
   ],
   "source": [
    "a = 5.5\n",
    "print (\"a:\", type(a), a)\n",
    "b = int (a) #round to bottom and create Integer\n",
    "print (\"b:\", type(b), b)\n",
    "c = round(a) #round mathematicaly and create Integer\n",
    "print (\"c:\", type(c), c)"
   ]
  },
  {
   "cell_type": "code",
   "execution_count": null,
   "metadata": {},
   "outputs": [],
   "source": [
    "a = '5' #create String variable\n",
    "a = int (a) #create from String variable Integer\n",
    "print (type(a), a)"
   ]
  },
  {
   "cell_type": "code",
   "execution_count": 80,
   "metadata": {},
   "outputs": [
    {
     "name": "stdout",
     "output_type": "stream",
     "text": [
      "<class 'float'> <class 'str'> 543.53425 543.53425aaa\n"
     ]
    }
   ],
   "source": [
    "a = 543.53425 #create float\n",
    "b = str(a) #create a String from float\n",
    "print (type(a), type(b), a, b + \"aaa\")"
   ]
  },
  {
   "cell_type": "markdown",
   "metadata": {},
   "source": [
    "But what important - you should check if you can cast one type to another or not. For example not any String can be casted into int or double"
   ]
  },
  {
   "cell_type": "code",
   "execution_count": 81,
   "metadata": {},
   "outputs": [
    {
     "ename": "ValueError",
     "evalue": "invalid literal for int() with base 10: 'abc5345.63465e'",
     "output_type": "error",
     "traceback": [
      "\u001b[1;31m---------------------------------------------------------------------------\u001b[0m",
      "\u001b[1;31mValueError\u001b[0m                                Traceback (most recent call last)",
      "\u001b[1;32m<ipython-input-81-6c6bfeab02a0>\u001b[0m in \u001b[0;36m<module>\u001b[1;34m\u001b[0m\n\u001b[0;32m      1\u001b[0m \u001b[0ma\u001b[0m \u001b[1;33m=\u001b[0m \u001b[1;34m\"abc5345.63465e\"\u001b[0m\u001b[1;33m\u001b[0m\u001b[1;33m\u001b[0m\u001b[0m\n\u001b[1;32m----> 2\u001b[1;33m \u001b[0mint\u001b[0m \u001b[1;33m(\u001b[0m\u001b[0ma\u001b[0m\u001b[1;33m)\u001b[0m\u001b[1;33m\u001b[0m\u001b[1;33m\u001b[0m\u001b[0m\n\u001b[0m",
      "\u001b[1;31mValueError\u001b[0m: invalid literal for int() with base 10: 'abc5345.63465e'"
     ]
    }
   ],
   "source": [
    "a = \"abc5345.63465e\"\n",
    "int (a)"
   ]
  },
  {
   "cell_type": "code",
   "execution_count": 82,
   "metadata": {},
   "outputs": [
    {
     "ename": "ValueError",
     "evalue": "could not convert string to float: 'abc5345.63465e'",
     "output_type": "error",
     "traceback": [
      "\u001b[1;31m---------------------------------------------------------------------------\u001b[0m",
      "\u001b[1;31mValueError\u001b[0m                                Traceback (most recent call last)",
      "\u001b[1;32m<ipython-input-82-04b7b3327a8c>\u001b[0m in \u001b[0;36m<module>\u001b[1;34m\u001b[0m\n\u001b[0;32m      1\u001b[0m \u001b[0ma\u001b[0m \u001b[1;33m=\u001b[0m \u001b[1;34m\"abc5345.63465e\"\u001b[0m\u001b[1;33m\u001b[0m\u001b[1;33m\u001b[0m\u001b[0m\n\u001b[1;32m----> 2\u001b[1;33m \u001b[0mfloat\u001b[0m \u001b[1;33m(\u001b[0m\u001b[0ma\u001b[0m\u001b[1;33m)\u001b[0m\u001b[1;33m\u001b[0m\u001b[1;33m\u001b[0m\u001b[0m\n\u001b[0m",
      "\u001b[1;31mValueError\u001b[0m: could not convert string to float: 'abc5345.63465e'"
     ]
    }
   ],
   "source": [
    "a = \"abc5345.63465e\"\n",
    "float (a)"
   ]
  },
  {
   "cell_type": "markdown",
   "metadata": {},
   "source": [
    "And even if you write wrong delimeter comma instead of point everything can break."
   ]
  },
  {
   "cell_type": "code",
   "execution_count": 84,
   "metadata": {},
   "outputs": [
    {
     "ename": "ValueError",
     "evalue": "could not convert string to float: '252345,52345'",
     "output_type": "error",
     "traceback": [
      "\u001b[1;31m---------------------------------------------------------------------------\u001b[0m",
      "\u001b[1;31mValueError\u001b[0m                                Traceback (most recent call last)",
      "\u001b[1;32m<ipython-input-84-20051292f190>\u001b[0m in \u001b[0;36m<module>\u001b[1;34m\u001b[0m\n\u001b[0;32m      1\u001b[0m \u001b[0ma\u001b[0m \u001b[1;33m=\u001b[0m \u001b[1;34m\"252345,52345\"\u001b[0m\u001b[1;33m\u001b[0m\u001b[1;33m\u001b[0m\u001b[0m\n\u001b[1;32m----> 2\u001b[1;33m \u001b[0mfloat\u001b[0m\u001b[1;33m(\u001b[0m\u001b[0ma\u001b[0m\u001b[1;33m)\u001b[0m\u001b[1;33m\u001b[0m\u001b[1;33m\u001b[0m\u001b[0m\n\u001b[0m",
      "\u001b[1;31mValueError\u001b[0m: could not convert string to float: '252345,52345'"
     ]
    }
   ],
   "source": [
    "a = \"252345,52345\"\n",
    "float(a)"
   ]
  },
  {
   "cell_type": "markdown",
   "metadata": {},
   "source": [
    "But this is not the all. Another one intersting theme - custom type cast in user define class. For this purpose there are special methods `__int__`, `__float__`, `__str__`. And of course to cast from int, float and string you need only create an  `__init__` function that can work with them."
   ]
  },
  {
   "cell_type": "code",
   "execution_count": 89,
   "metadata": {},
   "outputs": [],
   "source": [
    "class mul:\n",
    "    def __init__ (self, param):\n",
    "        if (type(param) == type(0)):\n",
    "            self.a = param + 1\n",
    "        if (type(param) == type(0.0)):\n",
    "            self.a = param + 0.1\n",
    "        if (type(param) == type('a')):\n",
    "            self.a = param + \"1\"\n",
    "    \n",
    "    def __int__(self):\n",
    "        return int(self.a)\n",
    "\n",
    "    def __float__(self):\n",
    "        return float(self.a)\n",
    "\n",
    "    def __str__(self):\n",
    "        return str(self.a)"
   ]
  },
  {
   "cell_type": "code",
   "execution_count": 97,
   "metadata": {},
   "outputs": [
    {
     "name": "stdout",
     "output_type": "stream",
     "text": [
      "2 1.3 11\n",
      "2.0 1.3aaa 11\n"
     ]
    }
   ],
   "source": [
    "a = mul(1)\n",
    "b = mul(1.2)\n",
    "c = mul(\"1\")\n",
    "print (a,b,c)\n",
    "print (float(a), str(b) + 'aaa', int(c))"
   ]
  },
  {
   "cell_type": "markdown",
   "metadata": {},
   "source": [
    "And to be honest, command print trying every time cast all arguments into strings. Lets check it"
   ]
  },
  {
   "cell_type": "code",
   "execution_count": 100,
   "metadata": {},
   "outputs": [
    {
     "name": "stdout",
     "output_type": "stream",
     "text": [
      "str call\n",
      "2\n"
     ]
    }
   ],
   "source": [
    "class tryy:\n",
    "    def __init__(self):\n",
    "        self.a = 4\n",
    "\n",
    "    def __str__(self):\n",
    "        print (\"str call\")\n",
    "        return str(self.a)\n",
    "\n",
    "a = tryy()\n",
    "a.a = 2\n",
    "print (a)"
   ]
  },
  {
   "cell_type": "markdown",
   "metadata": {},
   "source": [
    "So, actualy there is a lot more interesting themes about types casting in python, but they are about dynamic casting and we will not consider them"
   ]
  },
  {
   "cell_type": "markdown",
   "metadata": {},
   "source": [
    "## Generators\n",
    "\n",
    "This is special function that can work with pause. In other words you can put breakpoints inside code that will stop function till next it calling. This is used for creating infinit sequence (from 1 to inf) and etc."
   ]
  },
  {
   "cell_type": "code",
   "execution_count": 103,
   "metadata": {},
   "outputs": [],
   "source": [
    "def nextInt():\n",
    "    print (\"start generator\")\n",
    "    i = 0\n",
    "    while True:\n",
    "        yield i\n",
    "        i += 1"
   ]
  },
  {
   "cell_type": "markdown",
   "metadata": {},
   "source": [
    "The key words for work pause is yield. When function meet this words, it return the value after and pause the execution"
   ]
  },
  {
   "cell_type": "code",
   "execution_count": 105,
   "metadata": {},
   "outputs": [
    {
     "data": {
      "text/plain": [
       "<generator object nextInt at 0x000001CAE948FA50>"
      ]
     },
     "execution_count": 105,
     "metadata": {},
     "output_type": "execute_result"
    }
   ],
   "source": [
    "a = nextInt()\n",
    "a"
   ]
  },
  {
   "cell_type": "markdown",
   "metadata": {},
   "source": [
    "As we can see, function return to us not the new int, but generator object. And actually all generator functions just create a special objects that can be called with comand `next(generator)`"
   ]
  },
  {
   "cell_type": "code",
   "execution_count": 106,
   "metadata": {},
   "outputs": [
    {
     "name": "stdout",
     "output_type": "stream",
     "text": [
      "start generator\n",
      "0\n",
      "1\n",
      "2\n",
      "3\n",
      "4\n"
     ]
    }
   ],
   "source": [
    "print (next(a))\n",
    "print (next(a))\n",
    "print (next(a))\n",
    "print (next(a))\n",
    "print (next(a))"
   ]
  },
  {
   "cell_type": "markdown",
   "metadata": {},
   "source": [
    "You can write `next(a)` as many times as you want, and it will return the new value each time. But, if there will be conditions for stop it will raise the exception `StopIteration`"
   ]
  },
  {
   "cell_type": "code",
   "execution_count": 107,
   "metadata": {},
   "outputs": [],
   "source": [
    "def gen2(val): #custom range function\n",
    "    i = 0\n",
    "    while i<val:\n",
    "        yield i\n",
    "        i += 1"
   ]
  },
  {
   "cell_type": "code",
   "execution_count": 108,
   "metadata": {},
   "outputs": [
    {
     "name": "stdout",
     "output_type": "stream",
     "text": [
      "0\n",
      "1\n",
      "2\n",
      "3\n"
     ]
    },
    {
     "ename": "StopIteration",
     "evalue": "",
     "output_type": "error",
     "traceback": [
      "\u001b[1;31m---------------------------------------------------------------------------\u001b[0m",
      "\u001b[1;31mStopIteration\u001b[0m                             Traceback (most recent call last)",
      "\u001b[1;32m<ipython-input-108-e74f75fcb959>\u001b[0m in \u001b[0;36m<module>\u001b[1;34m\u001b[0m\n\u001b[0;32m      4\u001b[0m \u001b[0mprint\u001b[0m \u001b[1;33m(\u001b[0m\u001b[0mnext\u001b[0m\u001b[1;33m(\u001b[0m\u001b[0ma\u001b[0m\u001b[1;33m)\u001b[0m\u001b[1;33m)\u001b[0m\u001b[1;33m\u001b[0m\u001b[1;33m\u001b[0m\u001b[0m\n\u001b[0;32m      5\u001b[0m \u001b[0mprint\u001b[0m \u001b[1;33m(\u001b[0m\u001b[0mnext\u001b[0m\u001b[1;33m(\u001b[0m\u001b[0ma\u001b[0m\u001b[1;33m)\u001b[0m\u001b[1;33m)\u001b[0m\u001b[1;33m\u001b[0m\u001b[1;33m\u001b[0m\u001b[0m\n\u001b[1;32m----> 6\u001b[1;33m \u001b[0mprint\u001b[0m \u001b[1;33m(\u001b[0m\u001b[0mnext\u001b[0m\u001b[1;33m(\u001b[0m\u001b[0ma\u001b[0m\u001b[1;33m)\u001b[0m\u001b[1;33m)\u001b[0m\u001b[1;33m\u001b[0m\u001b[1;33m\u001b[0m\u001b[0m\n\u001b[0m",
      "\u001b[1;31mStopIteration\u001b[0m: "
     ]
    }
   ],
   "source": [
    "a = gen2(4)\n",
    "print (next(a))\n",
    "print (next(a))\n",
    "print (next(a))\n",
    "print (next(a))\n",
    "print (next(a))"
   ]
  },
  {
   "cell_type": "markdown",
   "metadata": {},
   "source": [
    "And of course as for many other things in Python, there are some hints for fast and simple creating generators"
   ]
  },
  {
   "cell_type": "code",
   "execution_count": 114,
   "metadata": {},
   "outputs": [
    {
     "data": {
      "text/plain": [
       "<generator object <genexpr> at 0x000001CAE984FF90>"
      ]
     },
     "execution_count": 114,
     "metadata": {},
     "output_type": "execute_result"
    }
   ],
   "source": [
    "a = (x for x in range(15))\n",
    "a"
   ]
  },
  {
   "cell_type": "code",
   "execution_count": 110,
   "metadata": {},
   "outputs": [
    {
     "data": {
      "text/plain": [
       "0"
      ]
     },
     "execution_count": 110,
     "metadata": {},
     "output_type": "execute_result"
    }
   ],
   "source": [
    "next(a)"
   ]
  },
  {
   "cell_type": "code",
   "execution_count": 115,
   "metadata": {},
   "outputs": [
    {
     "name": "stdout",
     "output_type": "stream",
     "text": [
      "0\n",
      "1\n",
      "2\n"
     ]
    }
   ],
   "source": [
    "print (next(a))\n",
    "print (next(a))\n",
    "print (next(a))"
   ]
  },
  {
   "cell_type": "markdown",
   "metadata": {},
   "source": [
    "You can even create a list of objects from generator, but be careful, never try create a list from infinity generator. "
   ]
  },
  {
   "cell_type": "code",
   "execution_count": 116,
   "metadata": {},
   "outputs": [
    {
     "data": {
      "text/plain": [
       "[3, 4, 5, 6, 7, 8, 9, 10, 11, 12, 13, 14]"
      ]
     },
     "execution_count": 116,
     "metadata": {},
     "output_type": "execute_result"
    }
   ],
   "source": [
    "list(a)"
   ]
  },
  {
   "cell_type": "markdown",
   "metadata": {},
   "source": [
    "And of course there is not restriction for number of yield comands. You can create them as many as you want"
   ]
  },
  {
   "cell_type": "code",
   "execution_count": 117,
   "metadata": {},
   "outputs": [
    {
     "name": "stdout",
     "output_type": "stream",
     "text": [
      "start\n",
      "first\n",
      "second\n",
      "third\n"
     ]
    }
   ],
   "source": [
    "def gen3():\n",
    "    print (\"start\")\n",
    "    yield \"first\"\n",
    "    #do something\n",
    "    yield \"second\"\n",
    "    yield \"third\"\n",
    "\n",
    "a = gen3()\n",
    "print (next(a))\n",
    "print (next(a))\n",
    "print (next(a))"
   ]
  },
  {
   "cell_type": "code",
   "execution_count": 119,
   "metadata": {},
   "outputs": [
    {
     "name": "stdout",
     "output_type": "stream",
     "text": [
      "even\n",
      "odd\n",
      "even\n",
      "odd\n",
      "even\n",
      "odd\n"
     ]
    }
   ],
   "source": [
    "def gen4():\n",
    "    i = 0\n",
    "    while True:\n",
    "        if (i%2 == 0):\n",
    "            yield \"even\"\n",
    "            i += 1\n",
    "        else:\n",
    "            yield \"odd\"\n",
    "            i += 1\n",
    "\n",
    "a = gen4()\n",
    "print (next(a))\n",
    "print (next(a))\n",
    "print (next(a))\n",
    "print (next(a))\n",
    "print (next(a))\n",
    "print (next(a))"
   ]
  },
  {
   "cell_type": "markdown",
   "metadata": {},
   "source": [
    "So, with generators you can create some useful and simple function, that can step by step generate some objects, each time remeber about previous steps."
   ]
  },
  {
   "cell_type": "markdown",
   "metadata": {},
   "source": [
    "## List comprehension"
   ]
  },
  {
   "cell_type": "code",
   "execution_count": 121,
   "metadata": {},
   "outputs": [
    {
     "name": "stdout",
     "output_type": "stream",
     "text": [
      "[0, 1, 4, 9]\n"
     ]
    }
   ],
   "source": [
    "squares = [i**2 for i in range(4)]\n",
    "print (squares)"
   ]
  },
  {
   "cell_type": "markdown",
   "metadata": {},
   "source": [
    "List comprehension is very famous special syntax for simple creating of lists or dictionaries from some data with `for` function (applied for each element in other iterable object (object on which you can walk through, like list,array or dictionary))\n",
    "\n",
    "For example the list above with usual `for` will looks like"
   ]
  },
  {
   "cell_type": "code",
   "execution_count": 123,
   "metadata": {},
   "outputs": [
    {
     "name": "stdout",
     "output_type": "stream",
     "text": [
      "[0, 1, 4, 9, 16, 25, 36, 49, 64, 81]\n"
     ]
    }
   ],
   "source": [
    "squares = []\n",
    "for x in range(10):\n",
    "  squares.append(x ** 2)\n",
    "print (squares)"
   ]
  },
  {
   "cell_type": "markdown",
   "metadata": {},
   "source": [
    "In general list comprehension looks like `[expr1(x) if (cond1) else expr2(x) for list2 in list1 for list3 in list2 ... for x in listN if (cond2)]`. There expr1/2 is some function like x**2 or abs(x) that you apply for each element. cond1/2 are bool expressions\n",
    "\n",
    "\n",
    "If condition at the begining is for choose element to remember (expr1 or expr2). If it with, than the result of expr 1 will save when cond1 == True, else expr2 will save in the list"
   ]
  },
  {
   "cell_type": "code",
   "execution_count": 125,
   "metadata": {},
   "outputs": [
    {
     "name": "stdout",
     "output_type": "stream",
     "text": [
      "[0, 2, 4, 6]\n"
     ]
    }
   ],
   "source": [
    "a = [x for x in range(7) if x%2==0 ]\n",
    "print (a) #only even numbers"
   ]
  },
  {
   "cell_type": "code",
   "execution_count": 126,
   "metadata": {},
   "outputs": [
    {
     "name": "stdout",
     "output_type": "stream",
     "text": [
      "[0, -1, 2, -1, 4, -1, 6]\n"
     ]
    }
   ],
   "source": [
    "a = [x if x%2==0 else -1 for x in range(7)]\n",
    "print (a)#odd numbers turn into -1"
   ]
  },
  {
   "cell_type": "markdown",
   "metadata": {},
   "source": [
    "Second if will help to filter elements inside list and can be used with first one"
   ]
  },
  {
   "cell_type": "code",
   "execution_count": 128,
   "metadata": {},
   "outputs": [
    {
     "name": "stdout",
     "output_type": "stream",
     "text": [
      "[1, 2, 3, 5, 6]\n"
     ]
    }
   ],
   "source": [
    "a = [x for x in range(7) if x%4!=0]\n",
    "print (a)"
   ]
  },
  {
   "cell_type": "code",
   "execution_count": 129,
   "metadata": {},
   "outputs": [
    {
     "name": "stdout",
     "output_type": "stream",
     "text": [
      "[-1, 2, -1, -1, 6]\n"
     ]
    }
   ],
   "source": [
    "a = [x if x%2==0 else -1 for x in range(7) if x%4!=0]\n",
    "print (a)"
   ]
  },
  {
   "cell_type": "markdown",
   "metadata": {},
   "source": [
    "As I saied before - expr1/2 can be any function"
   ]
  },
  {
   "cell_type": "code",
   "execution_count": 130,
   "metadata": {},
   "outputs": [
    {
     "name": "stdout",
     "output_type": "stream",
     "text": [
      "0\n",
      "1\n",
      "2\n",
      "3\n",
      "4\n",
      "5\n",
      "[-5, -4, -1, 4, 11, 20]\n"
     ]
    }
   ],
   "source": [
    "def funct(x):\n",
    "    print (x)\n",
    "    return x**2 - 5\n",
    "\n",
    "a = [funct(x) for x in range(6)]\n",
    "print (a)"
   ]
  },
  {
   "cell_type": "markdown",
   "metadata": {},
   "source": [
    "And of course the list can contain tuples or difficult object that you can unpack.\n",
    "\n",
    "Hints: Python have special function `enumerate(list)` that return list of pairs (index, element)"
   ]
  },
  {
   "cell_type": "code",
   "execution_count": 132,
   "metadata": {},
   "outputs": [
    {
     "name": "stdout",
     "output_type": "stream",
     "text": [
      "[(0, 5), (1, 6), (2, 7), (3, 8), (4, 9)]\n",
      "[5, 7, 9, 11, 13]\n"
     ]
    }
   ],
   "source": [
    "a = [a+b for (a,b) in enumerate (range(5,10))]\n",
    "print (list (enumerate (range(5,10))))\n",
    "print (a)"
   ]
  },
  {
   "cell_type": "markdown",
   "metadata": {},
   "source": [
    "As you can notice inside general construction, you can unpack not only list, but list of lists of lists of.... elements"
   ]
  },
  {
   "cell_type": "code",
   "execution_count": 137,
   "metadata": {},
   "outputs": [
    {
     "name": "stdout",
     "output_type": "stream",
     "text": [
      "[[[1, 2, 3], [4, 5, 6], [7, 8, 9]], [[3, 2, 1], [4, 3, 2]]]\n",
      "[1, 2, 3, 4, 5, 6, 7, 8, 9, 3, 2, 1, 4, 3, 2]\n"
     ]
    }
   ],
   "source": [
    "a = [ [[1,2,3], [4,5,6], [7,8,9]],\\\n",
    "    [[3,2,1], [4,3,2]] ]\n",
    "print (a)\n",
    "\n",
    "b = [z for list1 in a for list2 in list1 for z in list2]\n",
    "print (b)"
   ]
  },
  {
   "cell_type": "markdown",
   "metadata": {},
   "source": [
    "Finaly, you can create a list inside list in one expression"
   ]
  },
  {
   "cell_type": "code",
   "execution_count": 141,
   "metadata": {},
   "outputs": [
    {
     "name": "stdout",
     "output_type": "stream",
     "text": [
      "[['a', 'q', 't', 'f'], ['b', 'w', 'y', 'g'], ['c', 'e', 'u', 'h'], ['d', 'r', 'i', 'j']]\n",
      "[['a', 'b', 'c', 'd'], ['q', 'w', 'e', 'r'], ['t', 'y', 'u', 'i'], ['f', 'g', 'h', 'j']]\n"
     ]
    }
   ],
   "source": [
    "s = [\"abcd\", \"qwer\", \"tyui\", \"fghj\"]\n",
    "a = [[s[i][j] for i in range(4)] for j in range(4)]\n",
    "print (a)\n",
    "\n",
    "a = [[i for i in j] for j in s]\n",
    "print (a)"
   ]
  },
  {
   "cell_type": "markdown",
   "metadata": {},
   "source": [
    "And what intersting, all this things you can do even with dictionaries. There is only one different, you should use not the `expr1` or `expr2`, but `expr1:expr2` and `expr3:expr4`"
   ]
  },
  {
   "cell_type": "code",
   "execution_count": 142,
   "metadata": {},
   "outputs": [
    {
     "name": "stdout",
     "output_type": "stream",
     "text": [
      "{0: 0, 2: 4, 4: 16, 6: 36, 8: 64}\n"
     ]
    }
   ],
   "source": [
    "a = {i:i**2 for i in range(10) if i%2 == 0}\n",
    "print (a)"
   ]
  },
  {
   "cell_type": "markdown",
   "metadata": {},
   "source": [
    "## Zip, * and lambda"
   ]
  },
  {
   "cell_type": "markdown",
   "metadata": {},
   "source": [
    "### Zip\n",
    "\n",
    "Now some little hints. First of all zip function"
   ]
  },
  {
   "cell_type": "code",
   "execution_count": 6,
   "metadata": {},
   "outputs": [
    {
     "data": {
      "text/plain": [
       "[('a', 1), ('b', 2), ('c', 3)]"
      ]
     },
     "execution_count": 6,
     "metadata": {},
     "output_type": "execute_result"
    }
   ],
   "source": [
    "list (zip (['a','b','c'], (1,2,3)))"
   ]
  },
  {
   "cell_type": "markdown",
   "metadata": {},
   "source": [
    "With this function you can combine elements from different arrays element by element. More close - we take elements from each arrays and combine them into new tuple, than move to next element in each array.\n",
    "\n",
    "\\[1,2,3\\] \\[4,5,6\\] \\[7,8,9\\] -> (1,4,7), (2,5,8) (3,6,9)"
   ]
  },
  {
   "cell_type": "code",
   "execution_count": 7,
   "metadata": {},
   "outputs": [
    {
     "data": {
      "text/plain": [
       "[(1, 4, 7), (2, 5, 8), (3, 6, 9)]"
      ]
     },
     "execution_count": 7,
     "metadata": {},
     "output_type": "execute_result"
    }
   ],
   "source": [
    "list (zip ([1,2,3],[4,5,6],[7,8,9]))"
   ]
  },
  {
   "cell_type": "markdown",
   "metadata": {},
   "source": [
    "What more interesting - zip is lazy function (like generator) and can work with any object that can be went through "
   ]
  },
  {
   "cell_type": "code",
   "execution_count": 8,
   "metadata": {},
   "outputs": [
    {
     "name": "stdout",
     "output_type": "stream",
     "text": [
      "(0, 0)\n",
      "(1, 1)\n",
      "(2, 4)\n",
      "(3, 9)\n"
     ]
    }
   ],
   "source": [
    "def gen1():\n",
    "    i = 0\n",
    "    while True:\n",
    "        yield i\n",
    "        i += 1\n",
    "\n",
    "def gen2():\n",
    "    i = 0\n",
    "    while True:\n",
    "        yield i*i\n",
    "        i += 1\n",
    "\n",
    "a = gen1()\n",
    "b = gen2()\n",
    "c = zip (a,b) # Not even try to call list(c) because it is infinity cycle\n",
    "print (next(c))\n",
    "print (next(c))\n",
    "print (next(c))\n",
    "print (next(c))"
   ]
  },
  {
   "cell_type": "markdown",
   "metadata": {},
   "source": [
    "You also can use zip with different length arrays. In this case zip will combine elements till the end of shortest array."
   ]
  },
  {
   "cell_type": "code",
   "execution_count": 9,
   "metadata": {},
   "outputs": [
    {
     "data": {
      "text/plain": [
       "[(1, 'a'), (2, 'b'), (3, 'c')]"
      ]
     },
     "execution_count": 9,
     "metadata": {},
     "output_type": "execute_result"
    }
   ],
   "source": [
    "a = [1,2,3,4,5]\n",
    "b = ['a','b','c']\n",
    "list (zip (a,b))"
   ]
  },
  {
   "cell_type": "markdown",
   "metadata": {},
   "source": [
    "And of course we can use it in list comprehension. Actually this is the thing for what zip was created"
   ]
  },
  {
   "cell_type": "code",
   "execution_count": 12,
   "metadata": {},
   "outputs": [
    {
     "name": "stdout",
     "output_type": "stream",
     "text": [
      "[6, 6, 11]\n",
      "[1, 1, 3]\n"
     ]
    }
   ],
   "source": [
    "a = [1,3,2]\n",
    "b = [4,1,6]\n",
    "c = [1,2,3]\n",
    "\n",
    "\n",
    "a = [sum(x) for x in zip(a,b,c)]\n",
    "print (a)\n",
    "print ([min(x) for x in zip(a,b,c)])"
   ]
  },
  {
   "cell_type": "markdown",
   "metadata": {},
   "source": [
    "### *\n",
    "\n",
    "Now lets add for zip inverse function *. It turn any container into the 'list' of elements. Not the array, but actually the number of elements that is not connected to each other"
   ]
  },
  {
   "cell_type": "code",
   "execution_count": 19,
   "metadata": {},
   "outputs": [
    {
     "name": "stdout",
     "output_type": "stream",
     "text": [
      "[1, 2, 3, 1, 2, 3]\n"
     ]
    }
   ],
   "source": [
    "a = [1,2,3]\n",
    "a = [*a,*a] # a* -> 1,2,3\n",
    "print (a)"
   ]
  },
  {
   "cell_type": "markdown",
   "metadata": {},
   "source": [
    "This special mechanisme help us to put array inside function with many arguments. Just compare this:"
   ]
  },
  {
   "cell_type": "code",
   "execution_count": 21,
   "metadata": {},
   "outputs": [
    {
     "name": "stdout",
     "output_type": "stream",
     "text": [
      "6\n",
      "6\n"
     ]
    }
   ],
   "source": [
    "def sum(a,b,c):\n",
    "    return a+b+c\n",
    "\n",
    "a = [1,2,3]\n",
    "print (sum(a[0],a[1],a[2]))\n",
    "#or\n",
    "print (sum(*a))"
   ]
  },
  {
   "cell_type": "markdown",
   "metadata": {},
   "source": [
    "And how you could guess you can use zip function with * to unzip you tuple array. In closer it will looks like creating a number of tuples from array that then we send into zip as many argumnets and zip combine all elements from tuples to create an arrays back. Lets try"
   ]
  },
  {
   "cell_type": "code",
   "execution_count": 24,
   "metadata": {},
   "outputs": [
    {
     "name": "stdout",
     "output_type": "stream",
     "text": [
      "[(1, 'a'), (2, 'b'), (3, 'c')]\n"
     ]
    }
   ],
   "source": [
    "a = [1,2,3]\n",
    "b = ['a','b','c']\n",
    "c = list(zip(a,b))\n",
    "print (c)"
   ]
  },
  {
   "cell_type": "code",
   "execution_count": 25,
   "metadata": {},
   "outputs": [
    {
     "name": "stdout",
     "output_type": "stream",
     "text": [
      "(1, 2, 3) ('a', 'b', 'c')\n"
     ]
    }
   ],
   "source": [
    "e,f = zip(*c) # zip(*c) = zip (c[0], c[1], c[2]) = zip ((1,'a'), (2,'b'), (3,'c')) -> (1,2,3), ('a','b','c')\n",
    "print (e,f) "
   ]
  },
  {
   "cell_type": "markdown",
   "metadata": {},
   "source": [
    "Finaly you can use it to unpack your matrix into the line"
   ]
  },
  {
   "cell_type": "code",
   "execution_count": 28,
   "metadata": {},
   "outputs": [
    {
     "name": "stdout",
     "output_type": "stream",
     "text": [
      "[(1, 1, 1), (2, 4, 8), (3, 9, 27), (4, 16, 64)]\n",
      "[1, 2, 3, 4, 1, 4, 9, 16, 1, 8, 27, 64]\n"
     ]
    }
   ],
   "source": [
    "a = [(i,i**2,i**3) for i in [1,2,3,4]]\n",
    "print (a)\n",
    "print ([i for j in zip(*a) for i in j])"
   ]
  },
  {
   "cell_type": "markdown",
   "metadata": {},
   "source": [
    "### Lambda fucntions\n",
    "\n",
    "The last but not the list interesting moment in Python (and many other languages actually) is lambda functions. In simple it is anonymous function that we can create here and now for our calculation and then forget about it."
   ]
  },
  {
   "cell_type": "code",
   "execution_count": 1,
   "metadata": {},
   "outputs": [
    {
     "data": {
      "text/plain": [
       "10"
      ]
     },
     "execution_count": 1,
     "metadata": {},
     "output_type": "execute_result"
    }
   ],
   "source": [
    "(lambda x: x+5)(5)"
   ]
  },
  {
   "cell_type": "markdown",
   "metadata": {},
   "source": [
    "So, we can create a lambda functions inside the line where we can use it, and then use. And we can stored it like an object"
   ]
  },
  {
   "cell_type": "code",
   "execution_count": 6,
   "metadata": {},
   "outputs": [
    {
     "name": "stdout",
     "output_type": "stream",
     "text": [
      "[6, 7, 8, 9, 10]\n"
     ]
    }
   ],
   "source": [
    "a = lambda x: x + 5\n",
    "b = [a(i) for i in (1,2,3,4,5)]\n",
    "print (b)"
   ]
  },
  {
   "cell_type": "markdown",
   "metadata": {},
   "source": [
    "We can create a default meaning of variables of lambda fucntions"
   ]
  },
  {
   "cell_type": "code",
   "execution_count": 20,
   "metadata": {},
   "outputs": [
    {
     "name": "stdout",
     "output_type": "stream",
     "text": [
      "7 6\n"
     ]
    }
   ],
   "source": [
    "a = lambda x=2 : x + 5\n",
    "print (a(), a(1))"
   ]
  },
  {
   "cell_type": "markdown",
   "metadata": {},
   "source": [
    "Ok, lambda is function object that you can call with operator (). And now about where you can use it. Some function can take as argument function-object, for example `filter` or `sort` function. In first case you should give it function that take inside one argument and return false or true"
   ]
  },
  {
   "cell_type": "code",
   "execution_count": 9,
   "metadata": {},
   "outputs": [
    {
     "name": "stdout",
     "output_type": "stream",
     "text": [
      "[2, 4, 6, 8]\n"
     ]
    }
   ],
   "source": [
    "a = [1,2,3,4,5,6,7,8]\n",
    "a = list (filter (lambda x: x%2 == 0, a))\n",
    "print (a)"
   ]
  },
  {
   "cell_type": "markdown",
   "metadata": {},
   "source": [
    "More often people like use it with fucntion `map` that calc function for each element in sequence. Yes, for this purpose there is list coprehension, but in other complex libraries and fraemwork like spark usualy used map, so it will be usesfull to know how to work with lambda"
   ]
  },
  {
   "cell_type": "code",
   "execution_count": 12,
   "metadata": {},
   "outputs": [
    {
     "name": "stdout",
     "output_type": "stream",
     "text": [
      "1\n",
      "4\n",
      "[9, 16]\n"
     ]
    }
   ],
   "source": [
    "a = [1,2,3,4]\n",
    "b = map(lambda x: x**2, a)\n",
    "print (next(b))\n",
    "print (next(b))\n",
    "print (list(b))"
   ]
  },
  {
   "cell_type": "markdown",
   "metadata": {},
   "source": [
    "You can use in lambda as many variables as you want"
   ]
  },
  {
   "cell_type": "code",
   "execution_count": 13,
   "metadata": {},
   "outputs": [
    {
     "name": "stdout",
     "output_type": "stream",
     "text": [
      "7\n"
     ]
    }
   ],
   "source": [
    "a = lambda x,y,z: x+y*z\n",
    "b = [1,2,3]\n",
    "print (a(*b))"
   ]
  },
  {
   "cell_type": "markdown",
   "metadata": {},
   "source": [
    "And even you can use variable from outerspace in lambda"
   ]
  },
  {
   "cell_type": "code",
   "execution_count": 14,
   "metadata": {},
   "outputs": [
    {
     "name": "stdout",
     "output_type": "stream",
     "text": [
      "7 8 6\n"
     ]
    }
   ],
   "source": [
    "a = 5\n",
    "b = lambda x: x + 5\n",
    "print (b(2), b(3), b(1))"
   ]
  },
  {
   "cell_type": "code",
   "execution_count": 16,
   "metadata": {},
   "outputs": [
    {
     "name": "stdout",
     "output_type": "stream",
     "text": [
      "[5, 5, 5, 5]\n"
     ]
    }
   ],
   "source": [
    "a = []\n",
    "for i in range (5):\n",
    "    a.append (lambda x: x+i) #creating the list of different functions for each i\n",
    "\n",
    "b = [1,2,3,4]\n",
    "c = [x(y) for x,y in zip (a,b)] # calculate for each element in b function from a\n",
    "print (c)"
   ]
  },
  {
   "cell_type": "markdown",
   "metadata": {},
   "source": [
    "Hmm, that is not what we want, don't it? It happens because lambda not created fully and still use the local 'i' variable"
   ]
  },
  {
   "cell_type": "code",
   "execution_count": 17,
   "metadata": {},
   "outputs": [
    {
     "name": "stdout",
     "output_type": "stream",
     "text": [
      "[11, 12, 13, 14]\n"
     ]
    }
   ],
   "source": [
    "a = []\n",
    "for i in range (5):\n",
    "    a.append (lambda x: x+i) #creating the list of different functions for each i\n",
    "\n",
    "i = 10\n",
    "b = [1,2,3,4]\n",
    "c = [x(y) for x,y in zip (a,b)] # calculate for each element in b function from a\n",
    "print (c)"
   ]
  },
  {
   "cell_type": "code",
   "execution_count": 18,
   "metadata": {},
   "outputs": [
    {
     "name": "stdout",
     "output_type": "stream",
     "text": [
      "[16, 17, 18, 19]\n"
     ]
    }
   ],
   "source": [
    "i = 15\n",
    "c = [x(y) for x,y in zip (a,b)] # calculate for each element in b function from a\n",
    "print (c)"
   ]
  },
  {
   "cell_type": "markdown",
   "metadata": {},
   "source": [
    "To prevent it we should store the i mean indide lambda fucntions by creating second variable where we write it with default  value"
   ]
  },
  {
   "cell_type": "code",
   "execution_count": 21,
   "metadata": {},
   "outputs": [
    {
     "name": "stdout",
     "output_type": "stream",
     "text": [
      "[1, 3, 5, 7]\n"
     ]
    }
   ],
   "source": [
    "a = []\n",
    "for i in range (5):\n",
    "    a.append (lambda x,y=i: x+y) #creating the list of different functions for each i\n",
    "\n",
    "i = 10\n",
    "b = [1,2,3,4]\n",
    "c = [x(y) for x,y in zip (a,b)] # calculate for each element in b function from a\n",
    "print (c)"
   ]
  },
  {
   "cell_type": "markdown",
   "metadata": {},
   "source": [
    "And we got write result. "
   ]
  },
  {
   "cell_type": "markdown",
   "metadata": {},
   "source": [
    "That is all I want to tell you. Feal free to use all of this hints and till the next lecture"
   ]
  }
 ],
 "metadata": {
  "kernelspec": {
   "display_name": "Python 3",
   "language": "python",
   "name": "python3"
  },
  "language_info": {
   "codemirror_mode": {
    "name": "ipython",
    "version": 3
   },
   "file_extension": ".py",
   "mimetype": "text/x-python",
   "name": "python",
   "nbconvert_exporter": "python",
   "pygments_lexer": "ipython3",
   "version": "3.8.5"
  },
  "toc": {
   "base_numbering": 1,
   "nav_menu": {},
   "number_sections": true,
   "sideBar": true,
   "skip_h1_title": false,
   "title_cell": "Table of Contents",
   "title_sidebar": "Contents",
   "toc_cell": false,
   "toc_position": {},
   "toc_section_display": true,
   "toc_window_display": false
  }
 },
 "nbformat": 4,
 "nbformat_minor": 2
}
