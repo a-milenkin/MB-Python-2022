{
 "cells": [
  {
   "cell_type": "markdown",
   "metadata": {
    "colab_type": "text",
    "id": "lSvu660EtkAu"
   },
   "source": [
    "### Collections\n",
    "\n",
    "**Collections** are collections of objects of the same (or not the same) type. 100 cats, 10 dogs, [watermelon, pumpkin, apple] all are examples of collection.\n",
    "\n",
    "There are several datatypes in Python that help you store collections in a suitable way. Let's dive in"
   ]
  },
  {
   "cell_type": "markdown",
   "metadata": {
    "colab_type": "text",
    "id": "2bPovq1XtkAv"
   },
   "source": [
    "### Lists\n",
    "\n",
    "List is a sequence of values. A list could contain elements of various types."
   ]
  },
  {
   "cell_type": "code",
   "execution_count": null,
   "metadata": {
    "colab": {},
    "colab_type": "code",
    "id": "960admKQtkAv"
   },
   "outputs": [],
   "source": [
    "list1 = ['apple', 5, True]"
   ]
  },
  {
   "cell_type": "markdown",
   "metadata": {
    "colab_type": "text",
    "id": "F71gTMc6tkA1"
   },
   "source": [
    "You can even put a list inside a list, then it will be called nested list"
   ]
  },
  {
   "cell_type": "code",
   "execution_count": null,
   "metadata": {
    "colab": {},
    "colab_type": "code",
    "id": "nb1CEoOYtkA1"
   },
   "outputs": [],
   "source": [
    "list2 = ['apple', ['tomato', 'fish'], 5]"
   ]
  },
  {
   "cell_type": "markdown",
   "metadata": {
    "colab_type": "text",
    "id": "ZGTkWjVbtkA4"
   },
   "source": [
    "You also can create an empty list, without any elements"
   ]
  },
  {
   "cell_type": "code",
   "execution_count": null,
   "metadata": {
    "colab": {},
    "colab_type": "code",
    "id": "pKptfjEetkA4"
   },
   "outputs": [],
   "source": [
    "empty_list = []"
   ]
  },
  {
   "cell_type": "markdown",
   "metadata": {
    "colab_type": "text",
    "id": "F1dyjgVctkA7"
   },
   "source": [
    "#### Indexing"
   ]
  },
  {
   "cell_type": "markdown",
   "metadata": {
    "colab_type": "text",
    "id": "O6X4xxR9tkA8"
   },
   "source": [
    "Lists support indexing starts at 0 (as any indexed thing in Python). However, it is possible to use negative indices\n",
    "\n",
    "![Пример индексации](https://cdn-images-1.medium.com/max/1600/1*ew02kFoUbAqhe2ozFnDa8g.png)\n",
    "\n"
   ]
  },
  {
   "cell_type": "code",
   "execution_count": null,
   "metadata": {
    "colab": {},
    "colab_type": "code",
    "id": "jZX8UY0-tkA8"
   },
   "outputs": [],
   "source": [
    "my_list2[1]"
   ]
  },
  {
   "cell_type": "code",
   "execution_count": null,
   "metadata": {
    "colab": {},
    "colab_type": "code",
    "id": "VXTPWn-FtkA_"
   },
   "outputs": [],
   "source": [
    "my_list2[-1]"
   ]
  },
  {
   "cell_type": "markdown",
   "metadata": {
    "colab_type": "text",
    "id": "FivSp16gtkBC"
   },
   "source": [
    "Small hint about indexing \n",
    "\n",
    "![Индексация строк](https://cdn-images-1.medium.com/max/1555/1*HqdR129XR8-1ojtTYLou7g.png)"
   ]
  },
  {
   "cell_type": "markdown",
   "metadata": {
    "colab_type": "text",
    "id": "Hm5znGnStkBD"
   },
   "source": [
    "#### Slices"
   ]
  },
  {
   "cell_type": "markdown",
   "metadata": {
    "colab_type": "text",
    "id": "b9ueg75ZtkBE"
   },
   "source": [
    "In the same way as for strings, you can take list slices"
   ]
  },
  {
   "cell_type": "code",
   "execution_count": null,
   "metadata": {
    "colab": {},
    "colab_type": "code",
    "id": "PO0CLAAvtkBE"
   },
   "outputs": [],
   "source": [
    "my_list2[0:-1]"
   ]
  },
  {
   "cell_type": "code",
   "execution_count": null,
   "metadata": {
    "colab": {},
    "colab_type": "code",
    "id": "hu-PYK2ntkBH"
   },
   "outputs": [],
   "source": [
    "my_list2[-1:]"
   ]
  },
  {
   "cell_type": "code",
   "execution_count": null,
   "metadata": {
    "colab": {},
    "colab_type": "code",
    "id": "s3LHigd3tkBJ"
   },
   "outputs": [],
   "source": [
    "my_list2"
   ]
  },
  {
   "cell_type": "markdown",
   "metadata": {
    "colab_type": "text",
    "id": "FG1FKdh5tkBL"
   },
   "source": [
    "You can specify the step that shows spacing between values"
   ]
  },
  {
   "cell_type": "code",
   "execution_count": null,
   "metadata": {
    "colab": {},
    "colab_type": "code",
    "id": "clOEc_BUtkBM"
   },
   "outputs": [],
   "source": [
    "my_list2[1::1]"
   ]
  },
  {
   "cell_type": "code",
   "execution_count": null,
   "metadata": {
    "colab": {},
    "colab_type": "code",
    "id": "SmpxsYoDtkBO"
   },
   "outputs": [],
   "source": [
    "my_list2[0::2]"
   ]
  },
  {
   "cell_type": "code",
   "execution_count": null,
   "metadata": {
    "colab": {},
    "colab_type": "code",
    "id": "X5AIXJw_tkBR"
   },
   "outputs": [],
   "source": [
    "my_list2[::-1]"
   ]
  },
  {
   "cell_type": "markdown",
   "metadata": {
    "colab_type": "text",
    "id": "gKOp_9TwtkBU"
   },
   "source": [
    "#### Loop through the elements of the list (iteration)"
   ]
  },
  {
   "cell_type": "markdown",
   "metadata": {
    "colab_type": "text",
    "id": "FzCVBRzWtkBU"
   },
   "source": [
    "You can walk through the list simply by indexing each of its elements in turn. To implement this a **len** function is useful. It returns the length of a list."
   ]
  },
  {
   "cell_type": "code",
   "execution_count": null,
   "metadata": {
    "colab": {},
    "colab_type": "code",
    "id": "oBtl0oWatkBV"
   },
   "outputs": [],
   "source": [
    "my_list3 = [1, 7, -5, 0, 32]"
   ]
  },
  {
   "cell_type": "code",
   "execution_count": null,
   "metadata": {
    "colab": {},
    "colab_type": "code",
    "id": "dwVgU0-RtkBY"
   },
   "outputs": [],
   "source": [
    "for i in range(len(my_list3)):\n",
    "    print (my_list3[i])"
   ]
  },
  {
   "cell_type": "markdown",
   "metadata": {
    "colab_type": "text",
    "id": "0FKD-11ztkBa"
   },
   "source": [
    "Generally, to iterate over the elements of collections in Python you can use the **for** loop directly!"
   ]
  },
  {
   "cell_type": "code",
   "execution_count": null,
   "metadata": {
    "colab": {},
    "colab_type": "code",
    "id": "moLECtNCtkBb"
   },
   "outputs": [],
   "source": [
    "for elem in my_list3:\n",
    "    print(elem)"
   ]
  },
  {
   "cell_type": "markdown",
   "metadata": {
    "colab_type": "text",
    "id": "KbhDuNhutkBd"
   },
   "source": [
    "**for** can be applied to strings as well. In this case, you will iterate over the characters of the string"
   ]
  },
  {
   "cell_type": "code",
   "execution_count": null,
   "metadata": {
    "colab": {},
    "colab_type": "code",
    "id": "1K0AAiVKtkBe"
   },
   "outputs": [],
   "source": [
    "s = \"Hello, world\"\n",
    "for c in s:\n",
    "    print(c)"
   ]
  },
  {
   "cell_type": "markdown",
   "metadata": {
    "colab_type": "text",
    "id": "bs9xqXfktkBg"
   },
   "source": [
    "**List operations**"
   ]
  },
  {
   "cell_type": "markdown",
   "metadata": {
    "colab_type": "text",
    "id": "8S5xJA2OtkBh"
   },
   "source": [
    "Lists can be added (**concatenated**, actually)"
   ]
  },
  {
   "cell_type": "code",
   "execution_count": null,
   "metadata": {
    "colab": {},
    "colab_type": "code",
    "id": "6kvdasxBtkBh"
   },
   "outputs": [],
   "source": [
    "a = [2,3,4]\n",
    "b = [-5, 10]\n",
    "a + b"
   ]
  },
  {
   "cell_type": "code",
   "execution_count": null,
   "metadata": {
    "colab": {},
    "colab_type": "code",
    "id": "srjGCg9_tkBk"
   },
   "outputs": [],
   "source": [
    "a - b # And what did you expect to see?)"
   ]
  },
  {
   "cell_type": "code",
   "execution_count": null,
   "metadata": {
    "colab": {},
    "colab_type": "code",
    "id": "MaLOEDULtkBn"
   },
   "outputs": [],
   "source": [
    "a * b # same thing"
   ]
  },
  {
   "cell_type": "markdown",
   "metadata": {
    "colab_type": "text",
    "id": "GKDHUicntkBp"
   },
   "source": [
    "The list can be repeated several times by multiplying it by a number, however, this is not recommended for use except in the most obvious cases (we will analyze why later)"
   ]
  },
  {
   "cell_type": "code",
   "execution_count": null,
   "metadata": {
    "colab": {},
    "colab_type": "code",
    "id": "A2JdRsOMtkBq"
   },
   "outputs": [],
   "source": [
    "[0] * 5"
   ]
  },
  {
   "cell_type": "markdown",
   "metadata": {
    "colab_type": "text",
    "id": "5So9EBYCtkBt"
   },
   "source": [
    "You can check if an item is in the list using the **in** keyword"
   ]
  },
  {
   "cell_type": "code",
   "execution_count": null,
   "metadata": {
    "colab": {},
    "colab_type": "code",
    "id": "WYzx6UQXtkBt"
   },
   "outputs": [],
   "source": [
    "a = [1,3,10]\n",
    "if 5 in a:\n",
    "    print (\"5 is in a\")\n",
    "else:\n",
    "    print (\"5 is not in a\")"
   ]
  },
  {
   "cell_type": "markdown",
   "metadata": {
    "colab_type": "text",
    "id": "xcEdh5kHtkBz"
   },
   "source": [
    "Iterating through the elements of the container has a peculiarity - a variable that is sequentially assigned with values of items from the container can be used later.\n",
    "This is useful when, for example, we are looking for the first element that satisfies a given property."
   ]
  },
  {
   "cell_type": "code",
   "execution_count": null,
   "metadata": {
    "colab": {},
    "colab_type": "code",
    "id": "1CEPtNnutkBz"
   },
   "outputs": [],
   "source": [
    "a = [1, 3, 4, 100, 34]\n",
    "for i in a:\n",
    "    if i % 2 == 0:\n",
    "        break\n",
    "print(i)"
   ]
  },
  {
   "cell_type": "markdown",
   "metadata": {
    "colab_type": "text",
    "id": "frDD1YyjtkB2"
   },
   "source": [
    "But if no item was found, then `i` will take the value of the last item in the list."
   ]
  },
  {
   "cell_type": "code",
   "execution_count": null,
   "metadata": {
    "colab": {},
    "colab_type": "code",
    "id": "CLCLR0HbtkB3"
   },
   "outputs": [],
   "source": [
    "a = [1, 3, 7, 11]\n",
    "for i in a:\n",
    "    if i % 2 == 0:\n",
    "        break\n",
    "i"
   ]
  },
  {
   "cell_type": "markdown",
   "metadata": {
    "colab_type": "text",
    "id": "GNl92BkmtkB5"
   },
   "source": [
    "Another problem is that if `i` was not previously declared, and we decided to go through an empty list, then `i` will remain undeclared and we will receive an error"
   ]
  },
  {
   "cell_type": "code",
   "execution_count": null,
   "metadata": {
    "colab": {},
    "colab_type": "code",
    "id": "Puqnd0Z5tkB6"
   },
   "outputs": [],
   "source": [
    "del i # remove variable i\n",
    "a = []\n",
    "for i in []:\n",
    "    if i % 2 == 0:\n",
    "        break\n",
    "i"
   ]
  },
  {
   "cell_type": "markdown",
   "metadata": {
    "colab_type": "text",
    "id": "aalccoAqtkB9"
   },
   "source": [
    "Both problems could be solved by using **else** in a **for** loop. \n",
    "\n",
    "Note that **else** goes on the same level as **for** and refers to it!\n",
    "\n",
    "**else** in this case is executed only if the exit from loop was not performed using break (i.e. we went through all the values ​​in the container)"
   ]
  },
  {
   "cell_type": "code",
   "execution_count": null,
   "metadata": {
    "colab": {},
    "colab_type": "code",
    "id": "9gEWD9xFtkB-"
   },
   "outputs": [],
   "source": [
    "a = [1, 3, 7, 11]\n",
    "for i in a:\n",
    "    if i % 2 == 0:\n",
    "        break\n",
    "else:\n",
    "    i = None \n",
    "    print(\"No even elements\")\n",
    "print (i)"
   ]
  },
  {
   "cell_type": "code",
   "execution_count": null,
   "metadata": {
    "colab": {},
    "colab_type": "code",
    "id": "yGJ9AzhxtkCA"
   },
   "outputs": [],
   "source": [
    "a = []\n",
    "for i in a:\n",
    "    if i % 2 == 0:\n",
    "        break\n",
    "else:\n",
    "    i = None\n",
    "    print(\"No even elements\")\n",
    "print (i)"
   ]
  },
  {
   "cell_type": "markdown",
   "metadata": {
    "colab_type": "text",
    "id": "4GZX0sh0tkCE"
   },
   "source": [
    "If the required element is still there, then everything works well!)"
   ]
  },
  {
   "cell_type": "code",
   "execution_count": null,
   "metadata": {
    "colab": {},
    "colab_type": "code",
    "id": "moJ2DvkCtkCE"
   },
   "outputs": [],
   "source": [
    "a = [1, 3, 7, 12]\n",
    "for i in a:\n",
    "    if i % 2 == 0:\n",
    "        break\n",
    "else:\n",
    "    i = None\n",
    "    print(\"No even elements\")\n",
    "print (i)"
   ]
  },
  {
   "cell_type": "markdown",
   "metadata": {
    "colab_type": "text",
    "id": "oMwsHJxatkCH"
   },
   "source": [
    "\n",
    "#### Checking a list for emptiness\n",
    "\n",
    "Works not only for a list, but for all types of collections/containers"
   ]
  },
  {
   "cell_type": "code",
   "execution_count": null,
   "metadata": {
    "colab": {},
    "colab_type": "code",
    "id": "554hQjSwtkCH"
   },
   "outputs": [],
   "source": [
    "if not a: # if a is empty\n",
    "    print(\"HI\")\n",
    "\n",
    "b = [1]\n",
    "if  b: # if b is not empty\n",
    "    print(\"HI\")"
   ]
  },
  {
   "cell_type": "markdown",
   "metadata": {
    "colab_type": "text",
    "id": "TkUCGNiEtkCJ"
   },
   "source": [
    "#### Mutability of lists\n",
    "\n",
    "In the case of strings, if you try to change a character, an error will pop up"
   ]
  },
  {
   "cell_type": "code",
   "execution_count": null,
   "metadata": {
    "colab": {},
    "colab_type": "code",
    "id": "bwqnkKcWtkCK"
   },
   "outputs": [],
   "source": [
    "a = \"Hello, world!\"\n",
    "a[-1] = \"?\""
   ]
  },
  {
   "cell_type": "markdown",
   "metadata": {
    "colab_type": "text",
    "id": "UhB_tTMktkCM"
   },
   "source": [
    "So you have to do something like this:"
   ]
  },
  {
   "cell_type": "code",
   "execution_count": null,
   "metadata": {
    "colab": {},
    "colab_type": "code",
    "id": "v6Q2OHrNtkCN"
   },
   "outputs": [],
   "source": [
    "a = \"Hello, world!\"\n",
    "b = a[:-1] + \"?\"\n",
    "print(a)\n",
    "print(b)"
   ]
  },
  {
   "cell_type": "markdown",
   "metadata": {
    "colab_type": "text",
    "id": "R0y56e3CtkCP"
   },
   "source": [
    "It's much easier with lists. They are **mutable** objects"
   ]
  },
  {
   "cell_type": "code",
   "execution_count": null,
   "metadata": {
    "colab": {},
    "colab_type": "code",
    "id": "dlC75FQstkCP"
   },
   "outputs": [],
   "source": [
    "a = [1, -3, 10, 6]"
   ]
  },
  {
   "cell_type": "code",
   "execution_count": null,
   "metadata": {
    "colab": {},
    "colab_type": "code",
    "id": "VykAXf_6tkCS"
   },
   "outputs": [],
   "source": [
    "a[-1] = 5\n",
    "a"
   ]
  },
  {
   "cell_type": "code",
   "execution_count": null,
   "metadata": {
    "colab": {},
    "colab_type": "code",
    "id": "uLnd_JPEtkCU"
   },
   "outputs": [],
   "source": [
    "a[0:2] = [0,1]"
   ]
  },
  {
   "cell_type": "code",
   "execution_count": null,
   "metadata": {
    "colab": {},
    "colab_type": "code",
    "id": "bBEBwcsYtkCW"
   },
   "outputs": [],
   "source": [
    "a"
   ]
  },
  {
   "cell_type": "markdown",
   "metadata": {
    "colab_type": "text",
    "id": "Ajv_Ko9QtkCZ"
   },
   "source": [
    "### Changeable objects. Tasks."
   ]
  },
  {
   "cell_type": "code",
   "execution_count": null,
   "metadata": {
    "colab": {},
    "colab_type": "code",
    "id": "COAClNoRtkCZ"
   },
   "outputs": [],
   "source": [
    "a = [10, 5, 4]\n",
    "b = a\n",
    "a[-2] = 7"
   ]
  },
  {
   "cell_type": "markdown",
   "metadata": {
    "colab_type": "text",
    "id": "9ssKKv5ftkCc"
   },
   "source": [
    "What's in b? "
   ]
  },
  {
   "cell_type": "code",
   "execution_count": null,
   "metadata": {
    "colab": {},
    "colab_type": "code",
    "id": "CD9WQwYvtkCc",
    "scrolled": true
   },
   "outputs": [],
   "source": [
    "b"
   ]
  },
  {
   "cell_type": "markdown",
   "metadata": {
    "colab_type": "text",
    "id": "RyDjH3pTtkCg"
   },
   "source": [
    "What's the secret?\n",
    "If we recall the analogy about a cat and a box, then everything becomes clear\n",
    "![cat](http://vokrugkota.ru/media/tumblr_mocf77rFWi1qb8jcho6_1280.jpg)"
   ]
  },
  {
   "cell_type": "markdown",
   "metadata": {
    "colab_type": "text",
    "id": "YfZV6SHWtkCg"
   },
   "source": [
    "In your computer memory, you have a great number of boxes. In one of them you put a cat (in this case, a list).\n",
    "But at the same time, you decided to call this box both **a** and **b**. Python didn't create a new cat in a new box. But now this box has two names. Therefore, teasing the cat in the **a** variable, you risk getting scratched hands in the **b** variable (meow)"
   ]
  },
  {
   "cell_type": "code",
   "execution_count": null,
   "metadata": {
    "colab": {},
    "colab_type": "code",
    "id": "-XxQ9LxttkCh"
   },
   "outputs": [],
   "source": [
    "colors = ['red', 'blue', 'green']\n",
    "b = colors"
   ]
  },
  {
   "cell_type": "markdown",
   "metadata": {
    "colab_type": "text",
    "id": "kMU7dTnhtkCi"
   },
   "source": [
    "![colors](https://developers.google.com/edu/python/images/list2.png)"
   ]
  },
  {
   "cell_type": "markdown",
   "metadata": {
    "colab_type": "text",
    "id": "xWXpylAwtkCj"
   },
   "source": [
    "To prevent this behavior in Python, you'll have to make a copy of the list!"
   ]
  },
  {
   "cell_type": "code",
   "execution_count": null,
   "metadata": {
    "colab": {},
    "colab_type": "code",
    "id": "Xr57yOgztkCj"
   },
   "outputs": [],
   "source": [
    "a = [10, 5, 4]\n",
    "b = a[:] # take a slice of the entire list - thus copying it \n",
    "a[-2] = 7\n",
    "print (\"a\", a)\n",
    "print (\"b\", b)"
   ]
  },
  {
   "cell_type": "markdown",
   "metadata": {
    "colab_type": "text",
    "id": "4imzb_VitkCm"
   },
   "source": [
    "It is also possible to use the built-in Python function - **list**"
   ]
  },
  {
   "cell_type": "code",
   "execution_count": null,
   "metadata": {
    "colab": {},
    "colab_type": "code",
    "id": "hvLlLQe4tkCn"
   },
   "outputs": [],
   "source": [
    "a = [10, 5, 4]\n",
    "b = list(a) # copying a list\n",
    "a[-2] = 7\n",
    "print (\"a\", a)\n",
    "print (\"b\", b)"
   ]
  },
  {
   "cell_type": "code",
   "execution_count": null,
   "metadata": {
    "colab": {},
    "colab_type": "code",
    "id": "nuuLpPjRtkCo"
   },
   "outputs": [],
   "source": [
    "list(\"ATGCGAGCCG\")"
   ]
  },
  {
   "cell_type": "markdown",
   "metadata": {
    "colab_type": "text",
    "id": "nEVgDRvAtkCr"
   },
   "source": [
    "You can also use Python's mutable objects method - **copy**"
   ]
  },
  {
   "cell_type": "code",
   "execution_count": null,
   "metadata": {
    "colab": {},
    "colab_type": "code",
    "id": "X-DdZH-jtkCr",
    "scrolled": true
   },
   "outputs": [],
   "source": [
    "a = [10, 5, 4]\n",
    "b = a.copy()\n",
    "a[-2] = 7\n",
    "print (\"a\", a)\n",
    "print (\"b\", b)"
   ]
  },
  {
   "cell_type": "markdown",
   "metadata": {
    "colab_type": "text",
    "id": "wSPtz0wWtkCt"
   },
   "source": [
    "After the usual copying procedure, changes in lists will be propagated if we do not take mutable objects nested in them (for example, lists). However, if you change the nested list, then the changes will affect both lists."
   ]
  },
  {
   "cell_type": "code",
   "execution_count": null,
   "metadata": {
    "colab": {},
    "colab_type": "code",
    "id": "WaWH3RpqtkCu"
   },
   "outputs": [],
   "source": [
    "lst1 = ['a','b',['ab','ba']]\n",
    "lst2 = lst1.copy()\n",
    "a[-1][0] = 5\n",
    "lst2[2][1] = \"d\"\n",
    "lst2[0] = \"c\";\n",
    "print(lst1)\n",
    "print(lst2)"
   ]
  },
  {
   "cell_type": "markdown",
   "metadata": {
    "colab_type": "text",
    "id": "VQBRD08jtkCw"
   },
   "source": [
    "![shallow_copy](https://www.python-course.eu/images/deep_copy_4)"
   ]
  },
  {
   "cell_type": "markdown",
   "metadata": {
    "colab_type": "text",
    "id": "u9Lca_gitkCw"
   },
   "source": [
    "For nested lists and simply mutable objects in mutable objects use `deepcopy`"
   ]
  },
  {
   "cell_type": "code",
   "execution_count": null,
   "metadata": {
    "colab": {},
    "colab_type": "code",
    "id": "vvCu6Bu8tkCx"
   },
   "outputs": [],
   "source": [
    "from copy import deepcopy\n",
    "\n",
    "lst1 = ['a','b',['ab','ba']]\n",
    "\n",
    "lst2 = deepcopy(lst1)\n",
    "\n",
    "lst2[2][1] = \"d\"\n",
    "lst2[0] = \"c\";\n",
    "\n",
    "print(lst1)\n",
    "print(lst2)\n"
   ]
  },
  {
   "cell_type": "markdown",
   "metadata": {
    "colab_type": "text",
    "id": "gu1jNCCFtkC1"
   },
   "source": [
    "![deep_copy](https://www.python-course.eu/images/deep_copy_5)"
   ]
  },
  {
   "cell_type": "markdown",
   "metadata": {
    "colab_type": "text",
    "id": "uXSbsUPCtkC1"
   },
   "source": [
    "### List methods\n",
    "\n",
    "The list, like many other built-in types in Python, has a set of functions designed to work with it and called using a construction like **lst.method_name**"
   ]
  },
  {
   "cell_type": "markdown",
   "metadata": {
    "colab_type": "text",
    "id": "MqhbZpS9tkC2"
   },
   "source": [
    "**append** - Appending to the list\n",
    "\n",
    "For example, we can create a list of all odd numbers up to 20"
   ]
  },
  {
   "cell_type": "code",
   "execution_count": null,
   "metadata": {
    "colab": {},
    "colab_type": "code",
    "id": "kbzvg6wJtkC2"
   },
   "outputs": [],
   "source": [
    "lst = []\n",
    "for i in range(20 + 1):\n",
    "    if i % 2 == 1:\n",
    "        lst.append(i)\n",
    "        \n",
    "print (lst)"
   ]
  },
  {
   "cell_type": "markdown",
   "metadata": {
    "colab_type": "text",
    "id": "pkI-oqEstkC3"
   },
   "source": [
    "**extend** - add to the end of our list all elements from another"
   ]
  },
  {
   "cell_type": "code",
   "execution_count": null,
   "metadata": {
    "colab": {},
    "colab_type": "code",
    "id": "bJ38CG9qtkC4"
   },
   "outputs": [],
   "source": [
    "a = [1,4]\n",
    "b = [1, 2, 7]\n",
    "c = a + b\n",
    "print(a, b, c)\n",
    "a[1] = 5\n",
    "print(a, b, c)\n"
   ]
  },
  {
   "cell_type": "code",
   "execution_count": null,
   "metadata": {
    "colab": {},
    "colab_type": "code",
    "id": "T5rCiZIXtkC6"
   },
   "outputs": [],
   "source": [
    "lst = [1, 4]\n",
    "lst.extend([1,2,7])\n",
    "lst"
   ]
  },
  {
   "cell_type": "markdown",
   "metadata": {
    "colab_type": "text",
    "id": "JC-OziK3tkC7"
   },
   "source": [
    "**count** - count the number of occurrences of an element in a list"
   ]
  },
  {
   "cell_type": "code",
   "execution_count": null,
   "metadata": {
    "colab": {},
    "colab_type": "code",
    "id": "aff0dGqbtkC7"
   },
   "outputs": [],
   "source": [
    "lst = [1, 7, -5, 6, 0, 1]\n",
    "lst.count(1)"
   ]
  },
  {
   "cell_type": "markdown",
   "metadata": {
    "colab_type": "text",
    "id": "cHiuxG2NtkC9"
   },
   "source": [
    "**sort** - sort the list in place"
   ]
  },
  {
   "cell_type": "code",
   "execution_count": null,
   "metadata": {
    "colab": {},
    "colab_type": "code",
    "id": "wty9-vgStkC9"
   },
   "outputs": [],
   "source": [
    "lst.sort()\n",
    "lst"
   ]
  },
  {
   "cell_type": "markdown",
   "metadata": {
    "colab_type": "text",
    "id": "OlvFjylTtkC-"
   },
   "source": [
    "**index** - find the first index of the value in the list, if there is no value, then an error will be returned"
   ]
  },
  {
   "cell_type": "code",
   "execution_count": null,
   "metadata": {
    "colab": {},
    "colab_type": "code",
    "id": "5fN4IFlCtkC_"
   },
   "outputs": [],
   "source": [
    "lst.index(0)"
   ]
  },
  {
   "cell_type": "markdown",
   "metadata": {
    "colab_type": "text",
    "id": "d688ESLItkDA"
   },
   "source": [
    "### String methods"
   ]
  },
  {
   "cell_type": "markdown",
   "metadata": {
    "colab_type": "text",
    "id": "8OXQxVzctkDB"
   },
   "source": [
    "For strings, in addition to the `split` method parsed in the last lesson, there are also many other methods. Note that, unlike a list, if these methods involve modifying a string, they will return a NEW string."
   ]
  },
  {
   "cell_type": "markdown",
   "metadata": {
    "colab_type": "text",
    "id": "XfvcLCd2tkDD"
   },
   "source": [
    "**strip** - removes line breaks and other 'space' characters at the edges of the line. There are analogues - `rstrip` and `lstrip`, which remove these characters from one side only."
   ]
  },
  {
   "cell_type": "code",
   "execution_count": null,
   "metadata": {
    "colab": {},
    "colab_type": "code",
    "id": "Ewq5lGtqtkDD"
   },
   "outputs": [],
   "source": [
    "a = \"   hello \\n\"\n",
    "b = a.strip()\n",
    "print (b)\n",
    "print(\"START:\", a, \"END\")"
   ]
  },
  {
   "cell_type": "markdown",
   "metadata": {
    "colab_type": "text",
    "id": "sqRdMmLVtkDF"
   },
   "source": [
    "**replace** - replace all occurrences of one substring with another"
   ]
  },
  {
   "cell_type": "code",
   "execution_count": null,
   "metadata": {
    "colab": {},
    "colab_type": "code",
    "id": "jcpFyqYptkDF"
   },
   "outputs": [],
   "source": [
    "a = \"hello, hello, hello\"\n",
    "b = a.replace(\"hello\", \"hell\")\n",
    "print(b)"
   ]
  },
  {
   "cell_type": "markdown",
   "metadata": {
    "colab_type": "text",
    "id": "_KgLr53DtkDH"
   },
   "source": [
    "**find** - find an occurrence of a substring in a string. If there is no substring in the string, then return -1"
   ]
  },
  {
   "cell_type": "code",
   "execution_count": null,
   "metadata": {
    "colab": {},
    "colab_type": "code",
    "id": "fhBbCEjbtkDH",
    "scrolled": true
   },
   "outputs": [],
   "source": [
    "a = \"Hello, world\"\n",
    "a.find(\"world\")"
   ]
  },
  {
   "cell_type": "code",
   "execution_count": null,
   "metadata": {
    "colab": {},
    "colab_type": "code",
    "id": "2TTPTRr6tkDJ"
   },
   "outputs": [],
   "source": [
    "a.find(\"wild\")"
   ]
  },
  {
   "cell_type": "code",
   "execution_count": null,
   "metadata": {
    "colab": {},
    "colab_type": "code",
    "id": "c01jU0v0tkDL"
   },
   "outputs": [],
   "source": [
    "a = \"hello, hello, hello\"\n",
    "f_ind = a.find(\"hello\")\n",
    "print (f_ind )\n",
    "print (a.find(\"hello\", f_ind  + 1)) # find from the specified position"
   ]
  },
  {
   "cell_type": "code",
   "execution_count": null,
   "metadata": {
    "colab": {},
    "colab_type": "code",
    "id": "NbkAiReCtkDM"
   },
   "outputs": [],
   "source": [
    "?a.find"
   ]
  },
  {
   "cell_type": "markdown",
   "metadata": {
    "colab_type": "text",
    "id": "k3y3t8hOtkDO"
   },
   "source": [
    "To check if a string is contained in another string, one can simply use the **in** keyword"
   ]
  },
  {
   "cell_type": "code",
   "execution_count": null,
   "metadata": {
    "colab": {},
    "colab_type": "code",
    "id": "27e3bDDttkDO"
   },
   "outputs": [],
   "source": [
    "print (\"wo\" in \"world\")\n",
    "print (\"he\" in \"world\")"
   ]
  },
  {
   "cell_type": "markdown",
   "metadata": {
    "colab_type": "text",
    "id": "tULnwinBtkDP"
   },
   "source": [
    "**startswith** - if the string begins with the given substring"
   ]
  },
  {
   "cell_type": "code",
   "execution_count": null,
   "metadata": {
    "colab": {},
    "colab_type": "code",
    "id": "PvXP4M5StkDQ"
   },
   "outputs": [],
   "source": [
    "print (a.startswith(\"hello\"))\n",
    "print (a.startswith(\"ello\"))"
   ]
  },
  {
   "cell_type": "markdown",
   "metadata": {
    "colab_type": "text",
    "id": "QBLt9_2etkDT"
   },
   "source": [
    "**endswith** - if the string ends with the given substring"
   ]
  },
  {
   "cell_type": "code",
   "execution_count": null,
   "metadata": {
    "colab": {},
    "colab_type": "code",
    "id": "kszQvXf4tkDT"
   },
   "outputs": [],
   "source": [
    "print (a.endswith(\"hello\"))\n",
    "print (a.endswith(\"he\"))"
   ]
  },
  {
   "cell_type": "markdown",
   "metadata": {
    "colab_type": "text",
    "id": "bvmxgueAtkDW"
   },
   "source": [
    "**join** - join multiple strings separated by specified separator symbol"
   ]
  },
  {
   "cell_type": "code",
   "execution_count": null,
   "metadata": {
    "colab": {},
    "colab_type": "code",
    "id": "fVHIuZdEtkDW"
   },
   "outputs": [],
   "source": [
    "\", \".join([\"1\", \"2\", \"apple\"])"
   ]
  },
  {
   "cell_type": "code",
   "execution_count": null,
   "metadata": {
    "colab": {},
    "colab_type": "code",
    "id": "uuOR6swvtkDX"
   },
   "outputs": [],
   "source": [
    "a = list(\"ATGATAGATAG\")\n",
    "a"
   ]
  },
  {
   "cell_type": "code",
   "execution_count": null,
   "metadata": {
    "colab": {},
    "colab_type": "code",
    "id": "lMzdWXXktkDZ"
   },
   "outputs": [],
   "source": [
    "\"\".join(a)"
   ]
  },
  {
   "cell_type": "markdown",
   "metadata": {
    "colab_type": "text",
    "id": "GS_F0C4otkDa"
   },
   "source": [
    "# Dictionaries"
   ]
  },
  {
   "cell_type": "markdown",
   "metadata": {
    "colab_type": "text",
    "id": "VFnox0PztkDb"
   },
   "source": [
    "Often we are faced with the task of finding a different value corresponding to it for some unnumbered meaning. For example, according to the person's full name, her passport number\n",
    "\n",
    "**Dictionary** (dict) is a data type that stores the correspondence of some values ​​to others (dictionary keys).\n",
    "The easiest way to create a dictionary is to use curly braces ({})"
   ]
  },
  {
   "cell_type": "code",
   "execution_count": null,
   "metadata": {
    "colab": {},
    "colab_type": "code",
    "id": "Kn4rD88htkDb"
   },
   "outputs": [],
   "source": [
    "my_dict = { \"Dmitry\" : 5,\n",
    "            \"Alexander\" : 10,\n",
    "            \"Jupyter\": 20}\n",
    "my_dict"
   ]
  },
  {
   "cell_type": "markdown",
   "metadata": {
    "colab_type": "text",
    "id": "7ak5meXctkDc"
   },
   "source": [
    "To get the value corresponding to the key, you need to type the name of the dictionary and the key in square brackets."
   ]
  },
  {
   "cell_type": "code",
   "execution_count": null,
   "metadata": {
    "colab": {},
    "colab_type": "code",
    "id": "w6sdpX_8tkDd"
   },
   "outputs": [],
   "source": [
    "my_dict['Jupyter']"
   ]
  },
  {
   "cell_type": "markdown",
   "metadata": {
    "colab_type": "text",
    "id": "1eLQUCq_tkDe"
   },
   "source": [
    "If there is no key with such a value, you will get an error:"
   ]
  },
  {
   "cell_type": "code",
   "execution_count": null,
   "metadata": {
    "colab": {},
    "colab_type": "code",
    "id": "MqD2aE80tkDe"
   },
   "outputs": [],
   "source": [
    "my_dict['Dogs']"
   ]
  },
  {
   "cell_type": "markdown",
   "metadata": {
    "colab_type": "text",
    "id": "0WJueqkAtkDg"
   },
   "source": [
    "You can use the `dict.get(key, default_value=None)` method in order to get a default value in the absence of a key in the dictionary"
   ]
  },
  {
   "cell_type": "code",
   "execution_count": null,
   "metadata": {
    "colab": {},
    "colab_type": "code",
    "id": "ZLpJmKiKtkDg",
    "scrolled": true
   },
   "outputs": [],
   "source": [
    "print (my_dict.get(\"Dogs\")) # return None "
   ]
  },
  {
   "cell_type": "code",
   "execution_count": null,
   "metadata": {
    "colab": {},
    "colab_type": "code",
    "id": "YfpXX0V8tkDi"
   },
   "outputs": [],
   "source": [
    "my_dict.get(\"Dogs\", 5)"
   ]
  },
  {
   "cell_type": "code",
   "execution_count": null,
   "metadata": {
    "colab": {},
    "colab_type": "code",
    "id": "UEBIjgN3tkDj"
   },
   "outputs": [],
   "source": [
    "my_dict.get(\"Jupyter\", 5)"
   ]
  },
  {
   "cell_type": "markdown",
   "metadata": {
    "colab_type": "text",
    "id": "36dDRqGwtkDo"
   },
   "source": [
    "#### Checking for a key in a dictionary\n",
    "\n",
    "As with other collections, the command **in** is used to check for a key in the dictionary."
   ]
  },
  {
   "cell_type": "code",
   "execution_count": null,
   "metadata": {
    "colab": {},
    "colab_type": "code",
    "id": "tKM7XhYBtkDp"
   },
   "outputs": [],
   "source": [
    "if \"Dogs\" in my_dict:\n",
    "    print(\"Hello\")\n",
    "else:\n",
    "    print(\"World\")"
   ]
  },
  {
   "cell_type": "markdown",
   "metadata": {
    "colab_type": "text",
    "id": "JOpSc8XotkDq"
   },
   "source": [
    "### Loop through dictionary keys\n",
    "\n",
    "Loop through dictionary keys can be done in two ways\n",
    "\n",
    "Note that dictionary methods that 'return' what is stored in it return not-quite-lists, this cannot be treated like a list"
   ]
  },
  {
   "cell_type": "code",
   "execution_count": null,
   "metadata": {
    "colab": {},
    "colab_type": "code",
    "id": "ny6qZJ-YtkDq"
   },
   "outputs": [],
   "source": [
    "my_dict.keys()"
   ]
  },
  {
   "cell_type": "code",
   "execution_count": null,
   "metadata": {
    "colab": {},
    "colab_type": "code",
    "id": "V_7kcS_DtkDt"
   },
   "outputs": [],
   "source": [
    "for key in my_dict.keys():\n",
    "    print (key)"
   ]
  },
  {
   "cell_type": "code",
   "execution_count": null,
   "metadata": {
    "colab": {},
    "colab_type": "code",
    "id": "ymIpsEV-tkDv"
   },
   "outputs": [],
   "source": [
    "for key in my_dict:\n",
    "    print (key)"
   ]
  },
  {
   "cell_type": "markdown",
   "metadata": {
    "colab_type": "text",
    "id": "CQlrtxbOtkDx"
   },
   "source": [
    "### Loop through dictionary values"
   ]
  },
  {
   "cell_type": "code",
   "execution_count": null,
   "metadata": {
    "colab": {},
    "colab_type": "code",
    "id": "bzTmEbJ3tkDx"
   },
   "outputs": [],
   "source": [
    "my_dict.values()"
   ]
  },
  {
   "cell_type": "code",
   "execution_count": null,
   "metadata": {
    "colab": {},
    "colab_type": "code",
    "id": "hwu1k4MAtkDz"
   },
   "outputs": [],
   "source": [
    "for value in my_dict.values():\n",
    "    print (value)"
   ]
  },
  {
   "cell_type": "markdown",
   "metadata": {
    "colab_type": "text",
    "id": "WvddG_8UtkD0"
   },
   "source": [
    "Loop through the keys and values ​​of a dictionary"
   ]
  },
  {
   "cell_type": "code",
   "execution_count": null,
   "metadata": {
    "colab": {},
    "colab_type": "code",
    "id": "yc3I01uptkD0"
   },
   "outputs": [],
   "source": [
    "for key in my_dict.keys():\n",
    "    value = my_dict[key]\n",
    "    print (key, value)"
   ]
  },
  {
   "cell_type": "code",
   "execution_count": null,
   "metadata": {
    "colab": {},
    "colab_type": "code",
    "id": "F-grza8ttkD1"
   },
   "outputs": [],
   "source": [
    "my_dict.items()"
   ]
  },
  {
   "cell_type": "code",
   "execution_count": null,
   "metadata": {
    "colab": {},
    "colab_type": "code",
    "id": "8s1lxsNEtkD3"
   },
   "outputs": [],
   "source": [
    "for key, value in my_dict.items():\n",
    "    print (key, value)"
   ]
  },
  {
   "cell_type": "code",
   "execution_count": null,
   "metadata": {
    "colab": {},
    "colab_type": "code",
    "id": "8CItxJ6HtkD4"
   },
   "outputs": [],
   "source": [
    "list(my_dict.keys())"
   ]
  },
  {
   "cell_type": "code",
   "execution_count": null,
   "metadata": {
    "colab": {},
    "colab_type": "code",
    "id": "OODNEeI1tkD6"
   },
   "outputs": [],
   "source": [
    "list(my_dict.values())"
   ]
  },
  {
   "cell_type": "code",
   "execution_count": null,
   "metadata": {
    "colab": {},
    "colab_type": "code",
    "id": "HfzMExzmtkD7"
   },
   "outputs": [],
   "source": [
    "list(my_dict.items())"
   ]
  },
  {
   "cell_type": "markdown",
   "metadata": {
    "colab_type": "text",
    "id": "XxJsHdbhtkD8"
   },
   "source": [
    "### Adding items to the dictionary\n"
   ]
  },
  {
   "cell_type": "markdown",
   "metadata": {
    "colab_type": "text",
    "id": "Y9lJpIRLtkD8"
   },
   "source": [
    "A dictionary can store any object as a value, but as a key it needs special objects, in the first approximation immutable - numbers and strings, for example."
   ]
  },
  {
   "cell_type": "code",
   "execution_count": null,
   "metadata": {
    "colab": {},
    "colab_type": "code",
    "id": "sblQfpo7tkD9"
   },
   "outputs": [],
   "source": [
    "d = dict() # another way to create dict\n",
    "# d = {}\n",
    "d[10] = \"Hello\"\n",
    "d"
   ]
  },
  {
   "cell_type": "code",
   "execution_count": null,
   "metadata": {
    "colab": {},
    "colab_type": "code",
    "id": "vUfRaIlbtkD-"
   },
   "outputs": [],
   "source": [
    "d[\"hello\"] = \"world\"\n",
    "d"
   ]
  },
  {
   "cell_type": "code",
   "execution_count": null,
   "metadata": {
    "colab": {},
    "colab_type": "code",
    "id": "uF2QDp2dtkD_"
   },
   "outputs": [],
   "source": [
    "d[10] = -100\n",
    "d"
   ]
  },
  {
   "cell_type": "code",
   "execution_count": null,
   "metadata": {
    "colab": {},
    "colab_type": "code",
    "id": "ql9rVxs_tkEA",
    "scrolled": true
   },
   "outputs": [],
   "source": [
    "my_key = \"hi\"\n",
    "my_value = [1,2,3]\n",
    "d[my_key] = my_value\n",
    "d"
   ]
  },
  {
   "cell_type": "code",
   "execution_count": null,
   "metadata": {
    "colab": {},
    "colab_type": "code",
    "id": "d1HkgyVNtkEF"
   },
   "outputs": [],
   "source": [
    "d[[1,2,3]] = 5  \n",
    "\n",
    "# error, list is mutable"
   ]
  },
  {
   "cell_type": "markdown",
   "metadata": {
    "colab_type": "text",
    "id": "3JsVPdsatkEG"
   },
   "source": [
    "### Removing items from a dictionary"
   ]
  },
  {
   "cell_type": "code",
   "execution_count": null,
   "metadata": {
    "colab": {},
    "colab_type": "code",
    "id": "Y2_YshH2tkEG"
   },
   "outputs": [],
   "source": [
    "a = {\"A\" : 0,\n",
    "     \"T\" : 1, \n",
    "     \"G\": 2, \n",
    "     \"C\" : 3, \n",
    "     \"G\" : 4, \n",
    "     \"U\" : 5}\n"
   ]
  },
  {
   "cell_type": "code",
   "execution_count": null,
   "metadata": {
    "colab": {},
    "colab_type": "code",
    "id": "X0dgM48wtkEI"
   },
   "outputs": [],
   "source": [
    "a"
   ]
  },
  {
   "cell_type": "code",
   "execution_count": null,
   "metadata": {
    "colab": {},
    "colab_type": "code",
    "id": "78sXFrMatkEJ"
   },
   "outputs": [],
   "source": [
    "del a['U']\n",
    "a"
   ]
  },
  {
   "cell_type": "code",
   "execution_count": null,
   "metadata": {
    "colab": {},
    "colab_type": "code",
    "id": "T0NEf_y5tkEK",
    "scrolled": true
   },
   "outputs": [],
   "source": [
    "del a['U']"
   ]
  },
  {
   "cell_type": "markdown",
   "metadata": {
    "colab_type": "text",
    "id": "a18AsiaBtkEL"
   },
   "source": [
    "You can use the `pop` method - it is more correct"
   ]
  },
  {
   "cell_type": "code",
   "execution_count": null,
   "metadata": {
    "colab": {},
    "colab_type": "code",
    "id": "V2aXIr_utkEN"
   },
   "outputs": [],
   "source": [
    "a = {\"A\" : 0, \"T\" : 1, \"G\": 2, \"C\" : 3, \"G\" : 4, \"U\" : 5}\n",
    "a.pop('U')\n",
    "a"
   ]
  },
  {
   "cell_type": "code",
   "execution_count": null,
   "metadata": {
    "colab": {},
    "colab_type": "code",
    "id": "bh4DJ5yEtkEO"
   },
   "outputs": [],
   "source": [
    "a.pop('U')"
   ]
  },
  {
   "cell_type": "code",
   "execution_count": null,
   "metadata": {
    "colab": {},
    "colab_type": "code",
    "id": "Lzu3DjbStkEP"
   },
   "outputs": [],
   "source": [
    "a.pop('U', None)"
   ]
  },
  {
   "cell_type": "markdown",
   "metadata": {
    "colab_type": "text",
    "id": "3x2_LaVstkEQ"
   },
   "source": [
    "**But you should't do like this!**"
   ]
  },
  {
   "cell_type": "code",
   "execution_count": null,
   "metadata": {
    "colab": {},
    "colab_type": "code",
    "id": "pt8PPkE3tkEQ"
   },
   "outputs": [],
   "source": [
    "a = {\"A\" : 0, \n",
    "     \"T\" : 1,\n",
    "     \"G\": 2, \n",
    "     \"C\" : 3, \n",
    "     \"G\" : 4,\n",
    "     \"U\" : 5}\n",
    "\n",
    "for key in a.keys():\n",
    "    if key == \"C\":\n",
    "        a.pop(key)\n",
    "    "
   ]
  },
  {
   "cell_type": "markdown",
   "metadata": {
    "colab_type": "text",
    "id": "p_s7jmbNtkER"
   },
   "source": [
    "You can work around the problem like this:"
   ]
  },
  {
   "cell_type": "code",
   "execution_count": null,
   "metadata": {
    "colab": {},
    "colab_type": "code",
    "id": "v385XsJ5tkER"
   },
   "outputs": [],
   "source": [
    "a = {\"A\" : 0, \"TC\" : 1, \n",
    "     \"G\": 2, \"CG\" : 3, \n",
    "     \"GC\" : 4, \"U\" : 5}\n",
    "\n",
    "keys = list(a.keys())\n",
    "for key in keys:\n",
    "    if \"C\" in key:\n",
    "        a.pop(key)\n",
    "a"
   ]
  },
  {
   "cell_type": "markdown",
   "metadata": {
    "colab_type": "text",
    "id": "ySs3VLnRtkET"
   },
   "source": [
    "### Key order in the dictionary"
   ]
  },
  {
   "cell_type": "markdown",
   "metadata": {
    "colab_type": "text",
    "id": "Cf0NMVIotkET"
   },
   "source": [
    "Prior to Python version 3.5, no one guaranteed you any order of the keys in the dictionary. So, how they were given to you by the keys function, etc., did not depend neither on the order of insertion of elements, nor on the result of their comparison directly."
   ]
  },
  {
   "cell_type": "markdown",
   "metadata": {
    "colab_type": "text",
    "id": "FwIh0kjPtkEU"
   },
   "source": [
    "However, since the Pythonversion 3.7, **the keys order** in the dictionary matches the **order of their insertion** into it. If the key already existed in the dictionary and you overwrote it, then the order of the keys will not change."
   ]
  },
  {
   "cell_type": "markdown",
   "metadata": {
    "colab_type": "text",
    "id": "Cdq5mbBctkEU"
   },
   "source": [
    "### Advantages of dictionaries\n",
    "\n",
    "Retrieving a value by key and adding a new key to the dictionary is much faster than if you had to iterate over the list looking for the desired value.\n",
    "As a result, there is a huge set of tasks where dictionaries could and should be used.\n",
    "Together with lists dicts provide the ability to present a data structure of any complexity.\n",
    "\n",
    "### Disadvantages of dictionaries\n",
    "\n",
    "Dictionaries consume a lot of memory.\n",
    "All dictionary operations are fast on average - a single operation can take a very long time."
   ]
  },
  {
   "cell_type": "markdown",
   "metadata": {
    "colab_type": "text",
    "id": "D0aD6UvktkEU"
   },
   "source": [
    "# Tuples"
   ]
  },
  {
   "cell_type": "markdown",
   "metadata": {
    "colab_type": "text",
    "id": "hsCyu549tkEU"
   },
   "source": [
    "If you really want to make a list to be the key of the dictionary, then you need to use a tuple. At first glance, a tuple differs from a list only by replacing square brackets with parentheses, for example:"
   ]
  },
  {
   "cell_type": "code",
   "execution_count": null,
   "metadata": {
    "colab": {},
    "colab_type": "code",
    "id": "dkCPwiG9tkEV"
   },
   "outputs": [],
   "source": [
    "ta = (1, 2, 5, 4)\n",
    "ta[0]"
   ]
  },
  {
   "cell_type": "code",
   "execution_count": null,
   "metadata": {
    "colab": {},
    "colab_type": "code",
    "id": "jHDYkVS7tkEY"
   },
   "outputs": [],
   "source": [
    "a = (1)\n",
    "print (a)\n",
    "\n",
    "a = (1, )\n",
    "print(a)"
   ]
  },
  {
   "cell_type": "markdown",
   "metadata": {
    "colab_type": "text",
    "id": "FSEDE1rEtkEZ"
   },
   "source": [
    "A tuple is a lot like a list, but the main difference is that a tuple is immutable."
   ]
  },
  {
   "cell_type": "code",
   "execution_count": null,
   "metadata": {
    "colab": {},
    "colab_type": "code",
    "id": "Ikazsqw8tkEZ"
   },
   "outputs": [],
   "source": [
    "ta[0] = 5"
   ]
  },
  {
   "cell_type": "code",
   "execution_count": null,
   "metadata": {
    "colab": {},
    "colab_type": "code",
    "id": "_7HLf0cftkEa"
   },
   "outputs": [],
   "source": [
    "dt = {}\n",
    "\n",
    "dt[(1, 2)] = \"Hello\"\n",
    "dt[(2, 1)] = \"world\"\n",
    "dt"
   ]
  },
  {
   "cell_type": "code",
   "execution_count": null,
   "metadata": {
    "colab": {},
    "colab_type": "code",
    "id": "tfRnfRoVtkEc"
   },
   "outputs": [],
   "source": [
    "dt[(1,2)]"
   ]
  },
  {
   "cell_type": "markdown",
   "metadata": {
    "colab_type": "text",
    "id": "i4X3L82etkEe"
   },
   "source": [
    "Apart from being able to serve as a dictionary key, in the case of tuples, access operations (get an element of a tuple, slice, etc.) are faster. Python can optimize a program that creates many small tuples which is not available for lists. \n",
    "\n",
    "On the other hand, any operation of editing a tuple leads to the creation of a new tuple, which in large quantities can slow down the program and eat up your computer's memory."
   ]
  },
  {
   "cell_type": "markdown",
   "metadata": {
    "colab_type": "text",
    "id": "rp5-uWaktkEe"
   },
   "source": [
    "# Set"
   ]
  },
  {
   "cell_type": "markdown",
   "metadata": {
    "colab_type": "text",
    "id": "vBApLzh4tkEe"
   },
   "source": [
    "In some cases, it is convenient to use the set data type. This is exactly a set in the mathematical sense: its elements are unique and cannot be repeated (unlike in a list or tuple)."
   ]
  },
  {
   "cell_type": "code",
   "execution_count": null,
   "metadata": {
    "colab": {},
    "colab_type": "code",
    "id": "ma97iTIztkEf"
   },
   "outputs": [],
   "source": [
    "s = {-10, 20, 45}\n",
    "s.add(348)\n",
    "s.add(-100000)\n",
    "s.add(-10)\n",
    "s"
   ]
  },
  {
   "cell_type": "code",
   "execution_count": null,
   "metadata": {
    "colab": {},
    "colab_type": "code",
    "id": "ze5b3wyItkEi"
   },
   "outputs": [],
   "source": [
    "my_set1 = {1, 7, 9} # first way to create set\n",
    "my_set2 = set([0, -4, 10, 1]) # second way\n"
   ]
  },
  {
   "cell_type": "code",
   "execution_count": null,
   "metadata": {
    "colab": {},
    "colab_type": "code",
    "id": "RN-T6U2XtkEk"
   },
   "outputs": [],
   "source": [
    "lst = [1, 10, -5, -5, 20]\n",
    "my_set = set(lst)\n",
    "my_set"
   ]
  },
  {
   "cell_type": "code",
   "execution_count": null,
   "metadata": {
    "colab": {},
    "colab_type": "code",
    "id": "oar3mEnatkEm"
   },
   "outputs": [],
   "source": [
    "for elem in my_set:\n",
    "    print(elem)"
   ]
  },
  {
   "cell_type": "markdown",
   "metadata": {
    "colab_type": "text",
    "id": "ZfWxA_HGtkEn"
   },
   "source": [
    "Sets are used in a typical solution to keep only unique items in the list"
   ]
  },
  {
   "cell_type": "code",
   "execution_count": null,
   "metadata": {
    "colab": {},
    "colab_type": "code",
    "id": "tFXlMUe9tkEn"
   },
   "outputs": [],
   "source": [
    "lst = [1, 10, -5, -5, 20, -10, 20, 0, 0, 0]\n",
    "my_set = set(lst)\n",
    "unique_lst = list(my_set)\n",
    "unique_lst"
   ]
  },
  {
   "cell_type": "markdown",
   "metadata": {
    "colab_type": "text",
    "id": "cg-I4h0OtkEo"
   },
   "source": [
    "Operations of union, intersection and difference are defined on sets."
   ]
  },
  {
   "cell_type": "code",
   "execution_count": null,
   "metadata": {
    "colab": {},
    "colab_type": "code",
    "id": "DYkr7WTntkEo"
   },
   "outputs": [],
   "source": [
    "my_set1 & my_set2 # intersection"
   ]
  },
  {
   "cell_type": "code",
   "execution_count": null,
   "metadata": {
    "colab": {},
    "colab_type": "code",
    "id": "jPqbU4jltkEs"
   },
   "outputs": [],
   "source": [
    "my_set1 | my_set2 # join"
   ]
  },
  {
   "cell_type": "code",
   "execution_count": null,
   "metadata": {
    "colab": {},
    "colab_type": "code",
    "id": "B3leuSo6tkEt"
   },
   "outputs": [],
   "source": [
    "my_set1 - my_set2 # difference "
   ]
  },
  {
   "cell_type": "code",
   "execution_count": null,
   "metadata": {
    "colab": {},
    "colab_type": "code",
    "id": "-W4Q549UtkEv"
   },
   "outputs": [],
   "source": [
    "my_set1.symmetric_difference(my_set2)"
   ]
  },
  {
   "cell_type": "markdown",
   "metadata": {
    "colab_type": "text",
    "id": "-0QGanOKtkEx"
   },
   "source": [
    "You can check for the presence of an element in a set using the already known **in** keyword"
   ]
  },
  {
   "cell_type": "code",
   "execution_count": null,
   "metadata": {
    "colab": {},
    "colab_type": "code",
    "id": "FsmndhaltkEx"
   },
   "outputs": [],
   "source": [
    "5 in my_set1"
   ]
  },
  {
   "cell_type": "code",
   "execution_count": null,
   "metadata": {
    "colab": {},
    "colab_type": "code",
    "id": "Rj8fuBFctkEy"
   },
   "outputs": [],
   "source": [
    "nucleotides = {\"A\", \"G\", \"T\", \"U\", \"C\"}\n",
    "\n",
    "n = input()\n",
    "\n",
    "if not (n in nucleotides):\n",
    "    print (\"error\")\n"
   ]
  },
  {
   "cell_type": "code",
   "execution_count": null,
   "metadata": {
    "colab": {},
    "colab_type": "code",
    "id": "R4AqzOcdtkEz"
   },
   "outputs": [],
   "source": [
    "nucleotides = {\"A\", \"G\", \"T\", \"U\", \"C\"}\n",
    "\n",
    "n = input()\n",
    "\n",
    "if n not in nucleotides:\n",
    "    print (\"error\")\n"
   ]
  },
  {
   "cell_type": "markdown",
   "metadata": {
    "colab_type": "text",
    "id": "xWhTWD3DtkE0"
   },
   "source": [
    "Set is a mutable type (cannot be a dictionary key, but can be a dictionary value). Mutability is needed to use the `add`, `pop`, and `remove` methods that are convenient in some situations"
   ]
  },
  {
   "cell_type": "code",
   "execution_count": null,
   "metadata": {
    "colab": {},
    "colab_type": "code",
    "id": "9wRWEAZ-tkE0"
   },
   "outputs": [],
   "source": [
    "print (my_set1.pop())\n",
    "my_set1"
   ]
  },
  {
   "cell_type": "code",
   "execution_count": null,
   "metadata": {
    "colab": {},
    "colab_type": "code",
    "id": "ratl14YCtkE2"
   },
   "outputs": [],
   "source": [
    "my_set1.add(5)\n",
    "my_set1"
   ]
  },
  {
   "cell_type": "markdown",
   "metadata": {
    "colab_type": "text",
    "id": "ycz-hZEttkE3"
   },
   "source": [
    "### Order of elements in a set"
   ]
  },
  {
   "cell_type": "markdown",
   "metadata": {
    "colab_type": "text",
    "id": "VyWwxCBwtkE3"
   },
   "source": [
    "The order of the elements in the set is still not guaranteed and does not depend on anything. Your launch result may differ, for example)"
   ]
  },
  {
   "cell_type": "code",
   "execution_count": null,
   "metadata": {
    "colab": {},
    "colab_type": "code",
    "id": "SPoUg-YytkE3"
   },
   "outputs": [],
   "source": [
    "s = {-10, 20, 45}\n",
    "s.add(348)\n",
    "s.add(-100000)\n",
    "s"
   ]
  },
  {
   "cell_type": "markdown",
   "metadata": {
    "colab_type": "text",
    "id": "I-3NnkxOtkE5"
   },
   "source": [
    "## Frozenset"
   ]
  },
  {
   "cell_type": "markdown",
   "metadata": {
    "colab_type": "text",
    "id": "gkrWyHJMtkE5"
   },
   "source": [
    "The immutable counterpart to `set` is **frozenset**. Unlike a regular set, it can be used as a key in a dictionary."
   ]
  },
  {
   "cell_type": "code",
   "execution_count": null,
   "metadata": {
    "colab": {},
    "colab_type": "code",
    "id": "C_NySsl-tkE5"
   },
   "outputs": [],
   "source": [
    "my_frozen = frozenset([4, 5, 6])\n",
    "my_frozen"
   ]
  },
  {
   "cell_type": "code",
   "execution_count": null,
   "metadata": {
    "colab": {},
    "colab_type": "code",
    "id": "PuL8_jLOtkE6"
   },
   "outputs": [],
   "source": [
    "my_frozen.add(4)"
   ]
  },
  {
   "cell_type": "markdown",
   "metadata": {
    "colab_type": "text",
    "id": "Q-rOUvEQtkE8"
   },
   "source": [
    "###  Collections\n",
    "\n",
    "The `collections` module has several modifications to the standard dictionary that make some things much easier (for example, counting different items in a list)\n",
    "\n",
    "Elements:\n",
    "- Counter\n",
    "- DefaultDict\n",
    "- NamedTuple\n",
    "- Deque"
   ]
  },
  {
   "cell_type": "markdown",
   "metadata": {
    "colab_type": "text",
    "id": "FmI6U0YrtkE9"
   },
   "source": [
    "#### Counter"
   ]
  },
  {
   "cell_type": "code",
   "execution_count": null,
   "metadata": {
    "colab": {},
    "colab_type": "code",
    "id": "7XWgruACtkE-",
    "scrolled": true
   },
   "outputs": [],
   "source": [
    "from collections import Counter\n",
    "\n",
    "nucleotides = [\"A\", \"T\", \"G\", \"C\"]\n",
    "seq = \"ATAATATATATGAGGCGGCGCGCGCG\"\n",
    "cnt = Counter(seq)\n",
    "print(cnt)\n",
    "for n in nucleotides:\n",
    "    print (cnt[n])"
   ]
  },
  {
   "cell_type": "markdown",
   "metadata": {
    "colab_type": "text",
    "id": "CEwYXAsWtkFA"
   },
   "source": [
    "#### defaultdict"
   ]
  },
  {
   "cell_type": "code",
   "execution_count": 1,
   "metadata": {
    "colab": {},
    "colab_type": "code",
    "id": "7Nc9NQYetkFA",
    "scrolled": true
   },
   "outputs": [
    {
     "name": "stdout",
     "output_type": "stream",
     "text": [
      "defaultdict(<class 'list'>, {})\n",
      "[]\n",
      "defaultdict(<class 'list'>, {1: []})\n",
      "dict:    defaultdict(<class 'list'>, {1: ['A', 'A'], 2: ['A'], 100: ['C']})\n",
      "dict[1]   ['A', 'A']\n",
      "dict[20]   []\n",
      "dict  defaultdict(<class 'list'>, {1: ['A', 'A'], 2: ['A'], 100: ['C'], 20: []})\n"
     ]
    }
   ],
   "source": [
    "from collections import defaultdict\n",
    "\n",
    "dl_dict = defaultdict(list) \n",
    "# for each key that is not in the dictionary, but we asked for it - create an empty list by default\n",
    "print(dl_dict)\n",
    "print(dl_dict[1])\n",
    "print(dl_dict)\n",
    "dl_dict[1].append(\"A\")\n",
    "dl_dict[1].append(\"A\")\n",
    "dl_dict[2].append(\"A\")\n",
    "dl_dict[100].append(\"C\")\n",
    "print (\"dict: \", dl_dict, sep=\"   \")\n",
    "print (\"dict[1]\", dl_dict[1], sep=\"   \")\n",
    "print (\"dict[20]\", dl_dict[20], sep=\"   \")\n",
    "print (\"dict\", dl_dict, sep=\"  \")"
   ]
  },
  {
   "cell_type": "markdown",
   "metadata": {},
   "source": [
    "### NamedTuple"
   ]
  },
  {
   "cell_type": "code",
   "execution_count": 4,
   "metadata": {},
   "outputs": [
    {
     "name": "stdout",
     "output_type": "stream",
     "text": [
      "vector(x=3, y=5)\n",
      "3\n",
      "3 5\n",
      "3 5\n"
     ]
    }
   ],
   "source": [
    "# Named Tuple used as more convenient tuple option. Its allows you named fields inside it. It will be very comfortable when you try to understand what element of tuple what realy mean.\n",
    "#\n",
    "#  As usual tuples it is unmutubale object mean you can not change it after creating. \n",
    "\n",
    "from collections import namedtuple\n",
    "vector = namedtuple ('vector', ['x','y']) #So, here we create a constructor of tuples like vector\n",
    "# And now we try to create one of them. \n",
    "arrow = vector(3,5) # We create new named tuple with type vector\n",
    "print (arrow)\n",
    "print (arrow[0]) # and like in usual tuple we can ask it with index\n",
    "print (arrow.x, arrow.y) # or with name of field - this is the main point of such structure\n",
    "print (*arrow) # and of course we can create from it list of arguments "
   ]
  },
  {
   "cell_type": "code",
   "execution_count": 5,
   "metadata": {},
   "outputs": [
    {
     "name": "stdout",
     "output_type": "stream",
     "text": [
      "vector3(x=1, y=2, i=3, j=4)\n"
     ]
    }
   ],
   "source": [
    "# To concatenate two tuples you need to create a new one from previous\n",
    "vector2 = namedtuple ('vector2', ['i','j']) # another one named tuple\n",
    "vector3 = namedtuple ('vector3', vector._fields + vector2._fields)\n",
    "print (vector3(1,2,3,4))"
   ]
  },
  {
   "cell_type": "code",
   "execution_count": 6,
   "metadata": {},
   "outputs": [
    {
     "data": {
      "text/plain": [
       "{'x': 3, 'y': 5}"
      ]
     },
     "execution_count": 6,
     "metadata": {},
     "output_type": "execute_result"
    }
   ],
   "source": [
    "# And of course you can turn it into dictionary\n",
    "arrow._asdict()"
   ]
  },
  {
   "cell_type": "code",
   "execution_count": 7,
   "metadata": {},
   "outputs": [
    {
     "name": "stdout",
     "output_type": "stream",
     "text": [
      "vector(x=3, y=4)\n",
      "vector(x=3, y=4)\n"
     ]
    }
   ],
   "source": [
    "# Plus to this if you realy whant change one field, but not whant write something like\n",
    "arrow2 = vector (arrow.x, 4)\n",
    "print (arrow2)\n",
    "\n",
    "# You can use function _replace(field=value)\n",
    "arrow3 = arrow._replace (y = 4)\n",
    "print (arrow3)"
   ]
  }
 ],
 "metadata": {
  "colab": {
   "collapsed_sections": [
    "lSvu660EtkAu",
    "Cdq5mbBctkEU"
   ],
   "name": "Lesson_1.ipynb",
   "provenance": []
  },
  "kernelspec": {
   "display_name": "Python 3",
   "language": "python",
   "name": "python3"
  },
  "language_info": {
   "codemirror_mode": {
    "name": "ipython",
    "version": 3
   },
   "file_extension": ".py",
   "mimetype": "text/x-python",
   "name": "python",
   "nbconvert_exporter": "python",
   "pygments_lexer": "ipython3",
   "version": "3.8.5"
  },
  "toc": {
   "base_numbering": 1,
   "nav_menu": {},
   "number_sections": true,
   "sideBar": true,
   "skip_h1_title": false,
   "title_cell": "Table of Contents",
   "title_sidebar": "Contents",
   "toc_cell": false,
   "toc_position": {},
   "toc_section_display": true,
   "toc_window_display": false
  }
 },
 "nbformat": 4,
 "nbformat_minor": 1
}
