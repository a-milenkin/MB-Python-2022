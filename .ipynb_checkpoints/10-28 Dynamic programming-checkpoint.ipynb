{
 "cells": [
  {
   "cell_type": "markdown",
   "metadata": {},
   "source": [
    "# Dynamic programming\n",
    "\n",
    "## Combinatorial optimization\n",
    "\n",
    "In previous lecture we spoke about special task type calling Combinatorial optimization. Lets remember them.\n",
    "\n",
    "`Combinatorial optimization` problem in simple words is task where you should choose the optimal subset from the set of elements to get the \"best\" result of some function (usually it mean take the minimum or maximum of function value). More formally - we have `F(y1,y2,y3,...)` and the set `X = {x1,x2,...,xN}` - our task is choose `K` elements from set `X` to get a maximum\\minimum of `F` value. Wherein `F` can be depend on number of elements (K), for example the less elements we take the bigger value of `F` we got, or on the set of elements (for example the bigger element we take the better result we get). But more often our number `K` is depend on some other parameter of elements.\n",
    "\n",
    "Plus to this, `F` can be divided into two parts - `f(y1,y2,...)` the function of result that we need maximize\\minimize and `k(y1,y2,...)` system of inequalities that describe the restrictions on the elements that we can use. More often it look like `K < |y1| + |y2| + ...`, where |yi| is some parameter like volume of object.\n",
    "\n",
    "![coins](images/10-21/coin0.png)\n",
    "\n",
    "So, plus to this at previous lecture we discuss one of the most simple and famous type of algorithm that can solve some types of Combinatorial optimization tasks - Greedy algorithm. Unfortunately it has a lot of limitation, so we need to think about different algorithm for this task type. Fortunately there is another one famous algorithm - Dynamic programming."
   ]
  },
  {
   "cell_type": "markdown",
   "metadata": {},
   "source": [
    "## Dynamic programming main idea\n",
    "\n",
    "Actually it is not a ready-made algorithm but rather a scheme how to create an algorithm for solving the task. Let's go straight to a simple example - Fibonacci numbers.\n",
    "\n",
    "![fibonacci](images\\10-28\\fibonacci.jfif)\n",
    "\n",
    "In this task we should calculate the number `F(n) = F(n-1) + F(n-2)`, but I think you remember that. So, let look to this algorithm more closer.\n",
    "\n",
    "First of all - there is 'recursion function call' mean that the answer for the some n is depend of answers from previous n-1,n-2 and etc. . More formally - each step of our algorithm should calculate from the data from previous steps.\n",
    "\n",
    "So, the main idea of such algorithm is divide our task into parts and try to solve the subtasks. The main problem of such way is that there is not any good schedule to create the subtasks for our task. Sometimes there are obvious like in Fibonacci numbers. But more often there are not, for example the backpack task. We need to maximize the cost of packages, but what subtask we should solve to take the answer? With less packages, or with less volume inside backpack? The right answer are both, but you should choose such subtasks that can also be divided into subtasks and the result of which can be calculated from they subtasks. \n",
    "\n",
    "More simple and formally - you should create some logical or mathematical function `Fun(X,K) = Fun1 (Fun(X1,K1), Fun(X2,K2),...)`, where `X`,`K` - our elements and conditions, and `Xi`,`Ki` is subsets from them for some subtasks, and `Fun1` is the function that can help calculate the answer for `Fun(X,K)` from subfunctions.\n",
    "\n",
    "In Fibonacci numbers `Fun(X,K)` is `F(N)`, `Fun1(Fun(X1,K1),Fun(X2,K2))` is the sum of elements and `X` is an `N` - the ordinal number of Fibonacci number."
   ]
  },
  {
   "cell_type": "markdown",
   "metadata": {},
   "source": [
    "## Top-down and Bottom-up algorithms\n",
    "\n",
    "So, the Fibonacci numbers are top-down algorithm, means that we have some target that we should calculate. And to calculate it we should divide our task into subtasks `F(n-1)` and `F(n-2)`. But there can be the bottom-up algorithm, for example, \"Find the Fibonacci number that is less than `N`\". This means that we don't have our finished computation goal, but we have some inequalities and `f` function that we should maximize. And to do this for Fibonacci numbers we began from the beginning (`F(0)` and `F(1)`) and calculate all elements till not meet the required element.\n",
    "\n",
    "![top-down-fib](images\\10-28\\top-down-fib.png)\n",
    "\n",
    "More often you can solve the task both ways, because the top-down algorithm can be easily transferred into the bottom-up algorithm by just creating the condition like (till we do not meet the X from which we call our task). But there can be problems with unnecessary calculations. Because we can calculate some subtasks that are not needed inside our end goal. But more often to calculate dynamic algorithms all subtasks are required without exceptions.\n",
    "\n",
    "In the other direction ascending to descending algorithms, it can work not always. Let's take the same example that we took before - calculate the n for the maximum Fibonacci number that is less than N. For such a task there are not any `Fun` functions that we can call recursively. But still, such a way of solving the algorithm is more efficient than the bottom-up because it calls only such functions that we needed."
   ]
  },
  {
   "cell_type": "code",
   "execution_count": null,
   "metadata": {},
   "outputs": [],
   "source": [
    "def fibb_new(n):\n",
    "    if n == 0:\n",
    "        return 0\n",
    "    if n == 1:\n",
    "        return 1\n",
    "    if n == 2:\n",
    "        return 2\n",
    "\n",
    "    return fibb_new (n-2) + fibb_new (n-3)"
   ]
  },
  {
   "cell_type": "code",
   "execution_count": 8,
   "metadata": {},
   "outputs": [
    {
     "name": "stdout",
     "output_type": "stream",
     "text": [
      "3 1\n",
      "4 3\n",
      "5 3\n",
      "6 4\n"
     ]
    },
    {
     "data": {
      "text/plain": [
       "4"
      ]
     },
     "execution_count": 8,
     "metadata": {},
     "output_type": "execute_result"
    }
   ],
   "source": [
    "def fibb_bottom(n):\n",
    "    arr = list(range(n))\n",
    "    for i in range (3, n):\n",
    "        arr[i] = arr[i-2] + arr[i-3]\n",
    "        print(i, arr[i])\n",
    "        \n",
    "    return arr[n-1]\n",
    "\n",
    "fibb_bottom (7)"
   ]
  },
  {
   "cell_type": "markdown",
   "metadata": {},
   "source": [
    "## Memorization\n",
    "\n",
    "Another one important moment is memorization. For example let's back to our original Fibonacci task (Yep, today we will learn it by heart!). For each `F(n)` we call `F(n-1)` and `F(n-2)`. But what interesting, actually we call `F` function for some n twice and more. And this greatly complicates our computing process. Let's just calculate how many times we call `F(1)` for `F(7)`."
   ]
  },
  {
   "cell_type": "code",
   "execution_count": 9,
   "metadata": {},
   "outputs": [
    {
     "name": "stdout",
     "output_type": "stream",
     "text": [
      "[13]\n"
     ]
    }
   ],
   "source": [
    "def fibonacci_rec(n, acc):\n",
    "    if n < 0:\n",
    "        return 0\n",
    "    \n",
    "    if n == 0:\n",
    "        return 0\n",
    "    if n == 1:\n",
    "        acc[0]+=1\n",
    "        return 1\n",
    "    \n",
    "    return fibonacci_rec(n - 1, acc) + fibonacci_rec(n - 2, acc)\n",
    "\n",
    "acc = [0]\n",
    "fibonacci_rec (7,acc)\n",
    "print (acc)"
   ]
  },
  {
   "cell_type": "markdown",
   "metadata": {},
   "source": [
    "13 times. And in a result the sum of the number of function calls will be"
   ]
  },
  {
   "cell_type": "code",
   "execution_count": 16,
   "metadata": {},
   "outputs": [
    {
     "name": "stdout",
     "output_type": "stream",
     "text": [
      "[465]\n"
     ]
    }
   ],
   "source": [
    "def fibonacci_rec(n, acc):\n",
    "    acc[0]+=1\n",
    "    if n < 0:\n",
    "        return 0\n",
    "    \n",
    "    if n == 0:\n",
    "        return 0\n",
    "    if n == 1:\n",
    "        \n",
    "        return 1\n",
    "    \n",
    "    return fibonacci_rec(n - 1, acc) + fibonacci_rec(n - 2, acc)\n",
    "\n",
    "acc = [0]\n",
    "fibonacci_rec (12,acc)\n",
    "print (acc)"
   ]
  },
  {
   "cell_type": "markdown",
   "metadata": {},
   "source": [
    "So, we need to do something with this. And the answer is memorization or hashing our results. We already know about the associated arrays and we can use it to memorize the answer for some values. For example we can memorize the answer for number F(5) and it will help not recalculate it. Lets made this for all numbers and calc the number of calling the F."
   ]
  },
  {
   "cell_type": "code",
   "execution_count": 17,
   "metadata": {},
   "outputs": [
    {
     "name": "stdout",
     "output_type": "stream",
     "text": [
      "12\n",
      "11\n",
      "10\n",
      "9\n",
      "8\n",
      "7\n",
      "6\n",
      "5\n",
      "4\n",
      "3\n",
      "2\n",
      "1\n",
      "0\n",
      "1\n",
      "2\n",
      "3\n",
      "4\n",
      "5\n",
      "6\n",
      "7\n",
      "8\n",
      "9\n",
      "10\n",
      "[23]\n"
     ]
    }
   ],
   "source": [
    "def fibonacci_rec(n, acc, memory):\n",
    "    acc[0]+=1\n",
    "    print (n)\n",
    "    if n < 0:\n",
    "        return 0\n",
    "    if n in memory.keys():\n",
    "            return memory[n]\n",
    "    \n",
    "    if n == 0:\n",
    "        memory[0] = 0\n",
    "        return 0\n",
    "    if n == 1:\n",
    "        memory[1] = 1\n",
    "        return 1\n",
    "    \n",
    "    memory[n] = fibonacci_rec(n - 1, acc, memory) + fibonacci_rec(n - 2, acc, memory)\n",
    "    return memory[n]\n",
    "\n",
    "acc = [0]\n",
    "memory = dict()\n",
    "fibonacci_rec (12,acc, memory)\n",
    "print (acc)"
   ]
  },
  {
   "cell_type": "markdown",
   "metadata": {},
   "source": [
    "How you can see, it is about 23 times what is much less than is the case without memorization. But in ither hand to do memorization we should use some additional memory for it, therefore, you need to think carefully about what in your case will be more effective - memorization or calculating directly."
   ]
  },
  {
   "cell_type": "markdown",
   "metadata": {},
   "source": [
    "### Example (backpack problem)\n",
    "\n",
    "Now lets speak about one of the famous example - knapsack/backpack problem. Remind you - backpack problem is the task where you should put some packets/boxes inside packpack with limited size. Each packet has the cost and the voluem. And we need put inside the backpack boxes with maximum summ cost.\n",
    "\n",
    "Ok, as we spoke at previous lesson Greedy algorithm can not solve this task. So let's apply dynamic programming."
   ]
  },
  {
   "cell_type": "markdown",
   "metadata": {},
   "source": [
    "![Knapsack](images/10-21/Knapsack.png)"
   ]
  },
  {
   "cell_type": "markdown",
   "metadata": {},
   "source": [
    "For example we have three boxes (2,4), (8,5), (9,12) and the size of backpack - 15. So, now we should divide our task into the number of subtasks. To think how to do it let is remember the all task parametrs. First one - the volume of backpack, second one - boxes with volume and cost (from it we have the number of boxes and parametrs for each one). And at each step we should deside what box we need to take now. But lets look like at steps from the other side - at each step we will deside will we put the item under the number `i` into our backpack. And from this point we can create subfunctions - for the first step we should understand what will be the total cost of the backpack if we put the item and do not put the item. So, let's just run the algorithm recursively on two situation, and after calculation we diside if we want put this box into backpack or not.\n",
    "\n",
    "For our example the algroithm will look something like this:\n",
    "```\n",
    "                  (10,5) - 8\n",
    "                  /      - 9\n",
    "                 /      /\n",
    "(15,1) - (15,2) - (15,3) - 0\n",
    "        \\\n",
    "         (11,2) - (11,3) - 2\n",
    "                \\ \n",
    "                  (6,3) - 10\n",
    "```"
   ]
  },
  {
   "cell_type": "markdown",
   "metadata": {},
   "source": [
    "So, at each step we create two new branch of recursion tree (where we put our box and where not). The complexity of such algorithm will be at the worst situation - `2^N`, because at each step we create 2 branch and we got 2*2*2... . The solution how always is memorization, where we can memorize some pairs (empty volume, current box) to memorize the best way to this pair and not recalculate it, but it will help only in situation when we have the same size of backpack, so it still `2^N`, but it much better than `N!` for full search.\n",
    "\n",
    "The answer for our algorithm will be the biggest sum throw all lists of tree."
   ]
  },
  {
   "cell_type": "markdown",
   "metadata": {},
   "source": [
    "`F(X) x ={(2$,4L), (8$,5L), (9$,12L)} BP = 15L`"
   ]
  },
  {
   "cell_type": "markdown",
   "metadata": {},
   "source": [
    "And here is example of code:"
   ]
  },
  {
   "cell_type": "code",
   "execution_count": 8,
   "metadata": {},
   "outputs": [
    {
     "name": "stdout",
     "output_type": "stream",
     "text": [
      "10\n"
     ]
    }
   ],
   "source": [
    "def aggregation (results):\n",
    "    return max(results)\n",
    "    pass\n",
    "\n",
    "def back_pack (packages, k, amount = None):\n",
    "    if (amount == None):\n",
    "        amount = len(packages) - 1\n",
    "    if (k==0):\n",
    "        return 0\n",
    "    if (k<0):\n",
    "        return -packages[amount + 1][0]\n",
    "    if amount < 0:\n",
    "        return 0\n",
    "    # new volume of packpack for subtask\n",
    "    # the amount of elements that we have inside packages.\n",
    "    return aggregation\\\n",
    "        ((back_pack (packages, k, amount - 1),\\\n",
    "         back_pack (packages, k - packages[amount][1], amount - 1)  + packages[amount][0]))\n",
    "    pass\n",
    "\n",
    "packages = [(2,4), (8,5), (9,12)]\n",
    "k = 15\n",
    "print (back_pack (packages, k))"
   ]
  },
  {
   "cell_type": "markdown",
   "metadata": {},
   "source": [
    "How you can see we got right answer (because 9,12 not give us opportunite to put in backpack (2,4)). But, as I sayed before, ther is not ready for work algorithm, just the idea-schedule for such type of tasks. And I hope that some day you will understand how to solve create effecient variants of Dynamic algorithms."
   ]
  },
  {
   "cell_type": "code",
   "execution_count": null,
   "metadata": {},
   "outputs": [],
   "source": []
  },
  {
   "cell_type": "markdown",
   "metadata": {},
   "source": [
    "# Additional materials"
   ]
  },
  {
   "cell_type": "markdown",
   "metadata": {},
   "source": [
    "* https://www.youtube.com/watch?v=vYquumk4nWw"
   ]
  },
  {
   "cell_type": "code",
   "execution_count": null,
   "metadata": {},
   "outputs": [],
   "source": []
  }
 ],
 "metadata": {
  "kernelspec": {
   "display_name": "Python 3.8.3 64-bit ('base': conda)",
   "metadata": {
    "interpreter": {
     "hash": "ecf5722fdaf1897a315d257d89d94520bfcaa453217d5becf09b39e73618b0de"
    }
   },
   "name": "Python 3.8.3 64-bit ('base': conda)"
  },
  "language_info": {
   "codemirror_mode": {
    "name": "ipython",
    "version": 3
   },
   "file_extension": ".py",
   "mimetype": "text/x-python",
   "name": "python",
   "nbconvert_exporter": "python",
   "pygments_lexer": "ipython3",
   "version": "3.8.3-final"
  },
  "toc": {
   "base_numbering": 1,
   "nav_menu": {},
   "number_sections": true,
   "sideBar": true,
   "skip_h1_title": false,
   "title_cell": "Table of Contents",
   "title_sidebar": "Contents",
   "toc_cell": false,
   "toc_position": {},
   "toc_section_display": true,
   "toc_window_display": false
  }
 },
 "nbformat": 4,
 "nbformat_minor": 2
}
