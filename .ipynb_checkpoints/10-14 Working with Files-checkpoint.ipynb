{
 "cells": [
  {
   "cell_type": "markdown",
   "metadata": {
    "id": "L4kwaFOQPnZm"
   },
   "source": [
    "# Files\n",
    "\n",
    "Working with files -- is one of most important parts of any programm in general and bioinformatic in particular About 90% of works of bioinformatist is parse files and processing with it data. \n",
    "\n",
    "File is a data that are contained inside some data carrier like hard drive or usb flash. You can read or write them using file system. But actually when you try to work with file you always work with some programm, that work with file for example file explorer or notepad. So, let's try to work with them. "
   ]
  },
  {
   "cell_type": "code",
   "execution_count": 6,
   "metadata": {},
   "outputs": [],
   "source": [
    "#Firstly run this to work with examples\n",
    "f = open ('spring1.txt', \"w\")\n",
    "f.write (\"There are three things you can watch forever: fire, water, and your one year old code\")\n",
    "f.close()\n",
    "f = open ('spring2.txt', \"w\")\n",
    "f.write (\"I hear that you smart\\nDon't believe everything they said\")\n",
    "f.close()\n",
    "f = open ('spring3.txt', \"w\")\n",
    "f.write (\"Well, what can I tell you?\\n Life in the wide world goes on much as it has this past Age,\\n full of its own comings and goings,\\n scarcely aware of the existence of Hobbits,\\n for which I am very thankful.\")\n",
    "f.close()\n",
    "f = open ('spring4.txt', \"w\") \n",
    "f.write (\"Mordor.\\n The one place in Middle-Earth we don’t want to see any closer.\\n And it’s the one place we’re trying to get to.\\n It’s just where we can’t get.\\n Let’s face it, Mr. Frodo, we’re lost\")\n",
    "f.close()\n",
    "f = open ('tab.txt', \"w\")\n",
    "f.write (\"#name   seqlen  class\\nmouse   100 +\\nhuman   120 -\\ncat 140 +\")\n",
    "f.close()\n",
    "f = open ('example.csv', \"w\")\n",
    "f.write (\"Names,Summ\\nAndrew,34\\nMilla,45\\nMary,12\\nVitalia,56\\nJopen,42\")\n",
    "f.close()"
   ]
  },
  {
   "cell_type": "markdown",
   "metadata": {
    "id": "Po_JvA97PnZn"
   },
   "source": [
    "## File read\n",
    "\n",
    "For open a new file for reading there is the command `open(filename, \"r\")` that return the link to file variable. This variable is actually an container-interface that wait for commands for work with file."
   ]
  },
  {
   "cell_type": "code",
   "execution_count": 2,
   "metadata": {
    "colab": {
     "base_uri": "https://localhost:8080/",
     "height": 166
    },
    "id": "BYPyZT9pPnZo",
    "outputId": "7e64a8b7-1329-42c3-d1e6-f8687da13b69"
   },
   "outputs": [],
   "source": [
    "f = open('spring1.txt', \"r\")"
   ]
  },
  {
   "cell_type": "markdown",
   "metadata": {
    "id": "hQVcqBpPPnZs"
   },
   "source": [
    "The type of 'f' is quite strange and directly say that you can read from it."
   ]
  },
  {
   "cell_type": "code",
   "execution_count": 3,
   "metadata": {
    "id": "rAD52w5VPnZt",
    "outputId": "d89a46f8-aea5-47ed-efea-bfe26e0ff6c2"
   },
   "outputs": [
    {
     "data": {
      "text/plain": [
       "_io.TextIOWrapper"
      ]
     },
     "execution_count": 3,
     "metadata": {},
     "output_type": "execute_result"
    }
   ],
   "source": [
    "type(f)"
   ]
  },
  {
   "cell_type": "markdown",
   "metadata": {
    "id": "-_EHqht5PnZx"
   },
   "source": [
    "You can read the hole file at once"
   ]
  },
  {
   "cell_type": "code",
   "execution_count": 4,
   "metadata": {
    "id": "uygoDxQvPnZy",
    "outputId": "d8b5d459-c787-403f-a7d0-2c8f4476485d",
    "tags": []
   },
   "outputs": [
    {
     "name": "stdout",
     "output_type": "stream",
     "text": [
      "There are three things you can watch forever: fire, water, and your one year old code\n"
     ]
    }
   ],
   "source": [
    "print (f.read())"
   ]
  },
  {
   "cell_type": "markdown",
   "metadata": {
    "id": "I-d1W7HqPnZ2"
   },
   "source": [
    "Important!!! After you opened file and used them, you should close the file to say operating system that it can be used by another programm now."
   ]
  },
  {
   "cell_type": "code",
   "execution_count": 5,
   "metadata": {
    "id": "PT2T31FqPnZ3"
   },
   "outputs": [],
   "source": [
    "f.close()"
   ]
  },
  {
   "cell_type": "markdown",
   "metadata": {
    "id": "DXcqZPEPPnZ6"
   },
   "source": [
    "You can read from the file line by line: "
   ]
  },
  {
   "cell_type": "code",
   "execution_count": 6,
   "metadata": {
    "id": "uXkSY1GZPnZ7",
    "outputId": "6c37bd96-656b-49f3-d524-34e721d14004",
    "tags": []
   },
   "outputs": [
    {
     "name": "stdout",
     "output_type": "stream",
     "text": [
      "I hear that you smart\n",
      "\n",
      "Don&#39;t believe everything they say\n"
     ]
    }
   ],
   "source": [
    "f = open(\"spring2.txt\", \"r\")\n",
    "print (f.readline())\n",
    "print (f.readline())\n",
    "f.close()"
   ]
  },
  {
   "cell_type": "markdown",
   "metadata": {
    "id": "Ayo2ntVQPnZ9"
   },
   "source": [
    "Make a note that the line you just read has a '\\n' symbol at the end (symbol of the end of line). To delete it use strip() function, that delete at the begining and end of the string substring from the parametrs list. When the list is empty it delete '\\n' symbols."
   ]
  },
  {
   "cell_type": "code",
   "execution_count": 7,
   "metadata": {
    "id": "5naQUcnhPnZ-",
    "outputId": "979a3ff8-9068-4a88-c818-28cab3eb33f5",
    "tags": []
   },
   "outputs": [
    {
     "name": "stdout",
     "output_type": "stream",
     "text": [
      "bcb\n",
      "c\n",
      "I hear that you smart\n",
      "Don&#39;t believe everything they say\n"
     ]
    }
   ],
   "source": [
    "s = \"abcba\"\n",
    "print (s.strip(\"a\"))\n",
    "print (s.strip(\"ab\"))\n",
    "\n",
    "f = open(\"spring2.txt\", \"r\")\n",
    "print (f.readline().strip())\n",
    "print (f.readline().strip())"
   ]
  },
  {
   "cell_type": "markdown",
   "metadata": {
    "id": "c8KliEOKPnaC"
   },
   "source": [
    "When the file was read ot the end `readline` function return empty line without \"\\n\" at the end"
   ]
  },
  {
   "cell_type": "code",
   "execution_count": 8,
   "metadata": {
    "id": "ZZd0GW8bPnaC",
    "outputId": "06157f71-9cb7-49d9-81a4-640b578778ed",
    "tags": []
   },
   "outputs": [
    {
     "name": "stdout",
     "output_type": "stream",
     "text": [
      "Returning empty string : ||\n"
     ]
    }
   ],
   "source": [
    "print (\"Returning empty string : |\", f.readline(), \"|\", sep=\"\")\n",
    "f.close()\n"
   ]
  },
  {
   "cell_type": "markdown",
   "metadata": {
    "id": "OfAEj-RXPnaF"
   },
   "source": [
    "Ok, so we can read the whole file in this way:"
   ]
  },
  {
   "cell_type": "code",
   "execution_count": 9,
   "metadata": {
    "id": "DpGxVRp-PnaF",
    "outputId": "3b759fbf-3de5-48aa-87f0-22d0c9a3ba5d",
    "tags": []
   },
   "outputs": [
    {
     "name": "stdout",
     "output_type": "stream",
     "text": [
      "Well, what can I tell you?\n",
      "Life in the wide world goes on much as it has this past Age,\n",
      "full of its own comings and goings,\n",
      "scarcely aware of the existence of Hobbits,\n",
      "for which I am very thankful.\n"
     ]
    }
   ],
   "source": [
    "infile = open(\"spring3.txt\", \"r\")\n",
    "line = infile.readline()\n",
    "while line != \"\":\n",
    "    print(line.strip())\n",
    "    line = infile.readline() # why not to strip line right here:? \n",
    "\n",
    "infile.close()"
   ]
  },
  {
   "cell_type": "markdown",
   "metadata": {
    "id": "Oa8qdzhtPnaI"
   },
   "source": [
    "But Python have two methods that can help simplify your code.\n",
    "\n",
    "First one is `for` cycle. It work faster and can be used when you want process all lines in file by one algorithm. "
   ]
  },
  {
   "cell_type": "code",
   "execution_count": 10,
   "metadata": {
    "id": "NEYNZdy6PnaJ",
    "outputId": "51504fe9-34a1-499e-dede-59b32ffd3035",
    "tags": []
   },
   "outputs": [
    {
     "name": "stdout",
     "output_type": "stream",
     "text": [
      "Mordor.\n",
      "The one place in Middle-Earth we don’t want to see any closer.\n",
      "And it’s the one place we’re trying to get to.\n",
      "It’s just where we can’t get.\n",
      "Let’s face it, Mr. Frodo, we’re lost\n"
     ]
    }
   ],
   "source": [
    "infile = open(\"spring4.txt\", \"r\")\n",
    "for line in infile:\n",
    "    print(line.strip())\n",
    "infile.close()"
   ]
  },
  {
   "cell_type": "markdown",
   "metadata": {
    "id": "v2lYQ_m5PnaM"
   },
   "source": [
    "**Important**\n",
    "\n",
    "Once you read the file till the end you can not read it again from the beginning because file variable keep the position where you stopped read it."
   ]
  },
  {
   "cell_type": "code",
   "execution_count": 11,
   "metadata": {
    "id": "FP9MhZCzPnaN",
    "outputId": "d310df59-ca8b-4cd8-e903-c8ed62d322e1",
    "tags": []
   },
   "outputs": [
    {
     "name": "stdout",
     "output_type": "stream",
     "text": [
      "#name   seqlen  class\n",
      "mouse   100 +\n",
      "human   120 -\n",
      "cat 140 +\n"
     ]
    }
   ],
   "source": [
    "infile = open(\"tab.txt\", \"r\")\n",
    "for line in infile:\n",
    "    print(line.strip())\n",
    "    \n",
    "for line in infile: #won't be executed\n",
    "    print(line.strip())\n",
    "infile.close()"
   ]
  },
  {
   "cell_type": "markdown",
   "metadata": {
    "id": "5WpRncKMPnaS"
   },
   "source": [
    "And again, you can not read two times one line. At each step file variable will be moved further."
   ]
  },
  {
   "cell_type": "code",
   "execution_count": 14,
   "metadata": {
    "id": "WWqPaR4WPnaS",
    "outputId": "d3ed63da-ae06-4f6e-93c8-5cf145cb3122",
    "tags": []
   },
   "outputs": [
    {
     "name": "stdout",
     "output_type": "stream",
     "text": [
      "Reading the first line\n",
      "#name   seqlen  class\n",
      "\n",
      "Reading with for-cycle\n",
      "mouse   100 +\n",
      "human   120 -\n",
      "cat 140 +\n"
     ]
    }
   ],
   "source": [
    "infile = open(\"tab.txt\", \"r\")\n",
    "print (\"Reading the first line\")\n",
    "print (infile.readline().strip())\n",
    "print()\n",
    "\n",
    "print (\"Reading with for-cycle\")\n",
    "for line in infile:\n",
    "    print(line.strip())\n",
    "    \n",
    "infile.close()"
   ]
  },
  {
   "cell_type": "markdown",
   "metadata": {
    "id": "BX4xk9a5PnaV"
   },
   "source": [
    "You can move to the beginning of the file with command seek."
   ]
  },
  {
   "cell_type": "code",
   "execution_count": 15,
   "metadata": {
    "id": "OY0OHij6PnaV",
    "outputId": "401581bb-8952-4ef2-9eab-f99b0e8467a8",
    "tags": []
   },
   "outputs": [
    {
     "name": "stdout",
     "output_type": "stream",
     "text": [
      "#name   seqlen  class\n",
      "mouse   100 +\n",
      "human   120 -\n",
      "cat 140 +\n",
      "\n",
      "Reading file from the beginning\n",
      "\n",
      "#name   seqlen  class\n",
      "mouse   100 +\n",
      "human   120 -\n",
      "cat 140 +\n"
     ]
    }
   ],
   "source": [
    "infile = open(\"tab.txt\", \"r\")\n",
    "for line in infile:\n",
    "    print(line.strip())\n",
    "\n",
    "print(\"\\nReading file from the beginning\\n\")\n",
    "infile.seek(0) # go to the start of the file\n",
    "for line in infile: \n",
    "    print(line.strip())\n",
    "infile.close()"
   ]
  },
  {
   "cell_type": "markdown",
   "metadata": {
    "id": "P77dl8aGPnaY"
   },
   "source": [
    "## File write"
   ]
  },
  {
   "cell_type": "markdown",
   "metadata": {
    "id": "-2X55vGcPnaZ"
   },
   "source": [
    "To open file for writting execute `open(filename, \"w\")` method (this command can create a new empty file)\n",
    "\n",
    "To write into file `infile` execute method `write`"
   ]
  },
  {
   "cell_type": "code",
   "execution_count": 19,
   "metadata": {
    "id": "3C4ncxpjPnaZ",
    "outputId": "7a4c92f8-614d-495f-ecff-387ab5ea8044"
   },
   "outputs": [],
   "source": [
    "infile = open(\"Munchhausen.txt\", \"w\")\n",
    "\n",
    "phrase = \"It’s the job that’s never started as takes longest to finish\\n\" # write doesn't append \\n at the of string\n",
    "\n",
    "infile.write(phrase)\n",
    "infile.close()# if you not close it there are not apperance new data inside, because it will be in line for recording"
   ]
  },
  {
   "cell_type": "code",
   "execution_count": 20,
   "metadata": {
    "id": "MTAZR2ySPnac",
    "outputId": "372e5356-b157-4542-8174-ddb1bb3a299d",
    "tags": []
   },
   "outputs": [
    {
     "name": "stdout",
     "output_type": "stream",
     "text": [
      "It’s the job that’s never started as takes longest to finish\n",
      "\n"
     ]
    }
   ],
   "source": [
    "f = open(\"Munchhausen.txt\", 'r')\n",
    "print (f.read())\n",
    "f.close()"
   ]
  },
  {
   "cell_type": "markdown",
   "metadata": {
    "id": "xY3TJP9PPnaf"
   },
   "source": [
    "You can write to the end of existing file too by open it in append-mode \"a\"."
   ]
  },
  {
   "cell_type": "code",
   "execution_count": 21,
   "metadata": {
    "id": "WKvVh-UXPnaf",
    "outputId": "57b33309-32d3-457b-d934-5d8a748c7e09",
    "tags": []
   },
   "outputs": [
    {
     "name": "stdout",
     "output_type": "stream",
     "text": [
      "It’s the job that’s never started as takes longest to finish\n",
      "\n",
      "All we have to decide is what to do with the time that is given us\n",
      "@Gandalf\n",
      "\n"
     ]
    }
   ],
   "source": [
    "f = open(\"Munchhausen.txt\", 'a')\n",
    "\n",
    "s = 'All we have to decide is what to do with the time that is given us\\n'\n",
    "f.write(\"\\n\")\n",
    "f.write(s)\n",
    "f.write(\"@Gandalf\\n\") \n",
    "f.close()\n",
    "f = open(\"Munchhausen.txt\", 'r')\n",
    "print (f.read())\n",
    "f.close()"
   ]
  },
  {
   "cell_type": "markdown",
   "metadata": {
    "id": "TW2gcJegPnai"
   },
   "source": [
    "## Why it is so important to close files? "
   ]
  },
  {
   "cell_type": "markdown",
   "metadata": {
    "collapsed": true,
    "id": "ZqfrQj01Pnaj"
   },
   "source": [
    "All opened files are automatically closed after finish of program execution.\n",
    "\n",
    "And all will be work good until you was create a new temp files that will be used inside programm"
   ]
  },
  {
   "cell_type": "code",
   "execution_count": 25,
   "metadata": {
    "id": "X8jgkrFUPnaj",
    "outputId": "46e762bd-2563-4f7e-e585-e69f9b8b1940",
    "tags": []
   },
   "outputs": [
    {
     "name": "stdout",
     "output_type": "stream",
     "text": [
      "\n"
     ]
    }
   ],
   "source": [
    "cat = \"cat.txt\"\n",
    "f = open(cat, \"w\")\n",
    "f.write(\"Hello,\")\n",
    "f.write(\"world\\n\")\n",
    "g = open(cat, \"r\")\n",
    "print (g.read())\n"
   ]
  },
  {
   "cell_type": "markdown",
   "metadata": {
    "id": "qib_4-yQPnal"
   },
   "source": [
    "Unexpectedly nothing was printed. It happen because we not close the file and not write data inside it.\n",
    "\n",
    "Because write and read into file is very slowly operation Opreation System will be wait until there are enought data to write into the file (buffer for write will be full). Because of it even after you execute command `write` file can be empty until it will be closed."
   ]
  },
  {
   "cell_type": "code",
   "execution_count": 26,
   "metadata": {
    "id": "3HWJHfjKPnam",
    "outputId": "6295aa06-dd37-4f98-a122-77781212d612",
    "tags": []
   },
   "outputs": [
    {
     "name": "stdout",
     "output_type": "stream",
     "text": [
      "Hello,world\n",
      "\n"
     ]
    }
   ],
   "source": [
    "f.close()\n",
    "print (g.read())\n",
    "g.close()"
   ]
  },
  {
   "cell_type": "markdown",
   "metadata": {
    "id": "8IFmz0S6Pnao"
   },
   "source": [
    "Make a note that bioinformatic tasks very offten require to work with file, many files. And if you forgote to close them than you program can crush because Operating System will prevent your programm to opening new files. It is call \"leak of files descriptors\" mean that there are ended file descriptors - numbers that the operating system binds to open files.\n",
    "\n",
    "Demonstration (please, don't run it):"
   ]
  },
  {
   "cell_type": "code",
   "execution_count": null,
   "metadata": {
    "id": "pUoou6oOPnap"
   },
   "outputs": [],
   "source": [
    "# Don't run this code because IPython will crash\n",
    "opened_files = []\n",
    "\n",
    "for i in range(1, 10000):\n",
    "    fl = open(str(i), \"w\")\n",
    "    opened_files.append(fl)"
   ]
  },
  {
   "cell_type": "markdown",
   "metadata": {
    "id": "cEn3ydXlPnar"
   },
   "source": [
    "If you want to try code above without iPython crash you can run code below and then run script.py with console. Make a note that you can open the same file for read as many times as you want"
   ]
  },
  {
   "cell_type": "code",
   "execution_count": 27,
   "metadata": {
    "id": "2KUE1goLPnas"
   },
   "outputs": [],
   "source": [
    "scr = '''\n",
    "opened_files = []\n",
    "for i in range(1, 10000):\n",
    "    fl = open('spring1.txt', \"r\")\n",
    "    opened_files.append(fl)\n",
    "''' # another way to define multiline strings in Python\n",
    "\n",
    "outfile = open(\"script.py\", \"w\")\n",
    "outfile.write(scr)\n",
    "outfile.close()"
   ]
  },
  {
   "cell_type": "markdown",
   "metadata": {
    "id": "bxnv1brTPnau"
   },
   "source": [
    "To run command into Terminal or cmd from Jupyter you can write command with `!` into cell beginning."
   ]
  },
  {
   "cell_type": "code",
   "execution_count": 28,
   "metadata": {
    "id": "JQ7M6JlvPnau",
    "outputId": "4ce9a1f8-b783-4087-ddf6-baa48a36584c",
    "tags": []
   },
   "outputs": [
    {
     "name": "stderr",
     "output_type": "stream",
     "text": [
      "Traceback (most recent call last):\n",
      "  File &quot;script.py&quot;, line 4, in &lt;module&gt;\n",
      "OSError: [Errno 24] Too many open files: &#39;spring1.txt&#39;\n"
     ]
    }
   ],
   "source": [
    "!python script.py"
   ]
  },
  {
   "cell_type": "markdown",
   "metadata": {
    "id": "UCh22VjlPnbs"
   },
   "source": [
    "## Some of the most famous file formats\n",
    "\n",
    "Very often data is presented as tables. The two most commonly used formats for tables is CSV -- Comma-Separated Values and TSV -- Tab Separated Values.\n",
    "\n",
    "And here we see a new one operation - import. In short that means we want to use some library for python that contains number of function that we need. For example library (module) csv contain type `csvfile` that can read a csv file and separate data by divider(comma for csv) online, while it read the file."
   ]
  },
  {
   "cell_type": "code",
   "execution_count": 2,
   "metadata": {
    "collapsed": true,
    "id": "vFnwwMq3Pnbs"
   },
   "outputs": [],
   "source": [
    "import csv"
   ]
  },
  {
   "cell_type": "code",
   "execution_count": 8,
   "metadata": {
    "id": "p0LJBKU3Pnbv",
    "outputId": "6e1ca239-24f1-4baa-d957-c0d28b7fd812",
    "tags": []
   },
   "outputs": [
    {
     "name": "stdout",
     "output_type": "stream",
     "text": [
      "[&#39;Names&#39;, &#39;Summ&#39;]\n",
      "[&#39;Andrew&#39;, &#39;34&#39;]\n",
      "[&#39;Milla&#39;, &#39;45&#39;]\n",
      "[&#39;Mary&#39;, &#39;12&#39;]\n",
      "[&#39;Vitalia&#39;, &#39;56&#39;]\n",
      "[&#39;Jopen&#39;, &#39;42&#39;]\n",
      "37.8\n"
     ]
    }
   ],
   "source": [
    "summ = []\n",
    "with open('example.csv') as csvfile:\n",
    "    iris_dataset = csv.reader(csvfile)\n",
    "    header = next(iris_dataset)\n",
    "    print (header)\n",
    "    for row in iris_dataset:\n",
    "        print (row)\n",
    "        summ.append( float(row[1]) ) \n",
    "        \n",
    "print(sum(summ)/len(summ))"
   ]
  },
  {
   "cell_type": "markdown",
   "metadata": {
    "id": "MxwaNbXbPnbx"
   },
   "source": [
    "### JSON\n",
    "(JavaScript Object Notation, see https://www.json.org/ ) "
   ]
  },
  {
   "cell_type": "code",
   "execution_count": 23,
   "metadata": {
    "collapsed": true,
    "id": "r1Ti3_eGPnbx"
   },
   "outputs": [],
   "source": [
    "d = { \"name\":\"John\", \"age\":20, \"os\":\"linux\" }"
   ]
  },
  {
   "cell_type": "code",
   "execution_count": 24,
   "metadata": {
    "collapsed": true,
    "id": "PjVQ0gGNPnb0"
   },
   "outputs": [],
   "source": [
    "import json\n",
    "with open('example.json', 'w') as f:\n",
    "    json.dump(d, f)"
   ]
  },
  {
   "cell_type": "markdown",
   "metadata": {},
   "source": [
    "Run command via bush console"
   ]
  },
  {
   "cell_type": "code",
   "execution_count": 25,
   "metadata": {
    "id": "JhBf6xttPnb2",
    "outputId": "aa55777c-4d60-433a-911e-4b8298a302a8",
    "tags": []
   },
   "outputs": [
    {
     "name": "stdout",
     "output_type": "stream",
     "text": [
      "{&quot;name&quot;: &quot;John&quot;, &quot;age&quot;: 20, &quot;os&quot;: &quot;linux&quot;}"
     ]
    }
   ],
   "source": [
    "%%bash\n",
    "less example.json"
   ]
  },
  {
   "cell_type": "code",
   "execution_count": 26,
   "metadata": {
    "collapsed": true,
    "id": "Gp6ijkC7Pnb4"
   },
   "outputs": [],
   "source": [
    "with open('example.json', 'r') as f:\n",
    "    d = json.load(f)"
   ]
  },
  {
   "cell_type": "code",
   "execution_count": 27,
   "metadata": {
    "collapsed": true,
    "id": "LcSZvAxxPnb7"
   },
   "outputs": [],
   "source": [
    "# one-liner\n",
    "d = json.load(open('example.json', 'r'))"
   ]
  },
  {
   "cell_type": "code",
   "execution_count": 29,
   "metadata": {
    "id": "eR6KY98fPnb-",
    "outputId": "a31ef03d-46a4-43f4-9550-69c1a2e514db"
   },
   "outputs": [
    {
     "data": {
      "text/plain": [
       "{&#39;name&#39;: &#39;John&#39;, &#39;age&#39;: 20, &#39;os&#39;: &#39;linux&#39;}"
      ]
     },
     "execution_count": 29,
     "metadata": {},
     "output_type": "execute_result"
    }
   ],
   "source": [
    "json.loads(open('example.json').read())"
   ]
  },
  {
   "cell_type": "markdown",
   "metadata": {
    "id": "fNVofCdhPncF"
   },
   "source": [
    "### PICKLE\n",
    "It is binary file that take less space in memory. It is read and written faster than usual files. "
   ]
  },
  {
   "cell_type": "code",
   "execution_count": 31,
   "metadata": {
    "collapsed": true,
    "id": "44NHpXSnPncG"
   },
   "outputs": [],
   "source": [
    "import pickle"
   ]
  },
  {
   "cell_type": "code",
   "execution_count": 32,
   "metadata": {
    "collapsed": true,
    "id": "SQxtW7zUPncH"
   },
   "outputs": [],
   "source": [
    "d = { \"name\":\"John\", \"age\":20, \"os\":\"linux\" }\n",
    "pickle.dump( d , open( \"example.pickle\", \"wb\" ) )"
   ]
  },
  {
   "cell_type": "code",
   "execution_count": 33,
   "metadata": {
    "collapsed": true,
    "id": "shjaSL37PncJ"
   },
   "outputs": [],
   "source": [
    "d = pickle.load(open( \"example.pickle\", \"rb\" ))"
   ]
  },
  {
   "cell_type": "code",
   "execution_count": 34,
   "metadata": {
    "id": "6gVl2A4xPncL",
    "outputId": "d69c5d15-a80c-470b-92b8-03d1b0638e0d"
   },
   "outputs": [
    {
     "data": {
      "text/plain": [
       "{&#39;name&#39;: &#39;John&#39;, &#39;age&#39;: 20, &#39;os&#39;: &#39;linux&#39;}"
      ]
     },
     "execution_count": 34,
     "metadata": {},
     "output_type": "execute_result"
    }
   ],
   "source": [
    "d"
   ]
  },
  {
   "cell_type": "markdown",
   "metadata": {
    "id": "oEBwyzghPncN"
   },
   "source": [
    "## Reading from network. \n",
    "\n",
    "More informations: https://docs.python.org/3/howto/urllib2.html"
   ]
  },
  {
   "cell_type": "code",
   "execution_count": 35,
   "metadata": {
    "id": "F689-1lsPncN"
   },
   "outputs": [],
   "source": [
    "import urllib.request"
   ]
  },
  {
   "cell_type": "code",
   "execution_count": 38,
   "metadata": {
    "id": "IH-y8tcPPncQ",
    "tags": []
   },
   "outputs": [
    {
     "name": "stdout",
     "output_type": "stream",
     "text": [
      "b&#39;&lt;!doctype html&gt;\\n&lt;!--[if lt IE 7]&gt;   &lt;html class=&quot;no-js ie6 lt-ie7 lt-ie8 lt-ie9&quot;&gt;   &lt;![endif]--&gt;\\n&lt;!-&#39;\n"
     ]
    }
   ],
   "source": [
    "with urllib.request.urlopen('http://python.org/') as response:\n",
    "    html = response.read()\n",
    "    print (html[0:100])"
   ]
  },
  {
   "cell_type": "code",
   "execution_count": 39,
   "metadata": {
    "id": "4AIm5rcvPncS"
   },
   "outputs": [
    {
     "data": {
      "text/plain": [
       "[b&#39;The following are the graphical (non-control) characters defined by\\n&#39;,\n",
       " b&quot;ISO 8859-1 (1987).  Descriptions in words aren&#39;t all that helpful,\\n&quot;,\n",
       " b&quot;but they&#39;re the best we can do in text.  A graphics file illustrating\\n&quot;,\n",
       " b&#39;the character set should be available from the same archive as this\\n&#39;,\n",
       " b&#39;file.\\n&#39;,\n",
       " b&#39;\\n&#39;,\n",
       " b&#39;Hex Description                 Hex Description\\n&#39;,\n",
       " b&#39;\\n&#39;,\n",
       " b&#39;20  SPACE\\n&#39;,\n",
       " b&#39;21  EXCLAMATION MARK            A1  INVERTED EXCLAMATION MARK\\n&#39;,\n",
       " b&#39;22  QUOTATION MARK              A2  CENT SIGN\\n&#39;,\n",
       " b&#39;23  NUMBER SIGN                 A3  POUND SIGN\\n&#39;,\n",
       " b&#39;24  DOLLAR SIGN                 A4  CURRENCY SIGN\\n&#39;,\n",
       " b&#39;25  PERCENT SIGN                A5  YEN SIGN\\n&#39;,\n",
       " b&#39;26  AMPERSAND                   A6  BROKEN BAR\\n&#39;,\n",
       " b&#39;27  APOSTROPHE                  A7  SECTION SIGN\\n&#39;,\n",
       " b&#39;28  LEFT PARENTHESIS            A8  DIAERESIS\\n&#39;,\n",
       " b&#39;29  RIGHT PARENTHESIS           A9  COPYRIGHT SIGN\\n&#39;,\n",
       " b&#39;2A  ASTERISK                    AA  FEMININE ORDINAL INDICATOR\\n&#39;,\n",
       " b&#39;2B  PLUS SIGN                   AB  LEFT-POINTING DOUBLE ANGLE QUOTATION MARK\\n&#39;,\n",
       " b&#39;2C  COMMA                       AC  NOT SIGN\\n&#39;,\n",
       " b&#39;2D  HYPHEN-MINUS                AD  SOFT HYPHEN\\n&#39;,\n",
       " b&#39;2E  FULL STOP                   AE  REGISTERED SIGN\\n&#39;,\n",
       " b&#39;2F  SOLIDUS                     AF  OVERLINE\\n&#39;,\n",
       " b&#39;30  DIGIT ZERO                  B0  DEGREE SIGN\\n&#39;,\n",
       " b&#39;31  DIGIT ONE                   B1  PLUS-MINUS SIGN\\n&#39;,\n",
       " b&#39;32  DIGIT TWO                   B2  SUPERSCRIPT TWO\\n&#39;,\n",
       " b&#39;33  DIGIT THREE                 B3  SUPERSCRIPT THREE\\n&#39;,\n",
       " b&#39;34  DIGIT FOUR                  B4  ACUTE ACCENT\\n&#39;,\n",
       " b&#39;35  DIGIT FIVE                  B5  MICRO SIGN\\n&#39;,\n",
       " b&#39;36  DIGIT SIX                   B6  PILCROW SIGN\\n&#39;,\n",
       " b&#39;37  DIGIT SEVEN                 B7  MIDDLE DOT\\n&#39;,\n",
       " b&#39;38  DIGIT EIGHT                 B8  CEDILLA\\n&#39;,\n",
       " b&#39;39  DIGIT NINE                  B9  SUPERSCRIPT ONE\\n&#39;,\n",
       " b&#39;3A  COLON                       BA  MASCULINE ORDINAL INDICATOR\\n&#39;,\n",
       " b&#39;3B  SEMICOLON                   BB  RIGHT-POINTING DOUBLE ANGLE QUOTATION MARK\\n&#39;,\n",
       " b&#39;3C  LESS-THAN SIGN              BC  VULGAR FRACTION ONE QUARTER\\n&#39;,\n",
       " b&#39;3D  EQUALS SIGN                 BD  VULGAR FRACTION ONE HALF\\n&#39;,\n",
       " b&#39;3E  GREATER-THAN SIGN           BE  VULGAR FRACTION THREE QUARTERS\\n&#39;,\n",
       " b&#39;3F  QUESTION MARK               BF  INVERTED QUESTION MARK\\n&#39;,\n",
       " b&#39;40  COMMERCIAL AT               C0  CAPITAL LETTER A WITH GRAVE\\n&#39;,\n",
       " b&#39;41  CAPITAL LETTER A            C1  CAPITAL LETTER A WITH ACUTE\\n&#39;,\n",
       " b&#39;42  CAPITAL LETTER B            C2  CAPITAL LETTER A WITH CIRCUMFLEX\\n&#39;,\n",
       " b&#39;43  CAPITAL LETTER C            C3  CAPITAL LETTER A WITH TILDE\\n&#39;,\n",
       " b&#39;44  CAPITAL LETTER D            C4  CAPITAL LETTER A WITH DIAERESIS\\n&#39;,\n",
       " b&#39;45  CAPITAL LETTER E            C5  CAPITAL LETTER A WITH RING ABOVE\\n&#39;,\n",
       " b&#39;46  CAPITAL LETTER F            C6  CAPITAL LETTER AE\\n&#39;,\n",
       " b&#39;47  CAPITAL LETTER G            C7  CAPITAL LETTER C WITH CEDILLA\\n&#39;,\n",
       " b&#39;48  CAPITAL LETTER H            C8  CAPITAL LETTER E WITH GRAVE\\n&#39;,\n",
       " b&#39;49  CAPITAL LETTER I            C9  CAPITAL LETTER E WITH ACUTE\\n&#39;,\n",
       " b&#39;4A  CAPITAL LETTER J            CA  CAPITAL LETTER E WITH CIRCUMFLEX\\n&#39;,\n",
       " b&#39;4B  CAPITAL LETTER K            CB  CAPITAL LETTER E WITH DIAERESIS\\n&#39;,\n",
       " b&#39;4C  CAPITAL LETTER L            CC  CAPITAL LETTER I WITH GRAVE\\n&#39;,\n",
       " b&#39;4D  CAPITAL LETTER M            CD  CAPITAL LETTER I WITH ACUTE\\n&#39;,\n",
       " b&#39;4E  CAPITAL LETTER N            CE  CAPITAL LETTER I WITH CIRCUMFLEX\\n&#39;,\n",
       " b&#39;4F  CAPITAL LETTER O            CF  CAPITAL LETTER I WITH DIAERESIS\\n&#39;,\n",
       " b&#39;50  CAPITAL LETTER P            D0  CAPITAL LETTER ETH (Icelandic)\\n&#39;,\n",
       " b&#39;51  CAPITAL LETTER Q            D1  CAPITAL LETTER N WITH TILDE\\n&#39;,\n",
       " b&#39;52  CAPITAL LETTER R            D2  CAPITAL LETTER O WITH GRAVE\\n&#39;,\n",
       " b&#39;53  CAPITAL LETTER S            D3  CAPITAL LETTER O WITH ACUTE\\n&#39;,\n",
       " b&#39;54  CAPITAL LETTER T            D4  CAPITAL LETTER O WITH CIRCUMFLEX\\n&#39;,\n",
       " b&#39;55  CAPITAL LETTER U            D5  CAPITAL LETTER O WITH TILDE\\n&#39;,\n",
       " b&#39;56  CAPITAL LETTER V            D6  CAPITAL LETTER O WITH DIAERESIS\\n&#39;,\n",
       " b&#39;57  CAPITAL LETTER W            D7  MULTIPLICATION SIGN\\n&#39;,\n",
       " b&#39;58  CAPITAL LETTER X            D8  CAPITAL LETTER O WITH STROKE\\n&#39;,\n",
       " b&#39;59  CAPITAL LETTER Y            D9  CAPITAL LETTER U WITH GRAVE\\n&#39;,\n",
       " b&#39;5A  CAPITAL LETTER Z            DA  CAPITAL LETTER U WITH ACUTE\\n&#39;,\n",
       " b&#39;5B  LEFT SQUARE BRACKET         DB  CAPITAL LETTER U WITH CIRCUMFLEX\\n&#39;,\n",
       " b&#39;5C  REVERSE SOLIDUS             DC  CAPITAL LETTER U WITH DIAERESIS\\n&#39;,\n",
       " b&#39;5D  RIGHT SQUARE BRACKET        DD  CAPITAL LETTER Y WITH ACUTE\\n&#39;,\n",
       " b&#39;5E  CIRCUMFLEX ACCENT           DE  CAPITAL LETTER THORN (Icelandic)\\n&#39;,\n",
       " b&#39;5F  LOW LINE                    DF  SMALL LETTER SHARP S (German)\\n&#39;,\n",
       " b&#39;60  GRAVE ACCENT                E0  SMALL LETTER A WITH GRAVE\\n&#39;,\n",
       " b&#39;61  SMALL LETTER A              E1  SMALL LETTER A WITH ACUTE\\n&#39;,\n",
       " b&#39;62  SMALL LETTER B              E2  SMALL LETTER A WITH CIRCUMFLEX\\n&#39;,\n",
       " b&#39;63  SMALL LETTER C              E3  SMALL LETTER A WITH TILDE\\n&#39;,\n",
       " b&#39;64  SMALL LETTER D              E4  SMALL LETTER A WITH DIAERESIS\\n&#39;,\n",
       " b&#39;65  SMALL LETTER E              E5  SMALL LETTER A WITH RING ABOVE\\n&#39;,\n",
       " b&#39;66  SMALL LETTER F              E6  SMALL LETTER AE\\n&#39;,\n",
       " b&#39;67  SMALL LETTER G              E7  SMALL LETTER C WITH CEDILLA\\n&#39;,\n",
       " b&#39;68  SMALL LETTER H              E8  SMALL LETTER E WITH GRAVE\\n&#39;,\n",
       " b&#39;69  SMALL LETTER I              E9  SMALL LETTER E WITH ACUTE\\n&#39;,\n",
       " b&#39;6A  SMALL LETTER J              EA  SMALL LETTER E WITH CIRCUMFLEX\\n&#39;,\n",
       " b&#39;6B  SMALL LETTER K              EB  SMALL LETTER E WITH DIAERESIS\\n&#39;,\n",
       " b&#39;6C  SMALL LETTER L              EC  SMALL LETTER I WITH GRAVE\\n&#39;,\n",
       " b&#39;6D  SMALL LETTER M              ED  SMALL LETTER I WITH ACUTE\\n&#39;,\n",
       " b&#39;6E  SMALL LETTER N              EE  SMALL LETTER I WITH CIRCUMFLEX\\n&#39;,\n",
       " b&#39;6F  SMALL LETTER O              EF  SMALL LETTER I WITH DIAERESIS\\n&#39;,\n",
       " b&#39;70  SMALL LETTER P              F0  SMALL LETTER ETH (Icelandic)\\n&#39;,\n",
       " b&#39;71  SMALL LETTER Q              F1  SMALL LETTER N WITH TILDE\\n&#39;,\n",
       " b&#39;72  SMALL LETTER R              F2  SMALL LETTER O WITH GRAVE\\n&#39;,\n",
       " b&#39;73  SMALL LETTER S              F3  SMALL LETTER O WITH ACUTE\\n&#39;,\n",
       " b&#39;74  SMALL LETTER T              F4  SMALL LETTER O WITH CIRCUMFLEX\\n&#39;,\n",
       " b&#39;75  SMALL LETTER U              F5  SMALL LETTER O WITH TILDE\\n&#39;,\n",
       " b&#39;76  SMALL LETTER V              F6  SMALL LETTER O WITH DIAERESIS\\n&#39;,\n",
       " b&#39;77  SMALL LETTER W              F7  DIVISION SIGN\\n&#39;,\n",
       " b&#39;78  SMALL LETTER X              F8  SMALL LETTER O WITH STROKE\\n&#39;,\n",
       " b&#39;79  SMALL LETTER Y              F9  SMALL LETTER U WITH GRAVE\\n&#39;,\n",
       " b&#39;7A  SMALL LETTER Z              FA  SMALL LETTER U WITH ACUTE\\n&#39;,\n",
       " b&#39;7B  LEFT CURLY BRACKET          FB  SMALL LETTER U WITH CIRCUMFLEX\\n&#39;,\n",
       " b&#39;7C  VERTICAL LINE               FC  SMALL LETTER U WITH DIAERESIS\\n&#39;,\n",
       " b&#39;7D  RIGHT CURLY BRACKET         FD  SMALL LETTER Y WITH ACUTE\\n&#39;,\n",
       " b&#39;7E  TILDE                       FE  SMALL LETTER THORN (Icelandic)\\n&#39;,\n",
       " b&#39;                                FF  SMALL LETTER Y WITH DIAERESIS\\n&#39;]"
      ]
     },
     "execution_count": 39,
     "metadata": {},
     "output_type": "execute_result"
    }
   ],
   "source": [
    "with urllib.request.urlopen('https://www.w3.org/TR/PNG/iso_8859-1.txt') as response:\n",
    "    txt = response.readlines()\n",
    "txt"
   ]
  },
  {
   "cell_type": "markdown",
   "metadata": {
    "id": "f_OMDN4FPncV"
   },
   "source": [
    "Useful links for bioinformatic data formats:\n",
    "\n",
    "- https://genome.ucsc.edu/FAQ/FAQformat.html\n",
    "- https://en.wikipedia.org/wiki/Protein_Data_Bank_(file_format)"
   ]
  },
  {
   "cell_type": "markdown",
   "metadata": {
    "id": "bCjEKnzZPncW"
   },
   "source": [
    "### There are two more useful module to work with file system - `glob` and `os` "
   ]
  },
  {
   "cell_type": "markdown",
   "metadata": {
    "id": "Kh2vDwOnPncW"
   },
   "source": [
    "`glob.glob(reg)` can help you to search file by regular expression mask like '*.txt' - all file that ended with '.txt' or './abc/1?.git' - all files in 'abc' folder that start with 1, have any symbol in second position and ended with '.git' like './abc/1r.git'"
   ]
  },
  {
   "cell_type": "code",
   "execution_count": 40,
   "metadata": {
    "id": "Lp6NEihtPncW",
    "outputId": "eedf86e4-a5bd-4f0a-f0db-f707954e6084"
   },
   "outputs": [
    {
     "data": {
      "text/plain": [
       "[&#39;cat.txt&#39;,\n",
       " &#39;infile.txt&#39;,\n",
       " &#39;Munchhausen.txt&#39;,\n",
       " &#39;spring1.txt&#39;,\n",
       " &#39;spring2.txt&#39;,\n",
       " &#39;spring3.txt&#39;,\n",
       " &#39;spring4.txt&#39;,\n",
       " &#39;tab.txt&#39;]"
      ]
     },
     "execution_count": 40,
     "metadata": {},
     "output_type": "execute_result"
    }
   ],
   "source": [
    "import glob\n",
    "glob.glob('*.txt')"
   ]
  },
  {
   "cell_type": "markdown",
   "metadata": {
    "id": "wY_fZ4cVPncY"
   },
   "source": [
    "`os` help you work with file system without thinking about what file system OS use (ntfs, ext4, fat32)"
   ]
  },
  {
   "cell_type": "code",
   "execution_count": 41,
   "metadata": {
    "id": "mWLh8izyPncY"
   },
   "outputs": [],
   "source": [
    "import os"
   ]
  },
  {
   "cell_type": "code",
   "execution_count": 42,
   "metadata": {
    "id": "z6GObLVjPnca",
    "outputId": "ba086aa8-d418-4bfe-ce1c-3b5d73b4b27f"
   },
   "outputs": [
    {
     "data": {
      "text/plain": [
       "True"
      ]
     },
     "execution_count": 42,
     "metadata": {},
     "output_type": "execute_result"
    }
   ],
   "source": [
    "os.path.isfile('cat.txt')"
   ]
  },
  {
   "cell_type": "code",
   "execution_count": 43,
   "metadata": {
    "id": "DxC4Y1PNPncb",
    "outputId": "d43da7b1-b2c4-4524-cd41-361b0b5aec97"
   },
   "outputs": [
    {
     "data": {
      "text/plain": [
       "False"
      ]
     },
     "execution_count": 43,
     "metadata": {},
     "output_type": "execute_result"
    }
   ],
   "source": [
    "os.path.isdir('cat.txt')"
   ]
  },
  {
   "cell_type": "code",
   "execution_count": 44,
   "metadata": {
    "id": "efj6S5oUPncd"
   },
   "outputs": [],
   "source": [
    "os.mkdir('tmp/')"
   ]
  },
  {
   "cell_type": "markdown",
   "metadata": {
    "id": "PYUwvENdPnce"
   },
   "source": [
    "Path.join help you create correct path to file. For example:"
   ]
  },
  {
   "cell_type": "code",
   "execution_count": 49,
   "metadata": {
    "id": "tBg0knh_Pnce",
    "outputId": "72b9e465-890b-4190-fb4a-340fe73b9062"
   },
   "outputs": [
    {
     "data": {
      "text/plain": [
       "&#39;Vasya\\\\hw72\\\\exercise89.txt&#39;"
      ]
     },
     "execution_count": 49,
     "metadata": {},
     "output_type": "execute_result"
    }
   ],
   "source": [
    "os.path.join(\"Vasya\", \"hw72\", \"exercise89.txt\")"
   ]
  }
 ],
 "metadata": {
  "colab": {
   "name": "Basics_Lecture3.ipynb",
   "provenance": []
  },
  "kernelspec": {
   "display_name": "Python 3",
   "language": "python",
   "name": "python3"
  },
  "language_info": {
   "codemirror_mode": {
    "name": "ipython",
    "version": 3
   },
   "file_extension": ".py",
   "mimetype": "text/x-python",
   "name": "python",
   "nbconvert_exporter": "python",
   "pygments_lexer": "ipython3",
   "version": "3.8.5"
  },
  "toc": {
   "base_numbering": 1,
   "nav_menu": {},
   "number_sections": true,
   "sideBar": true,
   "skip_h1_title": false,
   "title_cell": "Table of Contents",
   "title_sidebar": "Contents",
   "toc_cell": false,
   "toc_position": {},
   "toc_section_display": true,
   "toc_window_display": false
  }
 },
 "nbformat": 4,
 "nbformat_minor": 1
}
