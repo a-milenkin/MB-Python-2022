{
 "cells": [
  {
   "cell_type": "markdown",
   "metadata": {
    "id": "8jFsRRHNXnMb"
   },
   "source": [
    "# Functions"
   ]
  },
  {
   "cell_type": "markdown",
   "metadata": {
    "id": "EOa3KQSxXnMc"
   },
   "source": [
    "Function - a part of program code that can be called from other place in the program"
   ]
  },
  {
   "cell_type": "markdown",
   "metadata": {
    "id": "x_MuxspMXnMd"
   },
   "source": [
    "In Python functions declare by key word 'def'. "
   ]
  },
  {
   "cell_type": "code",
   "execution_count": 4,
   "metadata": {
    "id": "2bo2e7QYXnMd",
    "outputId": "b26b4fe1-ea0c-41d5-dc9e-3221837ee348",
    "tags": []
   },
   "outputs": [],
   "source": [
    "def say_hello():\n",
    "    print('Hello World')"
   ]
  },
  {
   "cell_type": "code",
   "execution_count": 6,
   "metadata": {
    "id": "2bo2e7QYXnMd",
    "outputId": "b26b4fe1-ea0c-41d5-dc9e-3221837ee348",
    "tags": []
   },
   "outputs": [
    {
     "name": "stdout",
     "output_type": "stream",
     "text": [
      "Hello World\n"
     ]
    }
   ],
   "source": [
    "say_hello()"
   ]
  },
  {
   "cell_type": "code",
   "execution_count": 2,
   "metadata": {
    "id": "DKMCzFU8XnMi",
    "outputId": "df7fff92-ca06-4e3f-d9d1-b033cca85fe8",
    "tags": []
   },
   "outputs": [
    {
     "name": "stdout",
     "output_type": "stream",
     "text": [
      "3\n"
     ]
    }
   ],
   "source": [
    "def mod(a, b): #It's calculate a modulo b. To return result from function we need write key word 'return'\n",
    "    return a % b\n",
    "\n",
    "print (mod(3,4))"
   ]
  },
  {
   "cell_type": "code",
   "execution_count": 3,
   "metadata": {
    "id": "CtVi2XoEXnMl",
    "outputId": "88f74585-46f8-45f9-e352-a16f5b8b4761",
    "tags": []
   },
   "outputs": [
    {
     "name": "stdout",
     "output_type": "stream",
     "text": [
      "None\n"
     ]
    }
   ],
   "source": [
    "def wrong_mod(a, b): #previous example without return.\n",
    "    a % b\n",
    "\n",
    "print (wrong_mod(3,4))"
   ]
  },
  {
   "cell_type": "markdown",
   "metadata": {
    "id": "rRZz9IAUXnMp"
   },
   "source": [
    "The function can return multiple values. In this case it return them as tuple. "
   ]
  },
  {
   "cell_type": "code",
   "execution_count": 4,
   "metadata": {
    "id": "-8RQxi2kXnMp",
    "outputId": "9736051d-2e59-4777-bfd6-99d26f9cee2c",
    "tags": []
   },
   "outputs": [
    {
     "name": "stdout",
     "output_type": "stream",
     "text": [
      "&lt;class &#39;tuple&#39;&gt;\n",
      "0 Hell\n"
     ]
    }
   ],
   "source": [
    "def s_pats(string, pats): #This function search for substrings in pats and when it finds one it return it\n",
    "    ind = -1\n",
    "    for p in pats:\n",
    "        ind = string.find(p)\n",
    "        if ind != -1:\n",
    "            break\n",
    "    return ind, p\n",
    "\n",
    "res = s_pats(\"Hello, world\", [\"Hell\", \"world\",\n",
    "                              \"happiness\"])\n",
    "print (type(res))\n",
    "ind, p = res\n",
    "print(ind, p)"
   ]
  },
  {
   "cell_type": "markdown",
   "metadata": {
    "id": "GrVuFS3UXnMt"
   },
   "source": [
    "And there is examples of fuctions that implements calculation of factorial and N-th Fibonacci number"
   ]
  },
  {
   "cell_type": "code",
   "execution_count": 5,
   "metadata": {
    "id": "FgNbvSqtXnMu"
   },
   "outputs": [],
   "source": [
    "def factorial(n):\n",
    "    acc = 1\n",
    "    for i in range(2,n + 1):\n",
    "        acc *= i\n",
    "    return acc\n",
    "\n",
    "def fibonacci(n):\n",
    "    f0, f1 = 0, 1\n",
    "    for i in range(n):\n",
    "        f0, f1 = f1, f0 + f1\n",
    "        # temp = f0\n",
    "        # f0 = f1\n",
    "        # f1 = f1 + temp\n",
    "    return f0"
   ]
  },
  {
   "cell_type": "code",
   "execution_count": 6,
   "metadata": {
    "id": "3UY1q4nLXnMx",
    "outputId": "8d65b56e-0058-4019-ea05-18ce10d675a9",
    "tags": []
   },
   "outputs": [
    {
     "name": "stdout",
     "output_type": "stream",
     "text": [
      "120\n",
      "5\n"
     ]
    }
   ],
   "source": [
    "print (factorial(5))\n",
    "print (fibonacci(5))"
   ]
  },
  {
   "cell_type": "markdown",
   "metadata": {
    "id": "Hb87Nzd8XnM0"
   },
   "source": [
    "## Recursion\n",
    "\n",
    "Try to ask google)"
   ]
  },
  {
   "cell_type": "markdown",
   "metadata": {
    "id": "AjTGymX2XnM1"
   },
   "source": [
    "![recursion](https://res.cloudinary.com/dhbo6ilxb/image/upload/v1541158960/recursion.png)"
   ]
  },
  {
   "cell_type": "markdown",
   "metadata": {
    "id": "vccW_P1aXnM1"
   },
   "source": [
    "In Python there implements recursion mechanisms - when the function call to itself. Let's made examples of function above with recursion mechanism."
   ]
  },
  {
   "cell_type": "code",
   "execution_count": 12,
   "metadata": {
    "id": "uhUOTFW8XnM2"
   },
   "outputs": [],
   "source": [
    "def factorial_rec(n):\n",
    "    if n <= 1:\n",
    "        return 1\n",
    "    return n * factorial_rec(n - 1) #call to itself\n",
    "\n",
    "def fibonacci_rec(n):\n",
    "    if n < 0:\n",
    "        return 0\n",
    "    \n",
    "    if n == 0:\n",
    "        return 0\n",
    "    if n == 1:\n",
    "        return 1\n",
    "    \n",
    "    return fibonacci_rec(n - 1) + fibonacci_rec(n - 2)"
   ]
  },
  {
   "cell_type": "code",
   "execution_count": 8,
   "metadata": {
    "id": "1qMeTjIeXnM5",
    "outputId": "e5227e41-cd94-4e5f-8aad-2748408580f0",
    "tags": []
   },
   "outputs": [
    {
     "name": "stdout",
     "output_type": "stream",
     "text": [
      "120\n",
      "5\n"
     ]
    }
   ],
   "source": [
    "print (factorial_rec(5))\n",
    "print (fibonacci_rec(5))"
   ]
  },
  {
   "cell_type": "markdown",
   "metadata": {
    "id": "7RHm8a9HXnM8"
   },
   "source": [
    "So, how does it work? It will be usefull for work with this mechanism. When the function meet the call of itself it suspend of calculation of itself, run new version of itself and waits until the new version of it finishes calculations with other parameters. And the new version calls another one version utill one of them calls a version in which are no function calls (in example above the lines with n == 0 or 1). After that remaining functions continue to works one after another. Let's try modified one of examples above."
   ]
  },
  {
   "cell_type": "code",
   "execution_count": 10,
   "metadata": {
    "tags": []
   },
   "outputs": [
    {
     "name": "stdout",
     "output_type": "stream",
     "text": [
      "called fact with n = 6\n",
      "pause fact with n = 6\n",
      "called fact with n = 5\n",
      "pause fact with n = 5\n",
      "called fact with n = 4\n",
      "pause fact with n = 4\n",
      "called fact with n = 3\n",
      "pause fact with n = 3\n",
      "called fact with n = 2\n",
      "pause fact with n = 2\n",
      "called fact with n = 1\n",
      "resume fact with n = 2\n",
      "resume fact with n = 3\n",
      "resume fact with n = 4\n",
      "resume fact with n = 5\n",
      "resume fact with n = 6\n",
      "720\n"
     ]
    }
   ],
   "source": [
    "def factorial_rec_print(n):\n",
    "    print (\"called fact with n = \" + str(n))\n",
    "    if n <= 1:\n",
    "        return 1\n",
    "    print (\"pause fact with n = \" + str(n))\n",
    "    res = n * factorial_rec(n - 1)\n",
    "    print (\"resume fact with n = \" + str(n))\n",
    "    return res\n",
    "\n",
    "print (factorial_rec_print (6))"
   ]
  },
  {
   "cell_type": "markdown",
   "metadata": {
    "id": "dXF9ZyZ2XnM8"
   },
   "source": [
    "![factorial](https://res.cloudinary.com/dhbo6ilxb/image/upload/v1541159011/recursion_stack_2.png)"
   ]
  },
  {
   "cell_type": "markdown",
   "metadata": {
    "id": "x7sb1EK6XnM9"
   },
   "source": [
    "### Slowdown when using recursion"
   ]
  },
  {
   "cell_type": "markdown",
   "metadata": {
    "id": "dDwUjSDXXnM9"
   },
   "source": [
    "When you use recurtion you need additional resources to suspend, calling and resuming of fuctions. "
   ]
  },
  {
   "cell_type": "code",
   "execution_count": 11,
   "metadata": {
    "id": "pr-xjdhDXnM-",
    "outputId": "50d38438-1939-4331-ede1-6dd3b9cdad98",
    "tags": []
   },
   "outputs": [
    {
     "name": "stdout",
     "output_type": "stream",
     "text": [
      "348 µs ± 607 ns per loop (mean ± std. dev. of 7 runs, 1000 loops each)\n"
     ]
    }
   ],
   "source": [
    "%%timeit\n",
    "factorial(1000)"
   ]
  },
  {
   "cell_type": "code",
   "execution_count": 13,
   "metadata": {
    "id": "r_HrP2NgXnNC",
    "outputId": "7cc7c3d7-97f0-4970-f7e2-a7a33f5b54ce",
    "tags": []
   },
   "outputs": [
    {
     "name": "stdout",
     "output_type": "stream",
     "text": [
      "517 µs ± 7.97 µs per loop (mean ± std. dev. of 7 runs, 1000 loops each)\n"
     ]
    }
   ],
   "source": [
    "%%timeit\n",
    "factorial_rec(1000)"
   ]
  },
  {
   "cell_type": "markdown",
   "metadata": {
    "id": "I44KkIXJXnNF"
   },
   "source": [
    "348 vs 517 µs for my computer... And there is worse"
   ]
  },
  {
   "cell_type": "code",
   "execution_count": 14,
   "metadata": {
    "id": "UVGASmXtXnNG",
    "outputId": "6aeaf1a5-6d66-4f12-eff6-a13452aef58d",
    "tags": []
   },
   "outputs": [
    {
     "name": "stdout",
     "output_type": "stream",
     "text": [
      "1.59 µs ± 5.73 ns per loop (mean ± std. dev. of 7 runs, 1000000 loops each)\n"
     ]
    }
   ],
   "source": [
    "%%timeit\n",
    "fibonacci(20)"
   ]
  },
  {
   "cell_type": "code",
   "execution_count": 15,
   "metadata": {
    "id": "f9edWDvAXnNJ",
    "outputId": "86742d33-8515-4b9d-bec6-20afdc8c099c",
    "tags": []
   },
   "outputs": [
    {
     "name": "stdout",
     "output_type": "stream",
     "text": [
      "4.12 ms ± 55.9 µs per loop (mean ± std. dev. of 7 runs, 100 loops each)\n"
     ]
    }
   ],
   "source": [
    "%%timeit\n",
    "fibonacci_rec(20)"
   ]
  },
  {
   "cell_type": "markdown",
   "metadata": {
    "id": "5Z2G9-QGXnNL"
   },
   "source": [
    "There are two big problems. Firstly we need to suspend functions when calculated others. Second one is that made one calculation many times (the number of calling of fib(5) in fib (10) for example). We can figth with them... but not today.\n",
    "\n"
   ]
  },
  {
   "cell_type": "markdown",
   "metadata": {
    "id": "kYFbjrLHXnNM"
   },
   "source": [
    "![fibonacci](https://res.cloudinary.com/dhbo6ilxb/image/upload/v1541164676/fibonacci_recursion.png)"
   ]
  },
  {
   "cell_type": "markdown",
   "metadata": {
    "id": "SfuGKLdbXnNM"
   },
   "source": [
    "### Infinite recursion"
   ]
  },
  {
   "cell_type": "markdown",
   "metadata": {
    "id": "G2K5UFtqXnNN"
   },
   "source": [
    "If you don't made recursion exit conditions we get an error that recursion is too big (inifite actualy)"
   ]
  },
  {
   "cell_type": "code",
   "execution_count": 16,
   "metadata": {
    "id": "tU8VSY9sXnNN",
    "outputId": "2d202584-c681-4bd3-9507-b2c713a9aa11"
   },
   "outputs": [
    {
     "ename": "RecursionError",
     "evalue": "maximum recursion depth exceeded",
     "output_type": "error",
     "traceback": [
      "\u001b[1;31m---------------------------------------------------------------------------\u001b[0m",
      "\u001b[1;31mRecursionError\u001b[0m                            Traceback (most recent call last)",
      "\u001b[1;32m&lt;ipython-input-16-ca42b4da909e&gt;\u001b[0m in \u001b[0;36m&lt;module&gt;\u001b[1;34m\u001b[0m\n\u001b[0;32m      2\u001b[0m     \u001b[1;32mreturn\u001b[0m \u001b[0mn\u001b[0m \u001b[1;33m*\u001b[0m \u001b[0mfactorial_rec_no_exit\u001b[0m\u001b[1;33m(\u001b[0m\u001b[0mn\u001b[0m \u001b[1;33m-\u001b[0m \u001b[1;36m1\u001b[0m\u001b[1;33m)\u001b[0m\u001b[1;33m\u001b[0m\u001b[1;33m\u001b[0m\u001b[0m\n\u001b[0;32m      3\u001b[0m \u001b[1;33m\u001b[0m\u001b[0m\n\u001b[1;32m----&gt; 4\u001b[1;33m \u001b[0mfactorial_rec_no_exit\u001b[0m\u001b[1;33m(\u001b[0m\u001b[1;36m10\u001b[0m\u001b[1;33m)\u001b[0m \u001b[1;31m# good night, sweet prince\u001b[0m\u001b[1;33m\u001b[0m\u001b[1;33m\u001b[0m\u001b[0m\n\u001b[0m",
      "\u001b[1;32m&lt;ipython-input-16-ca42b4da909e&gt;\u001b[0m in \u001b[0;36mfactorial_rec_no_exit\u001b[1;34m(n)\u001b[0m\n\u001b[0;32m      1\u001b[0m \u001b[1;32mdef\u001b[0m \u001b[0mfactorial_rec_no_exit\u001b[0m\u001b[1;33m(\u001b[0m\u001b[0mn\u001b[0m\u001b[1;33m)\u001b[0m\u001b[1;33m:\u001b[0m\u001b[1;33m\u001b[0m\u001b[1;33m\u001b[0m\u001b[0m\n\u001b[1;32m----&gt; 2\u001b[1;33m     \u001b[1;32mreturn\u001b[0m \u001b[0mn\u001b[0m \u001b[1;33m*\u001b[0m \u001b[0mfactorial_rec_no_exit\u001b[0m\u001b[1;33m(\u001b[0m\u001b[0mn\u001b[0m \u001b[1;33m-\u001b[0m \u001b[1;36m1\u001b[0m\u001b[1;33m)\u001b[0m\u001b[1;33m\u001b[0m\u001b[1;33m\u001b[0m\u001b[0m\n\u001b[0m\u001b[0;32m      3\u001b[0m \u001b[1;33m\u001b[0m\u001b[0m\n\u001b[0;32m      4\u001b[0m \u001b[0mfactorial_rec_no_exit\u001b[0m\u001b[1;33m(\u001b[0m\u001b[1;36m10\u001b[0m\u001b[1;33m)\u001b[0m \u001b[1;31m# good night, sweet prince\u001b[0m\u001b[1;33m\u001b[0m\u001b[1;33m\u001b[0m\u001b[0m\n",
      "... last 1 frames repeated, from the frame below ...\n",
      "\u001b[1;32m&lt;ipython-input-16-ca42b4da909e&gt;\u001b[0m in \u001b[0;36mfactorial_rec_no_exit\u001b[1;34m(n)\u001b[0m\n\u001b[0;32m      1\u001b[0m \u001b[1;32mdef\u001b[0m \u001b[0mfactorial_rec_no_exit\u001b[0m\u001b[1;33m(\u001b[0m\u001b[0mn\u001b[0m\u001b[1;33m)\u001b[0m\u001b[1;33m:\u001b[0m\u001b[1;33m\u001b[0m\u001b[1;33m\u001b[0m\u001b[0m\n\u001b[1;32m----&gt; 2\u001b[1;33m     \u001b[1;32mreturn\u001b[0m \u001b[0mn\u001b[0m \u001b[1;33m*\u001b[0m \u001b[0mfactorial_rec_no_exit\u001b[0m\u001b[1;33m(\u001b[0m\u001b[0mn\u001b[0m \u001b[1;33m-\u001b[0m \u001b[1;36m1\u001b[0m\u001b[1;33m)\u001b[0m\u001b[1;33m\u001b[0m\u001b[1;33m\u001b[0m\u001b[0m\n\u001b[0m\u001b[0;32m      3\u001b[0m \u001b[1;33m\u001b[0m\u001b[0m\n\u001b[0;32m      4\u001b[0m \u001b[0mfactorial_rec_no_exit\u001b[0m\u001b[1;33m(\u001b[0m\u001b[1;36m10\u001b[0m\u001b[1;33m)\u001b[0m \u001b[1;31m# good night, sweet prince\u001b[0m\u001b[1;33m\u001b[0m\u001b[1;33m\u001b[0m\u001b[0m\n",
      "\u001b[1;31mRecursionError\u001b[0m: maximum recursion depth exceeded"
     ]
    }
   ],
   "source": [
    "def factorial_rec_no_exit(n):\n",
    "    return n * factorial_rec_no_exit(n - 1)\n",
    "\n",
    "factorial_rec_no_exit(10) # good night, sweet prince"
   ]
  },
  {
   "cell_type": "markdown",
   "metadata": {
    "id": "IRcF1f4gXnNQ"
   },
   "source": [
    "## Default arguments"
   ]
  },
  {
   "cell_type": "markdown",
   "metadata": {
    "id": "D4u9a9J6XnNR"
   },
   "source": [
    "Quite often you can meet the situation when you know what arguments can be taken if the user has not specified them (for example sort function where you can choose the algorithm and if user not want to choose it you just write that default is qsort). In that situation you can write the default arguments in the describtion for you function. But there is a special mechanism in Python called default arguments. "
   ]
  },
  {
   "cell_type": "code",
   "execution_count": 17,
   "metadata": {
    "id": "zTrGD7vzXnNR"
   },
   "outputs": [],
   "source": [
    "import random\n",
    "\n",
    "def make_random_sequence(length=200,\n",
    "                         alphabet=\"ATGC\"):\n",
    "    seq_lst = [] \n",
    "    for i in range(length):\n",
    "        seq_lst.append(random.choice(alphabet))\n",
    "    seq = \"\".join(seq_lst) \n",
    "    return seq"
   ]
  },
  {
   "cell_type": "code",
   "execution_count": 18,
   "metadata": {
    "id": "sXdQkJ4AXnNV",
    "outputId": "db769005-2ce9-45c9-9c27-afebf2fdff88"
   },
   "outputs": [
    {
     "data": {
      "text/plain": [
       "&#39;ATCATGTCGGACATACAGGAGCGTCAACACAAGCTGAGCTGTGATCTAGCGTAGCTCTCCGACCTAGCACCGCTATATTAGGTGACCCACTCTTATCGTACTATAGTACTCGCTGCTTCTACGCGATTCTCCGTTAGGTTGTTTCGGTGAACAACCCGACATAATCGAGATGGCGCCGTACGAAGCAGACGTAATCACTG&#39;"
      ]
     },
     "execution_count": 18,
     "metadata": {},
     "output_type": "execute_result"
    }
   ],
   "source": [
    "make_random_sequence()"
   ]
  },
  {
   "cell_type": "code",
   "execution_count": 21,
   "metadata": {
    "id": "5IlhdXSCXnNY",
    "outputId": "9447ba73-fe47-4e47-c50a-11720e494854"
   },
   "outputs": [
    {
     "data": {
      "text/plain": [
       "&#39;TGGATGAAATAGCATTTTACAATTGTGAAGTGACAAACAATCCATGACTTTGGATACCTTTCTCATCAACCGGAGCGTTTCGCCCATTGTTGAGAGCAGG&#39;"
      ]
     },
     "execution_count": 21,
     "metadata": {},
     "output_type": "execute_result"
    }
   ],
   "source": [
    "make_random_sequence(length=100)"
   ]
  },
  {
   "cell_type": "code",
   "execution_count": 22,
   "metadata": {
    "id": "6Hg-KZunXnNb",
    "outputId": "5c3e491d-f193-45da-91b7-b115d16d73b6"
   },
   "outputs": [
    {
     "data": {
      "text/plain": [
       "&#39;ACCUGGUAAUCUAACGUUAGUACGGUCGUCGCCUACGCAAGAAGCCCUGAUCCCUUUAACACUACUUUCGGGAAAUUCUCUUACACUCAAACAGGGCAGA&#39;"
      ]
     },
     "execution_count": 22,
     "metadata": {},
     "output_type": "execute_result"
    }
   ],
   "source": [
    "make_random_sequence(alphabet=\"AUGC\", length=100)"
   ]
  },
  {
   "cell_type": "markdown",
   "metadata": {
    "id": "1nTpJovSXnNd"
   },
   "source": [
    "Or may be you just want to show user how your function work. "
   ]
  },
  {
   "cell_type": "code",
   "execution_count": 23,
   "metadata": {
    "id": "aFCg9WMiXnNe"
   },
   "outputs": [],
   "source": [
    "def login(username=\"anonymous\", password=None):\n",
    "    \"\"\"Some action\"\"\"\n",
    "    pass\n",
    "\n",
    "# we can call function in different ways\n",
    "login(\"root\", \"ujdyzysqgfhjkm\") \n",
    "login(\"guest\")\n",
    "login()\n",
    "# Also you can specify the name of argument\n",
    "login(password=\"nobody@mail.com\") "
   ]
  },
  {
   "cell_type": "markdown",
   "metadata": {
    "id": "FmV8HCXUXnNg"
   },
   "source": [
    "You can combine default arguments with usual one. But usual arguments must be declared firstly."
   ]
  },
  {
   "cell_type": "code",
   "execution_count": 24,
   "metadata": {
    "id": "ZnTZ9GTvXnNh"
   },
   "outputs": [],
   "source": [
    "def write_random_fasta(out_file_path, \n",
    "                       name=\"random\", \n",
    "                       length=200,\n",
    "                       alphabet=\"ATGC\"):\n",
    "    out_file = open(out_file_path, \"w\") # it is better to use with-construction here\n",
    "    seq = make_random_sequence(length=length, alphabet=alphabet)\n",
    "    out_file.write(\">{}\\n\".format(name))\n",
    "    out_file.write(\"{}\\n\".format(seq))\n",
    "    out_file.close()"
   ]
  },
  {
   "cell_type": "code",
   "execution_count": 25,
   "metadata": {
    "id": "FkdsJH2VXnNj"
   },
   "outputs": [],
   "source": [
    "write_random_fasta(\"random.fasta\")"
   ]
  },
  {
   "cell_type": "code",
   "execution_count": 26,
   "metadata": {
    "id": "6PX32-BbXnNp",
    "outputId": "03548c63-9c66-41b8-a6ae-9e707ac50600"
   },
   "outputs": [
    {
     "ename": "TypeError",
     "evalue": "write_random_fasta() missing 1 required positional argument: &#39;out_file_path&#39;",
     "output_type": "error",
     "traceback": [
      "\u001b[1;31m---------------------------------------------------------------------------\u001b[0m",
      "\u001b[1;31mTypeError\u001b[0m                                 Traceback (most recent call last)",
      "\u001b[1;32m&lt;ipython-input-26-3d278c1e259e&gt;\u001b[0m in \u001b[0;36m&lt;module&gt;\u001b[1;34m\u001b[0m\n\u001b[1;32m----&gt; 1\u001b[1;33m \u001b[0mwrite_random_fasta\u001b[0m\u001b[1;33m(\u001b[0m\u001b[1;33m)\u001b[0m\u001b[1;33m\u001b[0m\u001b[1;33m\u001b[0m\u001b[0m\n\u001b[0m",
      "\u001b[1;31mTypeError\u001b[0m: write_random_fasta() missing 1 required positional argument: &#39;out_file_path&#39;"
     ]
    }
   ],
   "source": [
    "write_random_fasta()"
   ]
  },
  {
   "cell_type": "code",
   "execution_count": 27,
   "metadata": {
    "id": "SUEg6TXtXnNr"
   },
   "outputs": [],
   "source": [
    "write_random_fasta(\"random2.fasta\", length=10)"
   ]
  },
  {
   "cell_type": "code",
   "execution_count": 28,
   "metadata": {
    "id": "7hYqlaPsXnNu"
   },
   "outputs": [],
   "source": [
    "def add_to_list(el, lst = []):\n",
    "    lst.append(el)\n",
    "    return lst"
   ]
  },
  {
   "cell_type": "markdown",
   "metadata": {},
   "source": [
    "And now some fun)"
   ]
  },
  {
   "cell_type": "code",
   "execution_count": 29,
   "metadata": {
    "id": "TxBRCK85XnNw",
    "outputId": "4bc4a6dc-09a7-44a8-8a9e-79c5a29c13a4",
    "tags": []
   },
   "outputs": [
    {
     "name": "stdout",
     "output_type": "stream",
     "text": [
      "[1, 2, 3, 5]\n",
      "[5]\n",
      "[5]\n",
      "[5, 5]\n"
     ]
    }
   ],
   "source": [
    "print (add_to_list(5, [1,2,3])) # OK\n",
    "print (add_to_list(5, [])) # OK\n",
    "print (add_to_list(5)) # OK\n",
    "print (add_to_list(5)) # WHAT???"
   ]
  },
  {
   "cell_type": "markdown",
   "metadata": {
    "id": "RENbZeNFXnNy"
   },
   "source": [
    "![surprise](https://i.makeagif.com/media/10-25-2018/TA2lrY.gif)"
   ]
  },
  {
   "cell_type": "markdown",
   "metadata": {
    "id": "8pN7vVgpXnNy"
   },
   "source": [
    "It happens because when Python create a default object it not delete after the funcion end (it keeps in memory untill garbage collector come to us). And when we call the function second time it use the same list. To prevent this just not use mutable objects in default arguments (like a containers or structures where you want change some fields) instead use None."
   ]
  },
  {
   "cell_type": "code",
   "execution_count": 30,
   "metadata": {
    "id": "33Frp_cdXnNz"
   },
   "outputs": [],
   "source": [
    "def add_to_list_wsmf(el, lst = None):\n",
    "    if lst == None:\n",
    "        lst = []\n",
    "    lst.append(el)\n",
    "    return lst"
   ]
  },
  {
   "cell_type": "code",
   "execution_count": 31,
   "metadata": {
    "id": "kMd0mBUqXnN3",
    "tags": []
   },
   "outputs": [
    {
     "name": "stdout",
     "output_type": "stream",
     "text": [
      "[1, 2, 3, 5]\n",
      "[5]\n",
      "[5]\n",
      "[5]\n"
     ]
    }
   ],
   "source": [
    "print (add_to_list_wsmf(5, [1,2,3])) # OK\n",
    "print (add_to_list_wsmf(5, [])) # OK\n",
    "print (add_to_list_wsmf(5)) # OK\n",
    "print (add_to_list_wsmf(5)) # Still OK"
   ]
  }
 ],
 "metadata": {
  "colab": {
   "collapsed_sections": [],
   "name": "Basics_Lecture5.ipynb",
   "provenance": []
  },
  "kernelspec": {
   "display_name": "Python 3",
   "language": "python",
   "name": "python3"
  },
  "language_info": {
   "codemirror_mode": {
    "name": "ipython",
    "version": 3
   },
   "file_extension": ".py",
   "mimetype": "text/x-python",
   "name": "python",
   "nbconvert_exporter": "python",
   "pygments_lexer": "ipython3",
   "version": "3.8.5"
  },
  "toc": {
   "base_numbering": 1,
   "nav_menu": {},
   "number_sections": true,
   "sideBar": true,
   "skip_h1_title": false,
   "title_cell": "Table of Contents",
   "title_sidebar": "Contents",
   "toc_cell": false,
   "toc_position": {},
   "toc_section_display": true,
   "toc_window_display": false
  }
 },
 "nbformat": 4,
 "nbformat_minor": 1
}
