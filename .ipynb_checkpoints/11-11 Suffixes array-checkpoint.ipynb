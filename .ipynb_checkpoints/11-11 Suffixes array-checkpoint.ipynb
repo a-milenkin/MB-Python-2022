{
 "cells": [
  {
   "cell_type": "markdown",
   "metadata": {},
   "source": [
    "# Suffixes Array"
   ]
  },
  {
   "cell_type": "markdown",
   "metadata": {},
   "source": [
    "## Substring search\n",
    "\n",
    "As you remember (I hope), in the previous lecture we talked about searching for a pattern string inside a large text. To find it, we used the Prefix function, which can find the pattern with O(N) complexity, where N is the length of the word.\n",
    "\n",
    "But what we can do if we need find a lot of different patterns inside text. For example we have a big text and should find all 'special' word (like stop words) to delete them all. So, to find each word we should spend O(N) steps multiplicate to K, where K - number of words. In sum we got O(N*K) steps, which is quite a lot if you notice that we are viewing the same text every time. Ok, may be we can optimize it in some way like with segment or search tree? And actually yes, for this purpose there is a Suffix array."
   ]
  },
  {
   "cell_type": "markdown",
   "metadata": {},
   "source": [
    "## Suffixes array\n",
    "\n",
    "Suffix array how can you guess is an array of suffix of the text. But it is not usual array, but sorted array. Ok, we have now sorted array of suffix, but how can it help to us to quickly find the word inside thee text? Let is look carefully to words and suffixes of text.\n",
    "\n",
    "The suffix with index `i` actually is the parts of the text that beginning from symbol `s[i]` and ended at the text end. But what mean 'find the word in text'? It actually mean that we will know position inside the text, where we can read our word. If we the position of the word and prefix beginning will be the same that mean that the beginning of the suffix will be our word - that is what we try to do. So, to find our word we need to find the prefix that beginning from our word.\n",
    "\n",
    "There is to way how to do this, first one create the array of indexes and search inside it all suffixes that will begin from our word (like the native(direct) way). But this is not effective, so we can previously sort our array and then use it to search our word with binary search mechanism.\n",
    "\n",
    "![suffixArray](images/11-11/suffixArray.jpg)\n",
    "\n",
    "So, now you can understand that the main point of it is to make the search algorithm with binary search and quickly make a sorted suffix array.\n",
    "\n",
    "Actually there is a lot of different algorithms that can build suffix array. There are complexity vary from `O(N^2 logN)` to `O(NlogN)` (there are about 5 different algorithms), but in this lecture we will discuss only native binary search and build algorithms with complexity `O(N^2 logN)` and `O(N log^2(N))`."
   ]
  },
  {
   "cell_type": "markdown",
   "metadata": {},
   "source": [
    "## Building of Suffix Array O(N^2 logN)\n",
    "\n",
    "Ok, now we should in some way build our array. First of all, it is array of suffix, but each suffix is the part of original text, so we do not need save a number of copies of text. It is enough to just save indexes of array/text, where the suffix is begin.\n",
    "\n",
    "Next - we need sort it. The simple way is we can just use one of classic sort function (like qsort or merge sort) and get the sorted array. But there is one important moment - we should be able compare two different suffix."
   ]
  },
  {
   "cell_type": "markdown",
   "metadata": {},
   "source": [
    "### Suffixes comparison (O(N))\n",
    "\n",
    "The simplest way of compare the suffixes is just compare the text (part of), that they represent. So, in other words we just need to move throw two suffix and compare each element one by one till we not meet the different."
   ]
  },
  {
   "cell_type": "code",
   "execution_count": 4,
   "metadata": {},
   "outputs": [],
   "source": [
    "def compare (text, i1, i2):\n",
    "    for i in range (len(text) - max(i1,i2)):\n",
    "        print (\"compare now \", text[i1],\"\", text[i2], \" at positions \", i1,\"\", i2)\n",
    "        if (text[i1] < text[i2]): return 0\n",
    "        if (text[i1] > text[i2]): return 1\n",
    "        i1+=1\n",
    "        i2+=1\n",
    "    return 0"
   ]
  },
  {
   "cell_type": "code",
   "execution_count": 5,
   "metadata": {},
   "outputs": [
    {
     "name": "stdout",
     "output_type": "stream",
     "text": [
      "compare now  a  a  at positions  0  4\n",
      "compare now  b  b  at positions  1  5\n",
      "compare now  c  c  at positions  2  6\n",
      "compare now  d  a  at positions  3  7\n",
      "1\n"
     ]
    }
   ],
   "source": [
    "a = \"abcdabcad\"\n",
    "print (compare(a,0,4))"
   ]
  },
  {
   "cell_type": "markdown",
   "metadata": {},
   "source": [
    "But there is another one problem - what to do if the shorter suffix absolutely equal to prefix of second one, or in another word we meet the end of cycle and all symbols is equal to each other. For this situation we need to check that we reached the end of text and choose the shorter as smaller suffix. Or just add to the end of text special symbol `$` that is less than any other symbol in the text. With it we do not need to check if the shorter suffix ended. We just compare `$` and other symbol into the text and choose shorter as smaller suffix because the end symbol is less than any other.\n",
    "\n",
    "![suffix$](images/11-11/suffix$.png)\n",
    "\n",
    "In this case the final complexity of the building of array is `O(NlogN * K)`, where `K` is complexity of comparison and equal to N -> we got  $O(N*NlogN) = O(N^2logN)$ "
   ]
  },
  {
   "cell_type": "markdown",
   "metadata": {},
   "source": [
    "## Building of Suffixes Array O(N log^2(N))\n",
    "\n",
    "### Idea\n",
    "\n",
    "Ok, as you can see at previous step, the biggest problem of algorithm is complexity of comparison of two strings. We need to optimise it in some way. First one is calculate hash function from suffix and use to compare them. But in that case we meet the problem of collision of such function and can meet the situation with not right order of suffix in result array. So lets try another one way. For it try ty remember the search tree and the radix sort algorithms.\n",
    "\n",
    "Now lets look more carefully on the comparison mechanism. Because our suffixes are suffixes of one text, when we compare them we at the same time compare another suffixes. For example for suffixes `abcabcd` and `abcd`, when we compare them carry out such steps:\n",
    "\n",
    "- Compare `a` with `a`\n",
    "- Compare `b` with `b`\n",
    "- ...\n",
    "- Compare `a` with `d`\n",
    "\n",
    "But what about the two other suffixes `bcabcd` and `bcd`? There will be such steps:\n",
    "\n",
    "- Compare `b` with `b`\n",
    "- ...'same steps'...\n",
    "- Compare `a` with `d`\n",
    "\n",
    "So, when we compare first two suffixes at the same time we compare second two suffixes, and third two suffixes, and ect.. How you assume we need use this to speed up the algorithm.\n",
    "\n",
    "The first idea of use is to compare two suffixes with difference 1 in indexes. Like the suffix `i` and suffix `i+1`. Then with difference 2 and etc. . But it takes from us N^2 steps to compare all of them what is not good. \n",
    "\n",
    "Lets fight with this and compare not whole suffix with another one but just the prefixes of suffixes. This mean that the suffix is contain some prefix and other suffix, for example `(ai...ak...aN)`, where `(ai...ak)` - prefix and `(ak+1...aN)` - suffix of suffix and in the same time it is another suffix of the text. And if we can compare two prefix fast, we can understand if one suffix less or bigger than another one at this step. But what more interesting, if they is equal we do not need to continue compare, because at some position (for example 4), where prefixes are ended, we can get the comparison of two others suffixes and in this way we got comparison of prefix that twice longer than previous one.\n",
    "\n",
    "In numbers, lets take two suffixes `(ai..ak..aN)` and `(bi..bk..bN)`. To compare them we need compare each element of fist suffix with second one. But, lets create a special magic function F(i,j) that can compare two prefixes with length `i-k`. Than to compare our original two suffixes we can call `F(ai,bi)` and it compare `i-k` symbols. But what interesting - because all our suffixes are inside one text, we can call it one more time for suffixes `(ak,bk)` and compare prefixes of `(ak...aN)` and '(ak...aN)`. In sum, we got the result of comparison of two prefixes with double length in two steps!\n",
    "\n",
    "So, actually because our suffix is part of another suffix, we can use precomputed information. And yes, there is another example of dynamic programming. Lets look on example. We have `abcabcd` and `abcd` suffixes. And for example we can compare any prefix with length two. So, because the prefixes of both suffixes is equal we need additional information. And we got it from another two suffixes `cabcd` and `cd`. Here we see, that prefixes of this suffixes if not equal (cd is grater) and because they are the part of our original suffixes we can now say the answer how to compare them.\n",
    "\n",
    "![prefix-doubling](images/11-11/prefix-doubling2.png)\n",
    "\n",
    "If the next two suffixes show us that they equal we just wright this answer 'in memory' and go further. In result we can now answer to questions about the prefixes with double length. After logN step we can compare any suffix in array with O(1) complexity. But this is not mean, that we need to calculate and save the different for each pair of suffixes (about N^2 memory and complexity actually). To do this fast we will use some hints in Implementation.\n",
    "\n",
    "Below you can see some formalic descriptions of function F and how with dynamic programming we can define it.\n",
    "`F(a,b,c)` - where `a`,`b` is indexes of suffixes and `c` is the length of prefix for each suffix. And how you can see we can Implement each function with double c from previous one with two operation. And how I say before, we don't need to create a table with comparisons of all suffixes, but calculate with F function some specials number, that show us the 'power' of elements. "
   ]
  },
  {
   "cell_type": "code",
   "execution_count": null,
   "metadata": {},
   "outputs": [],
   "source": [
    "iissiippii$ = a\n",
    "iippii$ = b\n",
    "k = 2\n",
    "F (a,b, 2) = a[0:1] == b[0:1]\n",
    "F (a,b, 4) = a[0:3] == b[0:3] = F(a,b,2) && F(a+2,b+2,2)\n",
    "F (a,b, 8) = F(a,b,4) && F(a,b,4)\n",
    "F (a,b, 16) = F(a,b, 8) && F(a,b,8)\n",
    "... logN\n",
    "F (a,b, N) = F(a,b,N/2) && F(a,b,N/2)\n",
    "ssiippii$ = c = a[2:]\n",
    "ppii$ = d = b[2:]"
   ]
  },
  {
   "cell_type": "markdown",
   "metadata": {},
   "source": [
    "### Implementation\n",
    "\n",
    "So, now we have the idea, but we need reduce the complexity of comparing to O(1), not to O(N^2). And to do this we just write down the current 'size' or 'power' of elements to compare them fast. In other word it will look like the radix, where for suffix array we write down the borders, where the equal elements is stored. In picture above you can see at second row indexes of suffixes in array sorted by first element. At zero bucket we have only '$' (it will always be size one), at first bucket elements that began from 'i' and etc. In other word we have the special 'power' index that shows us if the current suffix bigger or smaller than other one.\n",
    "\n",
    "In each new step we need to create a new number of buckets to take a opportunity to compare prefixes with double length. And as we discuss it above, for this tusk we just compare two prefixes with half length and then write down in new bucket array. But actually to do this fast and correctly we need sort our suffixes by prefixes. And after sorting we can create a new one 'power' array just by throwing in suffix array and compare, if the current suffix is equal to the next one and if not, create a border and increase the power of next element. You can see it at the third row in picture below.\n",
    "\n",
    "In this picture we work with word `mmiissiissiippii$` and, as you can see, when we move from second to third row we create a new borders for elements inside second row. For example lets look at backet `1(i)`, here we have 8 elements. But in next row we divide this one into 4 parts (1,2,3,4). So, the suffix 16 has $ as next prefix (actually element, because at previous step the length of element was 1), so it will be the smallest element inside bucket. Next one bucket is (3,7,11,15), they are have the second prefix 'i', so they are become equal in this step and etc. . And at each step we sort suffixes by prefixes with double length, till not take the prefix with length N.\n",
    "\n",
    "![prefix-doubling2](images/11-11/prefix-doubling.jpg)\n",
    "\n",
    "To sum up the algorithm steps looks like:\n",
    "\n",
    "- Put at the end of text symbol $ as smallest symbol in text (actual you can put 0 as number)\n",
    "- Create an array of suffixes as array of indexes where each suffix is began\n",
    "- Create the array of 'power', where for each suffix we write the power of it prefix at this step.\n",
    "- In first step sort the array of suffixes by first symbol. \n",
    "- Move throw suffixes array and fill in 'power' array the number of bucket where we store our current element by calculating if it equal to previous element or not. If it equal, than put it in the same bucket. If it grater, than store it (write the number in power array) in new bucket with a number greater by one. For quick comparing compare just two prefixes of each suffixes (form i to i+k and from i+k+1 to i+2k if first one is equal). It will take about `O(2)`=`O(1)` steps.\n",
    "-  Sort array one more time, but by compare double size prefixes from previous one step.\n",
    "- Repeat last two steps logN times, than you got sorted suffixes array.\n",
    "\n",
    "That is all. Actually, there is another one way to speed up algorithm to O(NlogN) by just change the usual sort with comparison to counting sort. However, this lecture will not cover it, you can read it yourself if you want."
   ]
  },
  {
   "cell_type": "markdown",
   "metadata": {},
   "source": [
    "## Binary search\n",
    "\n",
    "Ok, so now finally lets look how to search inside such array. Because we have not simple number but the string as pattern for search the algorithm is not trivial.\n",
    "\n",
    "So, the first way to do this is just search our pattern with comparisons at each step. In this way we can found one of patern position in the text. But to find all positions we need to find the borders with suffixes that is equal to our pattern. In other words suffixes that will be equal to pattern will be placed next to each other. And we need find the range where they are. To do this we need memorize our current borders of search (after we found our element) and clarify the positions of such borders by moving the `left/rigth` border each time we found equal element till we found the `rigth/left` border of range.\n",
    "\n",
    "The second way is use only one element of pattern and clarify the borders at each step to continue the search of next symbol inside new borders. Actually both of this way has the same complexity of time and code, so this is up to you what algorithm you want to use.\n",
    "\n",
    "Below is an example of the second way of implementation."
   ]
  },
  {
   "cell_type": "code",
   "execution_count": 48,
   "metadata": {
    "tags": []
   },
   "outputs": [
    {
     "name": "stdout",
     "output_type": "stream",
     "text": [
      "--------------------\n",
      "our borders  0 13\n",
      "lbc rbc\n",
      " 0   6  a\n",
      " 0   3  a\n",
      " 0   1  a\n",
      "new left border = 0\n",
      " 0   6  a\n",
      " 3   6  a\n",
      " 4   6  a\n",
      " 5   6  a\n",
      "new rigth border = 5\n",
      "--------------------\n",
      "our borders  0 5\n",
      "lbc rbc\n",
      " 0   2  n\n",
      " 0   1  n\n",
      "new left border = 1\n",
      " 2   5  n\n",
      " 3   5  n\n",
      " 4   5  n\n",
      "new rigth border = 5\n",
      "--------------------\n",
      "our borders  1 5\n",
      "lbc rbc\n",
      " 1   3  a\n",
      " 1   2  a\n",
      "new left border = 1\n",
      " 3   5  a\n",
      " 4   5  a\n",
      "new rigth border = 5\n",
      "[9, 7, 5, 3, 1]\n"
     ]
    }
   ],
   "source": [
    "#For example banana\n",
    "\n",
    "text = \"bananananana\" + chr(0)\n",
    "suffixes = [11,9,7,5,3,1,0,10,8,6,4,2]\n",
    "#suf = [\"a$\",\"ana$\", \"anana$\", \"ananana$\", \"anananana$\", \"anananana$\", \"banana$\", \"na$\", \"nana$\", \"nanana$\", \"nananana$\"]\n",
    "#suf1 = [\"a$\", \"ana$\", \"anana$\"]\n",
    "#suf2 = [\"ana$\" = 3, \"anana$\" = 1]\n",
    "\n",
    "def searc_in_suffixes (pattern):\n",
    "    p = pattern\n",
    "    left_border = 0\n",
    "    rigth_border = len (text)\n",
    "\n",
    "    for i in range(len(p)):\n",
    "        lbc = left_border\n",
    "        rbc = rigth_border\n",
    "        print (\"--------------------\")\n",
    "        print (\"our borders \", left_border, rigth_border)\n",
    "        print (\"lbc\", \"rbc\")\n",
    "\n",
    "        if (lbc == rbc):\n",
    "            i = suffixes[lbc]\n",
    "            if (text[i:i+len(p)] == p): return [i]\n",
    "            else: return [-1]\n",
    "\n",
    "        while rbc - lbc > 1:\n",
    "            index = (rbc+lbc)//2\n",
    "            if (text[suffixes[index]+i] > p[i]): rbc = index\n",
    "            if (text[suffixes[index]+i] < p[i]): lbc = index\n",
    "            if (text[suffixes[index]+i] == p[i]): rbc = index\n",
    "            #print (lbc, rbc, p[i])\n",
    "            print (f\"{lbc:2}  {rbc:2}  {p[i]}\")\n",
    "\n",
    "        if (text[suffixes[lbc]+i] == p[i]): left_border = lbc\n",
    "        else: left_border = lbc + 1\n",
    "        print (\"new left border = \" + str(left_border))\n",
    "        rbc = rigth_border\n",
    "\n",
    "        while rbc - lbc > 1:\n",
    "            index = (rbc+lbc)//2\n",
    "            if (text[suffixes[index]+i] > p[i]): rbc = index\n",
    "            if (text[suffixes[index]+i] < p[i]): lbc = index\n",
    "            if (text[suffixes[index]+i] == p[i]): lbc = index\n",
    "            print (f\"{lbc:2}  {rbc:2}  {p[i]}\")\n",
    "        \n",
    "        if (text[suffixes[rbc]+i] == p[i]): rigth_border = rbc\n",
    "        else: rigth_border = rbc - 1\n",
    "        print (\"new rigth border = \" + str(rigth_border))\n",
    "        pass\n",
    "\n",
    "    return suffixes [left_border:rigth_border+1]\n",
    "\n",
    "print (searc_in_suffixes (\"ana\"))"
   ]
  }
 ],
 "metadata": {
  "kernelspec": {
   "display_name": "Python 3",
   "language": "python",
   "name": "python3"
  },
  "language_info": {
   "codemirror_mode": {
    "name": "ipython",
    "version": 3
   },
   "file_extension": ".py",
   "mimetype": "text/x-python",
   "name": "python",
   "nbconvert_exporter": "python",
   "pygments_lexer": "ipython3",
   "version": "3.8.5"
  },
  "toc": {
   "base_numbering": 1,
   "nav_menu": {},
   "number_sections": true,
   "sideBar": true,
   "skip_h1_title": false,
   "title_cell": "Table of Contents",
   "title_sidebar": "Contents",
   "toc_cell": false,
   "toc_position": {},
   "toc_section_display": true,
   "toc_window_display": false
  }
 },
 "nbformat": 4,
 "nbformat_minor": 2
}
