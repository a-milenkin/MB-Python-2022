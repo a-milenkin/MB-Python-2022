{
 "cells": [
  {
   "cell_type": "markdown",
   "metadata": {
    "colab_type": "text",
    "id": "UaafW9aStvOb"
   },
   "source": [
    "# Lesson 0. Python basics"
   ]
  },
  {
   "cell_type": "markdown",
   "metadata": {
    "colab_type": "text",
    "id": "9s4WPUBVtvOe"
   },
   "source": [
    "Take a look a this sample of code. Hopefully, after going through the notebook, you will understand what this code does.. Good luck!"
   ]
  },
  {
   "cell_type": "code",
   "execution_count": null,
   "metadata": {
    "colab": {},
    "colab_type": "code",
    "id": "Ajh5tDHrtvOf"
   },
   "outputs": [],
   "source": [
    "max_iters = 1000\n",
    "eps = 1e-10\n",
    "A = input()\n",
    "A = float(A)\n",
    "approx_x = A / 2\n",
    "for it in range(max_iters):\n",
    "    prev_approx_x = approx_x\n",
    "    approx_x = 1 / 2 * (approx_x + A / approx_x)\n",
    "    if abs(prev_approx_x - approx_x) < eps:\n",
    "        break\n",
    "        \n",
    "print(approx_x)"
   ]
  },
  {
   "cell_type": "markdown",
   "metadata": {
    "colab_type": "text",
    "id": "jiyU14-XtvOl"
   },
   "source": [
    "When using programming language to solve task you want you are interested in, you will generally interact with   \n",
    "1. **Basic types** - basic types of data that you are working with (numbers, strings, sequences of objects etc.)\n",
    "2. **Input** - data received via keyboard, file or other source\n",
    "3. **Output** - data displayed on the screen, written in a file or other source\n",
    "5. **Conditions** - instructions to check whether certain conditions are satisfied or not\n",
    "6. **Loops** - instructions to repeat a specified block of code many times"
   ]
  },
  {
   "cell_type": "markdown",
   "metadata": {
    "colab_type": "text",
    "id": "btz66xvxtvOm"
   },
   "source": [
    "## Variable"
   ]
  },
  {
   "cell_type": "markdown",
   "metadata": {
    "colab_type": "text",
    "id": "6ROB0iMvtvOn"
   },
   "source": [
    "**A variable** is a value that is stored in memory and can change, depending on conditions or on information passed to the program\n",
    "\n",
    "__Example:__\n",
    "A box containing a cat is a variable with the value equal to... a cat.\n",
    "\n",
    "![cat](https://www.sciencefriday.com/wp-content/uploads/2019/09/cat-in-box.png)"
   ]
  },
  {
   "cell_type": "markdown",
   "metadata": {
    "colab_type": "text",
    "id": "AfrpgqVWtvOp"
   },
   "source": [
    "## Basic data types"
   ]
  },
  {
   "cell_type": "markdown",
   "metadata": {
    "colab_type": "text",
    "id": "dnnQD2j8tvOq"
   },
   "source": [
    "Here are some of the most frequently used types of data in Python (or in almost every other programming language):\n",
    "\n",
    "1. Integer numbers (1,2, -1000)\n",
    "2. Floating point numbers (0.5, 2.9, 3.141592653589793238462643383279...)\n",
    "3. Boolean type (True, False)\n",
    "4. String type ('hello world!', 'I am genius', '2 be or not 2 be')\n",
    "5. Something else that we will discuss during the course :)"
   ]
  },
  {
   "cell_type": "markdown",
   "metadata": {
    "colab_type": "text",
    "id": "ku3qWyEPtvOr"
   },
   "source": [
    "### Integer"
   ]
  },
  {
   "cell_type": "code",
   "execution_count": null,
   "metadata": {
    "colab": {},
    "colab_type": "code",
    "id": "oTUzjNkMtvOs"
   },
   "outputs": [],
   "source": [
    "a = 11 # the value 11 assigned to the variable 'a'\n",
    "b = 5 # aaand one more variable that has value 5"
   ]
  },
  {
   "cell_type": "markdown",
   "metadata": {
    "colab_type": "text",
    "id": "gA5k0xIttvOv"
   },
   "source": [
    "There are lots of mathematical operations you can do with integers numbers"
   ]
  },
  {
   "cell_type": "code",
   "execution_count": null,
   "metadata": {
    "colab": {},
    "colab_type": "code",
    "id": "3HDYIZU0tvOw"
   },
   "outputs": [],
   "source": [
    "a - b # subtraction"
   ]
  },
  {
   "cell_type": "code",
   "execution_count": null,
   "metadata": {
    "colab": {},
    "colab_type": "code",
    "id": "RmNy0E59tvO0"
   },
   "outputs": [],
   "source": [
    "a + b # addition"
   ]
  },
  {
   "cell_type": "code",
   "execution_count": null,
   "metadata": {
    "colab": {},
    "colab_type": "code",
    "id": "6SagMonktvO4"
   },
   "outputs": [],
   "source": [
    "a * b # multiplication"
   ]
  },
  {
   "cell_type": "markdown",
   "metadata": {
    "colab_type": "text",
    "id": "eWAO1dQytvO8"
   },
   "source": [
    "Now focus, division has two types:"
   ]
  },
  {
   "cell_type": "code",
   "execution_count": null,
   "metadata": {
    "colab": {},
    "colab_type": "code",
    "id": "wxIBo_74e_B2"
   },
   "outputs": [],
   "source": [
    "a / b # division"
   ]
  },
  {
   "cell_type": "code",
   "execution_count": null,
   "metadata": {
    "colab": {},
    "colab_type": "code",
    "id": "wSk7zaRctvO9"
   },
   "outputs": [],
   "source": [
    "a // b # integer division"
   ]
  },
  {
   "cell_type": "code",
   "execution_count": null,
   "metadata": {
    "colab": {},
    "colab_type": "code",
    "id": "pLmb34g4tvPA"
   },
   "outputs": [],
   "source": [
    "a % b # remainder of integer division"
   ]
  },
  {
   "cell_type": "code",
   "execution_count": null,
   "metadata": {
    "colab": {},
    "colab_type": "code",
    "id": "UcewP5eQtvPE"
   },
   "outputs": [],
   "source": [
    "a ** b # exponentiation"
   ]
  },
  {
   "cell_type": "code",
   "execution_count": null,
   "metadata": {
    "colab": {},
    "colab_type": "code",
    "id": "jGe0_lGFtvPI"
   },
   "outputs": [],
   "source": [
    "abs(-10) # absolute value"
   ]
  },
  {
   "cell_type": "markdown",
   "metadata": {
    "colab_type": "text",
    "id": "iP3Qs7QNtvPL"
   },
   "source": [
    "### Float"
   ]
  },
  {
   "cell_type": "markdown",
   "metadata": {
    "colab_type": "text",
    "id": "w6K2vWxotvPM"
   },
   "source": [
    "Floating point numbers in Python are used to store the real numbers"
   ]
  },
  {
   "cell_type": "code",
   "execution_count": null,
   "metadata": {
    "colab": {},
    "colab_type": "code",
    "id": "VYMIHnUytvPN"
   },
   "outputs": [],
   "source": [
    "a = 10 / 2 # usual division of two integers gives a resulting value of float type \n",
    "a "
   ]
  },
  {
   "cell_type": "markdown",
   "metadata": {
    "colab_type": "text",
    "id": "DgJSKDhmtvPQ"
   },
   "source": [
    "__Note, please__ that variable `a` has changed its type. \n",
    "\n",
    "This is one of the cool features in Python - a variable can easily change its type"
   ]
  },
  {
   "cell_type": "code",
   "execution_count": null,
   "metadata": {
    "colab": {},
    "colab_type": "code",
    "id": "a4XeUJFJtvPR"
   },
   "outputs": [],
   "source": [
    "b = 5.2 \n",
    "a - b"
   ]
  },
  {
   "cell_type": "markdown",
   "metadata": {
    "colab_type": "text",
    "id": "Cs-ycynpgxSJ"
   },
   "source": [
    " The same operations are available for float variables"
   ]
  },
  {
   "cell_type": "code",
   "execution_count": null,
   "metadata": {
    "colab": {},
    "colab_type": "code",
    "id": "1kUHlwsJtvPV"
   },
   "outputs": [],
   "source": [
    "a + b"
   ]
  },
  {
   "cell_type": "code",
   "execution_count": null,
   "metadata": {
    "colab": {},
    "colab_type": "code",
    "id": "tixMi4IHtvPY"
   },
   "outputs": [],
   "source": [
    "a * b"
   ]
  },
  {
   "cell_type": "code",
   "execution_count": null,
   "metadata": {
    "colab": {},
    "colab_type": "code",
    "id": "rhYwqCBztvPb"
   },
   "outputs": [],
   "source": [
    "a / b"
   ]
  },
  {
   "cell_type": "code",
   "execution_count": null,
   "metadata": {
    "colab": {},
    "colab_type": "code",
    "id": "ZB8m0iErtvPg"
   },
   "outputs": [],
   "source": [
    "a ** 0.5"
   ]
  },
  {
   "cell_type": "code",
   "execution_count": null,
   "metadata": {
    "colab": {},
    "colab_type": "code",
    "id": "-7MYf8_8tvPk"
   },
   "outputs": [],
   "source": [
    "b // a # you CAN, but DO NOT better do like this"
   ]
  },
  {
   "cell_type": "code",
   "execution_count": null,
   "metadata": {
    "colab": {},
    "colab_type": "code",
    "id": "FYYS4ObytvPn"
   },
   "outputs": [],
   "source": [
    "round(a ** 0.5, 2) # returns a rounded version of a ** 0.5 with the specified number of decimals (here 2)"
   ]
  },
  {
   "cell_type": "markdown",
   "metadata": {
    "colab_type": "text",
    "id": "Vk74nluvtvPp"
   },
   "source": [
    "### Assignment operators"
   ]
  },
  {
   "cell_type": "code",
   "execution_count": null,
   "metadata": {
    "colab": {},
    "colab_type": "code",
    "id": "qW6X_9hvtvPr"
   },
   "outputs": [],
   "source": [
    "x = 3\n",
    "y = 5\n",
    "z = x + y # create new variable z and assign a value of sum of x and y to it\n",
    "z"
   ]
  },
  {
   "cell_type": "code",
   "execution_count": null,
   "metadata": {
    "colab": {},
    "colab_type": "code",
    "id": "33ZcDwa2tvPu"
   },
   "outputs": [],
   "source": [
    "x = 3\n",
    "y = 5\n",
    "x = x + y # operator + creates new object equal to the sum of x and y; operator = assigns new object to the variable x\n",
    "x"
   ]
  },
  {
   "cell_type": "code",
   "execution_count": null,
   "metadata": {
    "colab": {},
    "colab_type": "code",
    "id": "YICj86MbtvPx"
   },
   "outputs": [],
   "source": [
    "x = 3\n",
    "y = 5\n",
    "x += y # the += operator updates the variable x by adding the value y to its value. The same as doing: x = x + y\n",
    "x"
   ]
  },
  {
   "cell_type": "markdown",
   "metadata": {
    "colab_type": "text",
    "id": "XSsoyGIstvP0"
   },
   "source": [
    "A few more assinment operators:"
   ]
  },
  {
   "cell_type": "code",
   "execution_count": null,
   "metadata": {
    "colab": {},
    "colab_type": "code",
    "id": "frb7g2cltvP1"
   },
   "outputs": [],
   "source": [
    "x, y, z = 3, 4, 5 # the = operator can work with several variables and values ​​at once! (commas required)\n",
    "a, b, c = 1, 2, 3\n",
    "\n",
    "z -= x # z = z - x\n",
    "print('z =',z)\n",
    "\n",
    "y *= x # y = y * x\n",
    "print('y =',y)\n",
    "\n",
    "x //= x # x = x // x\n",
    "print('x =',x)\n",
    "\n",
    "c %= b # c = c % b\n",
    "print('c =',c)\n",
    "\n",
    "b **= b # b = b**b\n",
    "print('b =',b)\n"
   ]
  },
  {
   "cell_type": "markdown",
   "metadata": {
    "colab_type": "text",
    "id": "iLdtHBXKtvP4"
   },
   "source": [
    "Here is the Python trick to exchange values of two variables"
   ]
  },
  {
   "cell_type": "code",
   "execution_count": null,
   "metadata": {
    "colab": {},
    "colab_type": "code",
    "id": "JVN_Tr5etvP5"
   },
   "outputs": [],
   "source": [
    "x = 3\n",
    "y = 5\n",
    "\n",
    "x, y = y, x #Isn't it awesome?\n",
    "\n",
    "print(x,y)"
   ]
  },
  {
   "cell_type": "markdown",
   "metadata": {
    "colab_type": "text",
    "id": "HqhGRpIftvP8"
   },
   "source": [
    "### Boolean type"
   ]
  },
  {
   "cell_type": "markdown",
   "metadata": {
    "colab_type": "text",
    "id": "VfpPVRqgtvP9"
   },
   "source": [
    "Boolean variables can store only two values ​​- *True* and *False*"
   ]
  },
  {
   "cell_type": "code",
   "execution_count": null,
   "metadata": {
    "colab": {},
    "colab_type": "code",
    "id": "2hzh4tuMtvP-"
   },
   "outputs": [],
   "source": [
    "a = True\n",
    "b = False"
   ]
  },
  {
   "cell_type": "code",
   "execution_count": null,
   "metadata": {
    "colab": {},
    "colab_type": "code",
    "id": "-Z44Lq0UtvQC"
   },
   "outputs": [],
   "source": [
    "a and b # logical AND"
   ]
  },
  {
   "cell_type": "code",
   "execution_count": null,
   "metadata": {
    "colab": {},
    "colab_type": "code",
    "id": "Dzw24R-gtvQG"
   },
   "outputs": [],
   "source": [
    "a or b # logical OR"
   ]
  },
  {
   "cell_type": "code",
   "execution_count": null,
   "metadata": {
    "colab": {},
    "colab_type": "code",
    "id": "0_tR0rGptvQJ"
   },
   "outputs": [],
   "source": [
    "not a # logical negation"
   ]
  },
  {
   "cell_type": "markdown",
   "metadata": {
    "colab_type": "text",
    "id": "TLSZ-1-YtvQM"
   },
   "source": [
    "### Comparison"
   ]
  },
  {
   "cell_type": "markdown",
   "metadata": {
    "colab_type": "text",
    "id": "QrSc9hxvtvQN"
   },
   "source": [
    "The results of variable comparisons are boolean values.\n",
    "\n",
    "Here are the comparison operators existing in Python:\n",
    "- **==** - equality check\n",
    "- **>** - more\n",
    "- **<** - less\n",
    "- **>=** - greater or equal\n",
    "- **<=** - less or equal\n",
    "- **!=** - INEquality check\n",
    "\n",
    "Try it out:"
   ]
  },
  {
   "cell_type": "code",
   "execution_count": null,
   "metadata": {
    "colab": {},
    "colab_type": "code",
    "id": "ZcCxGdXilrRg"
   },
   "outputs": [],
   "source": [
    "print(5 == 7)\n",
    "print(8 > 0)\n",
    "print(-10 <= 9)\n",
    "print('Cat' == 'Dog')\n",
    "print('apple is' > 'Tasty') # How can we compare strings?\n",
    "print('Apple is' > 'Tasty') # How can we compare strings?\n",
    "print('Monday' != 'Saturday')\n",
    "print(3.0 == 3) # Python can even compare different data types!"
   ]
  },
  {
   "cell_type": "markdown",
   "metadata": {
    "colab_type": "text",
    "id": "jnjnf7oDtvQR"
   },
   "source": [
    "### Strings"
   ]
  },
  {
   "cell_type": "code",
   "execution_count": null,
   "metadata": {
    "colab": {},
    "colab_type": "code",
    "id": "kOEX3rQotvQS"
   },
   "outputs": [],
   "source": [
    "a = \"Hello, \"\n",
    "b = \"world\"\n",
    "a"
   ]
  },
  {
   "cell_type": "code",
   "execution_count": null,
   "metadata": {
    "colab": {},
    "colab_type": "code",
    "id": "oWhv6D_2tvQV"
   },
   "outputs": [],
   "source": [
    "a + b # string addition is called 'concatenation'"
   ]
  },
  {
   "cell_type": "code",
   "execution_count": null,
   "metadata": {
    "colab": {},
    "colab_type": "code",
    "id": "s46W5bpitvQY"
   },
   "outputs": [],
   "source": [
    "a - b # and what did you expect to see??"
   ]
  },
  {
   "cell_type": "code",
   "execution_count": null,
   "metadata": {
    "colab": {},
    "colab_type": "code",
    "id": "l1Y4LcdltvQa"
   },
   "outputs": [],
   "source": [
    "a * b # but wait.."
   ]
  },
  {
   "cell_type": "code",
   "execution_count": null,
   "metadata": {
    "colab": {},
    "colab_type": "code",
    "id": "q7sm_HRStvQf"
   },
   "outputs": [],
   "source": [
    "a * 5 # here we are! Sometimes this is useful to avoid hardcoding"
   ]
  },
  {
   "cell_type": "code",
   "execution_count": null,
   "metadata": {
    "colab": {},
    "colab_type": "code",
    "id": "NFfPOivVtvQi"
   },
   "outputs": [],
   "source": [
    "a[0] # you can take a certain character from a string, counting starts from zero"
   ]
  },
  {
   "cell_type": "code",
   "execution_count": null,
   "metadata": {
    "colab": {},
    "colab_type": "code",
    "id": "N7TEwHqBtvQl"
   },
   "outputs": [],
   "source": [
    "a[0:5] # or several characters called substring"
   ]
  },
  {
   "cell_type": "code",
   "execution_count": null,
   "metadata": {
    "colab": {},
    "colab_type": "code",
    "id": "9IRSXAnWtvQr"
   },
   "outputs": [],
   "source": [
    "c = a + b\n",
    "c"
   ]
  },
  {
   "cell_type": "code",
   "execution_count": null,
   "metadata": {
    "colab": {},
    "colab_type": "code",
    "id": "lJx6OZgctvQu"
   },
   "outputs": [],
   "source": [
    "# A very useful feature is splitting a string\n",
    "a1, b1 = c.split() # based on space character\n",
    "a1"
   ]
  },
  {
   "cell_type": "code",
   "execution_count": null,
   "metadata": {
    "colab": {},
    "colab_type": "code",
    "id": "hhM5n77FtvQw"
   },
   "outputs": [],
   "source": [
    "b1"
   ]
  },
  {
   "cell_type": "code",
   "execution_count": null,
   "metadata": {
    "colab": {},
    "colab_type": "code",
    "id": "gMlROSFctvQ0"
   },
   "outputs": [],
   "source": [
    "a2, b2 = c.split(\", \") # or some other string\n",
    "a2"
   ]
  },
  {
   "cell_type": "code",
   "execution_count": null,
   "metadata": {
    "colab": {},
    "colab_type": "code",
    "id": "nqJIT1c3tvQ2"
   },
   "outputs": [],
   "source": [
    "b2"
   ]
  },
  {
   "cell_type": "markdown",
   "metadata": {
    "colab_type": "text",
    "id": "KCpI3OkytvQ4"
   },
   "source": [
    "## Input"
   ]
  },
  {
   "cell_type": "markdown",
   "metadata": {
    "colab_type": "text",
    "id": "nLhLBcUAtvQ5"
   },
   "source": [
    "A piece of cake: read what we have typed with keyboard"
   ]
  },
  {
   "cell_type": "code",
   "execution_count": null,
   "metadata": {
    "colab": {},
    "colab_type": "code",
    "id": "j-FbXLN6tvQ5"
   },
   "outputs": [],
   "source": [
    "a = input() "
   ]
  },
  {
   "cell_type": "markdown",
   "metadata": {
    "colab_type": "text",
    "id": "uw2s6Wty1Ikv"
   },
   "source": [
    "![26066498-8120869-image-a-51_1584441463389.jpg](data:image/jpeg;base64,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)"
   ]
  },
  {
   "cell_type": "code",
   "execution_count": null,
   "metadata": {
    "colab": {},
    "colab_type": "code",
    "id": "Aqgz-uivtvQ9"
   },
   "outputs": [],
   "source": [
    "a # now 'a' holds the value that the user entered"
   ]
  },
  {
   "cell_type": "code",
   "execution_count": null,
   "metadata": {
    "colab": {},
    "colab_type": "code",
    "id": "K5kKL5iBtvRA"
   },
   "outputs": [],
   "source": [
    "a = input() # what if we type a number?"
   ]
  },
  {
   "cell_type": "code",
   "execution_count": null,
   "metadata": {
    "colab": {},
    "colab_type": "code",
    "id": "BB83TQ9wtvRC"
   },
   "outputs": [],
   "source": [
    "int(a) # and convert it to an integer"
   ]
  },
  {
   "cell_type": "code",
   "execution_count": null,
   "metadata": {
    "colab": {},
    "colab_type": "code",
    "id": "rUFjjC2JtvRF"
   },
   "outputs": [],
   "source": [
    "float(a) # or float"
   ]
  },
  {
   "cell_type": "code",
   "execution_count": null,
   "metadata": {
    "colab": {},
    "colab_type": "code",
    "id": "ZUHxthXdtvRI"
   },
   "outputs": [],
   "source": [
    "str(a) # or even string"
   ]
  },
  {
   "cell_type": "markdown",
   "metadata": {
    "colab_type": "text",
    "id": "9ZzH0XH7tvRK"
   },
   "source": [
    "## Output"
   ]
  },
  {
   "cell_type": "markdown",
   "metadata": {
    "colab_type": "text",
    "id": "mHySlLZAtvRL"
   },
   "source": [
    "The easiest way is to use `print` function"
   ]
  },
  {
   "cell_type": "code",
   "execution_count": null,
   "metadata": {
    "colab": {},
    "colab_type": "code",
    "id": "ppIM5XoTtvRM"
   },
   "outputs": [],
   "source": [
    "a = 45\n",
    "print(a)"
   ]
  },
  {
   "cell_type": "markdown",
   "metadata": {
    "colab_type": "text",
    "id": "yIbUediXtvRN"
   },
   "source": [
    "To print two variables do this"
   ]
  },
  {
   "cell_type": "code",
   "execution_count": null,
   "metadata": {
    "colab": {},
    "colab_type": "code",
    "id": "x0pMImjatvRO"
   },
   "outputs": [],
   "source": [
    "a = 10\n",
    "b = \"Hi\"\n",
    "print(a, b)"
   ]
  },
  {
   "cell_type": "markdown",
   "metadata": {
    "colab_type": "text",
    "id": "HyfnoDUptvRQ"
   },
   "source": [
    "One more option"
   ]
  },
  {
   "cell_type": "code",
   "execution_count": null,
   "metadata": {
    "colab": {},
    "colab_type": "code",
    "id": "OF3g4KqctvRR"
   },
   "outputs": [],
   "source": [
    "a = 10\n",
    "b = \"Hi\"\n",
    "print(str(a) + \", \" + str(b))"
   ]
  },
  {
   "cell_type": "markdown",
   "metadata": {
    "colab_type": "text",
    "id": "DRJN4uxRtvRT"
   },
   "source": [
    "## Conditional instrictions"
   ]
  },
  {
   "cell_type": "markdown",
   "metadata": {
    "colab_type": "text",
    "id": "KrTnWAQntvRU"
   },
   "source": [
    "To thell you the truth, there is the only one instructions - **if** .. **else**\n",
    "\n",
    "For example:\n",
    "\n",
    "```\n",
    "if <condition>:\n",
    "    <do something here>\n",
    "else: \n",
    "    <do something else>\n",
    "```\n",
    "\n"
   ]
  },
  {
   "cell_type": "code",
   "execution_count": null,
   "metadata": {
    "colab": {},
    "colab_type": "code",
    "id": "FpanLax2tvRW"
   },
   "outputs": [],
   "source": [
    "a = input()\n",
    "a = int(a)\n",
    "if a > 10:\n",
    "    print(\"a is greater than 10\")\n",
    "else:\n",
    "    print(\"a is less than 10\")"
   ]
  },
  {
   "cell_type": "markdown",
   "metadata": {
    "colab_type": "text",
    "id": "mNBjnJV1tvRa"
   },
   "source": [
    "**else** part can be omitted"
   ]
  },
  {
   "cell_type": "code",
   "execution_count": null,
   "metadata": {
    "colab": {},
    "colab_type": "code",
    "id": "pPB4FJdqtvRe"
   },
   "outputs": [],
   "source": [
    "a = input()\n",
    "a = int(a)\n",
    "if a % 2 != 0:\n",
    "    a = a - 1\n",
    "print(a)"
   ]
  },
  {
   "cell_type": "markdown",
   "metadata": {},
   "source": [
    "And even if part can be omitted actually). This is called ternary operator"
   ]
  },
  {
   "cell_type": "code",
   "execution_count": 5,
   "metadata": {},
   "outputs": [
    {
     "name": "stdout",
     "output_type": "stream",
     "text": [
      "3 5\n",
      "4\n"
     ]
    }
   ],
   "source": [
    "a = input()\n",
    "a = int(a)\n",
    "b = 5 if a<5 else a\n",
    "print (a, b)\n",
    "print (4 if a<4 else b)"
   ]
  },
  {
   "cell_type": "markdown",
   "metadata": {
    "colab_type": "text",
    "id": "31M8M54LtvRj"
   },
   "source": [
    "### Loops"
   ]
  },
  {
   "cell_type": "markdown",
   "metadata": {
    "colab_type": "text",
    "id": "uf7RkppbtvRk"
   },
   "source": [
    "**for** loop is used more frequently than **while** loop.\n",
    "\n",
    "But let us try both"
   ]
  },
  {
   "cell_type": "code",
   "execution_count": null,
   "metadata": {
    "colab": {},
    "colab_type": "code",
    "id": "vFh4vpcstvRl"
   },
   "outputs": [],
   "source": [
    "for i in range(100): # do the following operations 100 times, 'i' will take values ​​from 0 to 99\n",
    "    if i % 17 == 0:\n",
    "        print(i)"
   ]
  },
  {
   "cell_type": "markdown",
   "metadata": {
    "colab_type": "text",
    "id": "xtxlinHctkAT"
   },
   "source": [
    "Although **for** is the most common choice when programming loop in Python, but sometimes its use could be challenging. For example, in case you do not know how many times you need to perform a certain action. There exists a **while** loop for this kind of task."
   ]
  },
  {
   "cell_type": "code",
   "execution_count": null,
   "metadata": {
    "colab": {},
    "colab_type": "code",
    "id": "-mvC-iMdtkAT",
    "outputId": "1d25265f-da2e-43de-ac72-153e428314d1"
   },
   "outputs": [
    {
     "name": "stdout",
     "output_type": "stream",
     "text": [
      "0\n",
      "1\n",
      "2\n",
      "3\n",
      "4\n",
      "5\n",
      "6\n",
      "7\n",
      "8\n",
      "9\n"
     ]
    }
   ],
   "source": [
    "# This is an example of WRONG use of while loop, here you should better use a for loop\n",
    "a = 0\n",
    "while a < 10:\n",
    "    print (a)\n",
    "    a += 1"
   ]
  },
  {
   "cell_type": "markdown",
   "metadata": {
    "colab_type": "text",
    "id": "Tq-5J3JrtkAW"
   },
   "source": [
    "Now Let us assume you are in dialogue with the user and perform some actions until he types 'stop'. Here the best choice is while loop"
   ]
  },
  {
   "cell_type": "code",
   "execution_count": 1,
   "metadata": {
    "colab": {
     "base_uri": "https://localhost:8080/",
     "height": 107
    },
    "colab_type": "code",
    "id": "QVV9SWNStkAX",
    "outputId": "080c1465-a9c7-4c25-9df4-cc06e9b2276d",
    "scrolled": true
   },
   "outputs": [
    {
     "name": "stdout",
     "output_type": "stream",
     "text": [
      "Input number: 10\n",
      "even\n",
      "Input number: 2\n",
      "even\n",
      "Input number: stop\n"
     ]
    }
   ],
   "source": [
    "answer = input(\"Input number: \")\n",
    "while answer != \"stop\":\n",
    "    answer = int(answer)\n",
    "    if answer % 2 == 0:\n",
    "        print(\"even\")\n",
    "    else:\n",
    "        print(\"odd\")\n",
    "    answer = input(\"Input number: \")"
   ]
  },
  {
   "cell_type": "markdown",
   "metadata": {
    "colab_type": "text",
    "id": "FwvPjBoktvRn"
   },
   "source": [
    "Two important details in using `for`: **break** и **continue**\n",
    "\n",
    "**break** allows you to exit the cycle early"
   ]
  },
  {
   "cell_type": "code",
   "execution_count": null,
   "metadata": {
    "colab": {},
    "colab_type": "code",
    "id": "N6F2mRGbtvRn"
   },
   "outputs": [],
   "source": [
    "# Check the value is prime\n",
    "a = input()\n",
    "a = int(a)\n",
    "\n",
    "if a > 1:\n",
    "    is_prime = True\n",
    "    for i in range(2, a): # iterate from 2 until a - 1\n",
    "        if a % i == 0: # if 'a' is divisible by 'i' with zero remainder, \n",
    "            # then it is prime\n",
    "            is_prime = False\n",
    "            break  # and we can cancel the loop now\n",
    "            # because we have no reason to check further\n",
    "else:\n",
    "    is_prime = False\n",
    "    \n",
    "print(is_prime)"
   ]
  },
  {
   "cell_type": "markdown",
   "metadata": {
    "colab_type": "text",
    "id": "qac4StmztvRr"
   },
   "source": [
    "**continue** allows you to move ahead of schedule to the next iteration of the loop"
   ]
  },
  {
   "cell_type": "code",
   "execution_count": null,
   "metadata": {
    "colab": {},
    "colab_type": "code",
    "id": "DD5gAyJhtvRs"
   },
   "outputs": [],
   "source": [
    "for i in range(5):\n",
    "    if i == 2:\n",
    "        continue\n",
    "    print(i)"
   ]
  },
  {
   "cell_type": "markdown",
   "metadata": {
    "colab_type": "text",
    "id": "-gBj_is8tkAh"
   },
   "source": [
    "There is also a **pass** instruction that works like a plug and does nothing. Usually `pass` is used to arrange space in code that will be filled in further\n",
    "\n"
   ]
  },
  {
   "cell_type": "code",
   "execution_count": 2,
   "metadata": {
    "colab": {
     "base_uri": "https://localhost:8080/",
     "height": 107
    },
    "colab_type": "code",
    "id": "Wdu2r7yntkAi",
    "outputId": "150fc4e2-59d3-4eec-84ec-4fa5dbe4eb59"
   },
   "outputs": [
    {
     "name": "stdout",
     "output_type": "stream",
     "text": [
      "0\n",
      "1\n",
      "2\n",
      "3\n",
      "4\n"
     ]
    }
   ],
   "source": [
    "for i in range(0, 5):\n",
    "    if i % 13 == 0:\n",
    "        pass # insert fix here\n",
    "    print (i)"
   ]
  },
  {
   "cell_type": "markdown",
   "metadata": {
    "colab_type": "text",
    "id": "kOpz8spZtvRx"
   },
   "source": [
    "## Task. Translation"
   ]
  },
  {
   "cell_type": "markdown",
   "metadata": {
    "colab_type": "text",
    "id": "wE-D8yO0tvRz"
   },
   "source": [
    "The user enters through standard input one\n",
    "of four letters (A, T, G, C), the program replaces it with U,\n",
    "if T was entered, and returns the original in the other three cases."
   ]
  },
  {
   "cell_type": "code",
   "execution_count": null,
   "metadata": {
    "colab": {},
    "colab_type": "code",
    "id": "2GxIMRAftvR0"
   },
   "outputs": [],
   "source": [
    "character = input()\n",
    "if character == \"T\":\n",
    "    character = \"U\"\n",
    "\n",
    "print (character)"
   ]
  }
 ],
 "metadata": {
  "colab": {
   "collapsed_sections": [],
   "name": "lesson0.ipynb",
   "provenance": []
  },
  "kernelspec": {
   "display_name": "Python 3",
   "language": "python",
   "name": "python3"
  },
  "language_info": {
   "codemirror_mode": {
    "name": "ipython",
    "version": 3
   },
   "file_extension": ".py",
   "mimetype": "text/x-python",
   "name": "python",
   "nbconvert_exporter": "python",
   "pygments_lexer": "ipython3",
   "version": "3.8.5"
  },
  "toc": {
   "base_numbering": 1,
   "nav_menu": {},
   "number_sections": true,
   "sideBar": true,
   "skip_h1_title": false,
   "title_cell": "Table of Contents",
   "title_sidebar": "Contents",
   "toc_cell": false,
   "toc_position": {},
   "toc_section_display": true,
   "toc_window_display": false
  }
 },
 "nbformat": 4,
 "nbformat_minor": 1
}
