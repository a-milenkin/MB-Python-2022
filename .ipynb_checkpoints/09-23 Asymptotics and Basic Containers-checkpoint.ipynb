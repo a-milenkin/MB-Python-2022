{
 "cells": [
  {
   "cell_type": "markdown",
   "metadata": {},
   "source": [
    "# Asymptotics and Basic containers"
   ]
  },
  {
   "cell_type": "markdown",
   "metadata": {},
   "source": [
    "## Asymptotics"
   ]
  },
  {
   "cell_type": "markdown",
   "metadata": {},
   "source": [
    "So, what is the one of main points, that everyone should remember, when working with some algorithm? When you use some algorithms, you should know, how it work, how many memory it can take, and how long it can work. So, in other worlds, the last two points calling **complexity of algorithm**. In mathematic laguage it's look like function `f(x)` whose values are equal to time algorithm will take if it will start working with data of size 'x'. Actually we can excatly calculate f(x), but it will take a big amount of time and resources. And to be honest, we don't need such accurate estimate, it's enough to understand only order of magnitude."
   ]
  },
  {
   "cell_type": "markdown",
   "metadata": {},
   "source": [
    "Ok, to understand how we can work with magnitude, let's look to some simple algorithm more closer.\n",
    "```\n",
    "for i in list:\n",
    "    i = i+1\n",
    "```\n",
    "Here we see that algorithm (more precisely, it's realisation) makes some calculation for each element in list. It Means that its work time directly connect with size of list. Let's call it N. So, the difficulties of algoritm about N*c, where c - constant time, that algorithm takes to work. From there we take f(N) = N*c. But 'c' in the vast majority of cases strongly connect to some language and machine specifications and mechanisms, so it will realy be difficult to estimate it. For this purpose there is a mathematic mechanism calling asymptotics."
   ]
  },
  {
   "cell_type": "markdown",
   "metadata": {},
   "source": [
    "![asymptotics](images/asymptotic.jpg)"
   ]
  },
  {
   "cell_type": "markdown",
   "metadata": {},
   "source": [
    "So, what is the point? In fact, we take some g(x) that can bounded f(x) above or below with some constants (c1 and c2) help and says, that f(x) refers to g(x) like f(x) = O(g(x)) of f(x) = $\\Omega$ (g(x)). More accurately:\n",
    "> f(n) is O(g(n)) if for some constants c and n0 f(n) <= cg(n) for all n>n0\n",
    "\n",
    "> f(n) is o(g(n)) if for some constants c and n0 f(n) < cg(n) for all n>n0\n",
    "\n",
    "> f(n) is $\\Omega$(g(n)) if for some constants c and n0 f(n) >= cg(n) for all n>n0\n",
    "\n",
    "> f(n) is $\\omega$(g(n)) if for some constants c and n0 f(n) > cg(n) for all n>n0\n",
    "\n",
    "> f(n) if $\\Theta$(g(n)) if for some constants c1, c2 and n0 c1*g(n) <= f(n) <= c2*g(n) for all n>n0."
   ]
  },
  {
   "cell_type": "markdown",
   "metadata": {},
   "source": [
    "For out purpose we need only O(g(x)), because we need maximum time that algorithm can take to predict it behavior. So, now we can write complexity of algorithm at the begining of this notebook like O(N), that mean it work not slower than N*c steps or seconds, where 'c' depends on realisation. Below some examples of O(g(x)) in steps number:"
   ]
  },
  {
   "cell_type": "markdown",
   "metadata": {},
   "source": [
    "![complexity](images/complexity.jpg)"
   ]
  },
  {
   "cell_type": "markdown",
   "metadata": {},
   "source": [
    "## Data structures"
   ]
  },
  {
   "cell_type": "markdown",
   "metadata": {},
   "source": [
    "One of the most important things about data structures is what is it data structures. Intuitively, it's some balck box, big black box, that contain some data and can work with it. For example vending machine\n"
   ]
  },
  {
   "cell_type": "markdown",
   "metadata": {},
   "source": [
    "![veding](images/vending_machine.jpg)"
   ]
  },
  {
   "cell_type": "markdown",
   "metadata": {},
   "source": [
    "If we look to it more thoroughly and analyze it components, we see that it is container that have smart interface to work with it. First of all you can't just take something from it directly. It mean that things inside it is private. But you can order something (pay money or hack...) and it give you what you order. In other situation, if you administer it, you can load it with new things or change costs of products. The same way work object-containers in programming languarges, they have some data inside them, and interface that you can use to work with data and container in general. "
   ]
  },
  {
   "cell_type": "markdown",
   "metadata": {},
   "source": [
    "Still, from one language to another there is diffrent realisation of it. For example, in c++ there are some issues with memory and garbage, that you can which you can get if you implement the destructor incorrectly. In python there some standarts methods, that you can realise for more accurate and intuitive object behavior. For example method `__iter__` that give you opportunite write the things like `for a in listB`"
   ]
  },
  {
   "cell_type": "markdown",
   "metadata": {},
   "source": [
    "## Objects"
   ]
  },
  {
   "cell_type": "markdown",
   "metadata": {},
   "source": [
    "![object](images/object.png)"
   ]
  },
  {
   "cell_type": "markdown",
   "metadata": {},
   "source": [
    "Actually near all modern high level Object-Oriented languages has the thing calling Structure or Class. In general, it is the description of some data type, that you can use. When you create some variable of structure or class, you actually create Object - the data in memory, that work according to the scheme of class. "
   ]
  },
  {
   "cell_type": "code",
   "execution_count": 1,
   "metadata": {},
   "outputs": [],
   "source": [
    "class tryClass:\n",
    "    a = 2\n",
    "    b = 3\n",
    "    pass"
   ]
  },
  {
   "cell_type": "markdown",
   "metadata": {},
   "source": [
    "Above we describe class calling \"tryClass\". How we can see it contain only two fields 'a' and 'b', and they have the default values. Let's create one object of that class named 'i' and try work with it."
   ]
  },
  {
   "cell_type": "code",
   "execution_count": 6,
   "metadata": {
    "tags": []
   },
   "outputs": [
    {
     "name": "stdout",
     "output_type": "stream",
     "text": [
      "2\n",
      "4\n",
      "<class '__main__.tryClass'>\n"
     ]
    }
   ],
   "source": [
    "i = tryClass\n",
    "print (i.a)\n",
    "i.b = 4\n",
    "print (i.b)\n",
    "print (tryClass)"
   ]
  },
  {
   "cell_type": "markdown",
   "metadata": {},
   "source": [
    "So, we see, that object of class contain variables, that we defined in scheme of it. But when we try print object itself it give us some unreadable data (actually class name). It happens because our class has not methods like print or like it. Let's create a new one that will have such method"
   ]
  },
  {
   "cell_type": "code",
   "execution_count": 1,
   "metadata": {},
   "outputs": [],
   "source": [
    "class tryClass1:\n",
    "    a = 2\n",
    "    b = 1\n",
    "    def __str__(self):\n",
    "        return str(self.a) + \" \" + str(self.b)"
   ]
  },
  {
   "cell_type": "code",
   "execution_count": 2,
   "metadata": {
    "tags": []
   },
   "outputs": [
    {
     "name": "stdout",
     "output_type": "stream",
     "text": [
      "2 1\n"
     ]
    }
   ],
   "source": [
    "i = tryClass1()\n",
    "print (i)"
   ]
  },
  {
   "cell_type": "markdown",
   "metadata": {},
   "source": [
    "Now, when we ask object 'i' print itself, it prints correctly. So, `__str__` is a part of tryClass1 interface. For python language it means the function, that give to `print` command string which it should print. Actually, how I say, `__str__` is function inside class tryClass1 that work with the data inside it"
   ]
  },
  {
   "cell_type": "code",
   "execution_count": 3,
   "metadata": {
    "tags": []
   },
   "outputs": [
    {
     "name": "stdout",
     "output_type": "stream",
     "text": [
      "2 1\n"
     ]
    }
   ],
   "source": [
    "s = i.__str__()\n",
    "print (s)"
   ]
  },
  {
   "cell_type": "markdown",
   "metadata": {},
   "source": [
    " Interfaces of class almost always consist of such function. Some times you can work with data inside them directly, but more offten programmers don't know how work some class inside so they don't work with data inside to not break it."
   ]
  },
  {
   "cell_type": "markdown",
   "metadata": {},
   "source": [
    "## Containers"
   ]
  },
  {
   "cell_type": "markdown",
   "metadata": {},
   "source": [
    "One of the most famous type of structures is containers. Basicaly it is stuctures, whose tasks is contain a big amount of elements (the same types or not) and some interfaces, that contains operations of access, change, search, adding for elements. Some containers can have some other types of operations like sorting or summation of elements, but it depends on realization.\n",
    "\n",
    "![container](images/container.gif)\n",
    "\n",
    "Following are some of basic containers types that you can see in almost every OOP programming language."
   ]
  },
  {
   "cell_type": "markdown",
   "metadata": {},
   "source": [
    "## Array"
   ]
  },
  {
   "cell_type": "markdown",
   "metadata": {},
   "source": [
    "The most basic container type that comes to mind is array. Inside it looks like the sequence of elements, that are stored in memory one by one.\n",
    "![array](images/array.jpg)"
   ]
  },
  {
   "cell_type": "markdown",
   "metadata": {},
   "source": [
    "Each element of it has an index that describe where it's locate in memory. The most basic types of array like array in C language can only give you access to any element inside in to work directly. And they work like `'adress of the begining of array' + 'index of element'`.  A side effect of such formula is the rules that all arrays in programming world always beginig from 0. Because when you want to take the first element, you don't need to move in memroy from the begining, so you move 0 steps to take it.\n",
    "\n",
    "So, the interface of basic array:\n",
    "\n",
    "1. Constructur - create an array in memory.  Complaxity about `O(n)`, where n - the number of elements. \n",
    "2. \\[i\\] - access to element with index 'i'. Almost always complexity is about `O(1)`, means that the access time does not depend on the size of array, because there is only one operation - summing addresses.\n",
    "\n",
    "There is another one structure calling `dynamic array`. It differs from the basic one by the possibility to change its size, when the number of elements become too big or small. On size it means an array has two sizes, one is logical (number of elements), second is actual size of memory, that it takes for its needs. And when logical size become near actual, it try to take additional memory for itself. So, in additional to basic array, it has a:\n",
    "\n",
    "3. Resize (N) - function, that change the size of memory, that array use to N elements. In most cases private and work automaticaly when needed. `O(n)`\n",
    "4. AddElement (element) - function, that add into array new element. In most cases it add to the end of array. `O(1)` if there is empty memory or `O(n)` if not\n",
    "5. Pop element - delete element at the end of array. Actualy it marks element at the maximum index as deleted and later it can rewrite into memory something other data. `O(1)`\n",
    "\n",
    "Example of such array - list in Python."
   ]
  },
  {
   "cell_type": "code",
   "execution_count": 7,
   "metadata": {
    "tags": []
   },
   "outputs": [
    {
     "name": "stdout",
     "output_type": "stream",
     "text": [
      "2\n",
      "1\n"
     ]
    }
   ],
   "source": [
    "a = list ((1,2,3))\n",
    "print (a[1])\n",
    "print (a[0])"
   ]
  },
  {
   "cell_type": "code",
   "execution_count": 9,
   "metadata": {
    "tags": []
   },
   "outputs": [
    {
     "name": "stdout",
     "output_type": "stream",
     "text": [
      "[1, 2, 3, 5]\n"
     ]
    }
   ],
   "source": [
    "a.append(5) #mean put element at the end\n",
    "print (a)"
   ]
  },
  {
   "cell_type": "code",
   "execution_count": 11,
   "metadata": {
    "tags": []
   },
   "outputs": [
    {
     "name": "stdout",
     "output_type": "stream",
     "text": [
      "[1]\n"
     ]
    }
   ],
   "source": [
    "a.pop()\n",
    "a.pop()\n",
    "print (a)"
   ]
  },
  {
   "cell_type": "markdown",
   "metadata": {},
   "source": [
    "List - a universal array that can store different types of elements at the same time. But be careful, actulay it store not the elements, but the links to them. So if put some non basic type element inside it and change it, it will be changed inside the list too."
   ]
  },
  {
   "cell_type": "code",
   "execution_count": 14,
   "metadata": {
    "tags": []
   },
   "outputs": [
    {
     "name": "stdout",
     "output_type": "stream",
     "text": [
      "2 1\n",
      "10 1\n"
     ]
    }
   ],
   "source": [
    "i = tryClass1()\n",
    "a = [i]\n",
    "print (a[0])\n",
    "i.a = 10\n",
    "print (a[0])"
   ]
  },
  {
   "cell_type": "markdown",
   "metadata": {},
   "source": [
    "## Stack"
   ]
  },
  {
   "cell_type": "markdown",
   "metadata": {},
   "source": [
    "This container type not so famous as array, but steel it more convinient in some cases.\n",
    "\n",
    "Inside it looks like a narrow box with closed bottom. So, you can put element at the top of it or take element from the top. To take the frist element you need to empty the box.\n",
    "![stack](images/stack.png)\n",
    "The interface:\n",
    "\n",
    "1. Constructor - as always, create a container. `O(1)`\n",
    "2. PushBack (element) - put element at the end of stack. `O(1)`\n",
    "3. Pop - take the top(last) element from the stack. `O(1)`"
   ]
  },
  {
   "cell_type": "code",
   "execution_count": 15,
   "metadata": {
    "tags": []
   },
   "outputs": [
    {
     "name": "stdout",
     "output_type": "stream",
     "text": [
      "deque(['a', 'b', 'c'])\n",
      "c\n",
      "deque(['a', 'b', 'd'])\n"
     ]
    }
   ],
   "source": [
    "from collections import deque\n",
    "stack = deque()\n",
    "\n",
    "stack.append ('a')\n",
    "stack.append ('b')\n",
    "stack.append ('c')\n",
    "print (stack)\n",
    "i = stack.pop()\n",
    "print (i)\n",
    "stack.append ('d')\n",
    "print (stack)"
   ]
  },
  {
   "cell_type": "markdown",
   "metadata": {},
   "source": [
    "Realisation of stack can be diffrent from one language to other. The two most simplest way is use a dynamic array (I think you have already noticed the similarities in the interfaces), or create a structure, that has a link to previous element."
   ]
  },
  {
   "cell_type": "code",
   "execution_count": 26,
   "metadata": {},
   "outputs": [],
   "source": [
    "class stackk:\n",
    "    prev = None\n",
    "    data = None\n",
    "\n",
    "    def add (self, element):\n",
    "        new_elem = stackk()\n",
    "        new_elem.prev = self.prev\n",
    "        new_elem.data = element\n",
    "        self.prev = new_elem\n",
    "\n",
    "    def pop (self):\n",
    "        if (self.prev != None):\n",
    "            current = self.prev\n",
    "            self.prev = current.prev\n",
    "            result = current.data\n",
    "            del (current)\n",
    "        else:\n",
    "            result = None\n",
    "        return result"
   ]
  },
  {
   "cell_type": "code",
   "execution_count": 27,
   "metadata": {
    "tags": []
   },
   "outputs": [
    {
     "name": "stdout",
     "output_type": "stream",
     "text": [
      "2\n",
      "1\n"
     ]
    }
   ],
   "source": [
    "a = stackk()\n",
    "a.add (1)\n",
    "a.add (2)\n",
    "b = a.pop()\n",
    "print (b)\n",
    "b = a.pop()\n",
    "print (b)"
   ]
  },
  {
   "cell_type": "markdown",
   "metadata": {},
   "source": [
    "So, what the reason actually to use such data structure? Simplest example is `correct bracket sequence`. This is a classic task for stack. Someone give to you bracket sequence like \"(()()))()()()((((())((())))))\". You should check if there for each open bracket a pair closing it and vice versa. Think a little"
   ]
  },
  {
   "cell_type": "markdown",
   "metadata": {},
   "source": [
    "<details>\n",
    "  <summary>Answer</summary>\n",
    "  <p>\n",
    "The idea is to use the stack to put there at the top   open brakets. If at some moment we meet the situation where the stack is empty and we have close bracket then the sequence is not correct. And if at the end of the sequence or stack isn't empty, then the sequence is not correct. Otherwise everything is fine\n",
    "</p>\n",
    "</details>"
   ]
  },
  {
   "cell_type": "markdown",
   "metadata": {},
   "source": [
    "## Queue"
   ]
  },
  {
   "cell_type": "markdown",
   "metadata": {},
   "source": [
    "The queue is very similar to stack. The main difference is that isn't the box with closed botton, but a tube, where you can put element at one end and take them at other. Just remeber the queue at hospitals or shops, where you come and stand at the end of queue. And then, when time passes and all the people in front of you leave, you become the first in queue and you can go wherever you want.\n",
    "\n",
    "![queue](images/queue.jpg)\n",
    "\n",
    "So, formaly, queue is a container that can add element at the end of it and take element at the begining. The basic interface:\n",
    "\n",
    "1. Constructor -- `O(1)`\n",
    "2. PushBack/Append (element) - the same as stack `O(1)`\n",
    "3. Pop - take element from the begining of queue `O(1)`\n",
    "\n",
    "\n"
   ]
  },
  {
   "cell_type": "code",
   "execution_count": 2,
   "metadata": {
    "tags": []
   },
   "outputs": [
    {
     "name": "stdout",
     "output_type": "stream",
     "text": [
      "a\n",
      "b\n"
     ]
    }
   ],
   "source": [
    "from queue import Queue\n",
    "\n",
    "q = Queue()\n",
    "q.put ('a')\n",
    "q.put ('b')\n",
    "q.put ('c')\n",
    "i = q.get()\n",
    "print (i)\n",
    "print (q.get())"
   ]
  },
  {
   "cell_type": "markdown",
   "metadata": {},
   "source": [
    "As for the stack, queue implementation can be based on dynamic (or static, if you know the maximum size) array, on links of some structures. But what interesting, it can be implemented on stacks. Think how..."
   ]
  },
  {
   "cell_type": "markdown",
   "metadata": {},
   "source": [
    "<details>\n",
    "  <summary>Answer</summary>\n",
    "  Simple. You should use two stacks to do it. The first one will be collect incoming elements. When some one ask for elemen, you just send all of them from the first stack to second and then take the top element from the second. Because you put at the second stack elements in reverse order (from the top of first stack to the bottom of the second), the second stack will back the element that came in the queue first. After you send elements to the second stack, you can take them from it until it not become empty. The complexity of addElement is O(1), of popElement is O(1) till second stack not empty. But even when it happens the complexity of transfer of elements between stacks is O(n) and it happens one time in n function calling. So, 1(n+1)/n ~ 1. So, in average complexity of pop is O(1). \n",
    "  \n",
    "![answer_queue](images/queue2.png)\n",
    "   \n",
    "</details>"
   ]
  },
  {
   "cell_type": "markdown",
   "metadata": {},
   "source": [
    "## List"
   ]
  },
  {
   "cell_type": "markdown",
   "metadata": {},
   "source": [
    "The last but not the least container... is the ~~least~~ list. It exaclty made from number of lists that connected with each other. There two famous type of lists: singly linked list and doubly linked list. So, the first one is the stucture, that contain data and link to the next list. Users have the link only to start list and from it all function work. A double linked list differs from singly only in that double linked list contain two link to previous and next element.\n",
    "\n",
    "![sList](images/sList.png)\n",
    "\n",
    "![doubleList](images/dList.jpg)\n",
    "\n",
    "So, like in previous containers, let's look at what we can do with list:\n",
    "\n",
    "1. Constructor - `O(1)`\n",
    "2. GetAtIndex (i) - take element from list with index (the number of elements between the first and the requested). Because every element of list saved at diffrent position in memory (they are not stored one by one) and have link to next element, we need to go through all the elements starting from the first to requested. So, in average `O(n)`.\n",
    "3. FindElement (element) - search for element in list. `O(n)`\n",
    "4. PushBack (element) - save element at the end of the list. `O(1)` (because we can keep link to the end of the list)\n",
    "5. PopBack () - Take element from the end. `O(1)`\n",
    "6. PushFront (element) - save element at the begining of list. `O(1)`\n",
    "7. PopFront - Take element from the begining. `O(1)`\n",
    "8. ChangeElement (elem, changeElem) - change element 'elem' to 'changeElem'. `O(n)` to find element and `O(1)` to change it.\n",
    "9. InsertElem (elem, position) - if position is the link to list, than it will cost `O(1)`, because we only need to create new element and connect lists at position (previous and next) to new one. This is main differences from array, because for array insert element in middle require rewrite all array.\n",
    "10. DeleteElem (position or elem) - if position was given, than `O(1)`, becuse we need only relink previous and next lists to each other and delete old one. If element was given, than `O(n)` to find it.\n",
    "\n",
    "About implementation - in contrast with stack and queue, there is only one basic implementataion of list - with structure, that contain link to next (and previous, if double linked) element and data.\n",
    "\n",
    "Unfortunately, there is no linked or double linked list in basic python. The list that you use in it is actualy array and work as array (with O(1) access time and O(n) adding element to begining). So, if you want, you can implemented it by your oun."
   ]
  },
  {
   "cell_type": "markdown",
   "metadata": {},
   "source": []
  }
 ],
 "metadata": {
  "kernelspec": {
   "display_name": "Python 3.8.3 64-bit ('ProgramData': virtualenv)",
   "metadata": {
    "interpreter": {
     "hash": "ecf5722fdaf1897a315d257d89d94520bfcaa453217d5becf09b39e73618b0de"
    }
   },
   "name": "Python 3.8.3 64-bit ('ProgramData': virtualenv)"
  },
  "language_info": {
   "codemirror_mode": {
    "name": "ipython",
    "version": 3
   },
   "file_extension": ".py",
   "mimetype": "text/x-python",
   "name": "python",
   "nbconvert_exporter": "python",
   "pygments_lexer": "ipython3",
   "version": "3.8.3-final"
  },
  "toc": {
   "base_numbering": 1,
   "nav_menu": {},
   "number_sections": true,
   "sideBar": true,
   "skip_h1_title": false,
   "title_cell": "Table of Contents",
   "title_sidebar": "Contents",
   "toc_cell": false,
   "toc_position": {},
   "toc_section_display": true,
   "toc_window_display": false
  }
 },
 "nbformat": 4,
 "nbformat_minor": 2
}
