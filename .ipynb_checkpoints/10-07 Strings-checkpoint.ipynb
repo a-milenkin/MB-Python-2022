{
 "cells": [
  {
   "cell_type": "markdown",
   "metadata": {
    "id": "vWRIaZlQ8Yoa"
   },
   "source": [
    "# Strings formatting"
   ]
  },
  {
   "cell_type": "markdown",
   "metadata": {
    "id": "k5ysN-By8Yob"
   },
   "source": [
    "## Concatenation (strings stacking)\n",
    "\n",
    "Here is a crude and most simple form of formatting when we just stacking (glueing) a number of strings by adding one string to another:"
   ]
  },
  {
   "cell_type": "code",
   "execution_count": 3,
   "metadata": {
    "id": "XeN7Zev88Yoc",
    "outputId": "2aac40e6-3073-4dad-ac83-9de5fab59603",
    "tags": []
   },
   "outputs": [
    {
     "name": "stdout",
     "output_type": "stream",
     "text": [
      "Hello, my name is Andrew. I am 25 years old.\n"
     ]
    }
   ],
   "source": [
    "name = \"Andrew\"\n",
    "age = 25\n",
    "print(\"Hello, my name is \" + name + \". I am \" + str(age) + \" years old.\")\n"
   ]
  },
  {
   "cell_type": "markdown",
   "metadata": {},
   "source": [
    "Plus to these strings is an array of characters and you can work with them as an array:"
   ]
  },
  {
   "cell_type": "code",
   "execution_count": 1,
   "metadata": {
    "tags": []
   },
   "outputs": [
    {
     "name": "stdout",
     "output_type": "stream",
     "text": [
      "where is my mouse\n",
      "here i\n"
     ]
    }
   ],
   "source": [
    "first = \"where is\"\n",
    "second = \"my mouse\"\n",
    "result = first + \" \" + second\n",
    "print (result)\n",
    "print (result[1:7])"
   ]
  },
  {
   "cell_type": "markdown",
   "metadata": {
    "id": "IMcFxI4Q8Yoh"
   },
   "source": [
    "## %-Formatting\n",
    "\n",
    "The most famous way of formatting, that come to Python from C language, is mark inside string where we can insert variables by %s (string variable) or %f (float point variable) or %d (integer variable). You need to pass variables through tuple "
   ]
  },
  {
   "cell_type": "code",
   "execution_count": 3,
   "metadata": {
    "id": "ilbTdrsz8Yoh",
    "outputId": "6fb323a0-8771-42b2-a064-d8b875326521",
    "tags": []
   },
   "outputs": [
    {
     "name": "stdout",
     "output_type": "stream",
     "text": [
      "My name is Andrew. I am 25 years old.\n"
     ]
    }
   ],
   "source": [
    "print(\"My name is %s. I am %d years old.\" % (name, age))"
   ]
  },
  {
   "cell_type": "markdown",
   "metadata": {
    "id": "1u-Tp33d8Yok"
   },
   "source": [
    "You can pass variable through dictionary. In such case you should directly mark which element of dictionary should be used in which place."
   ]
  },
  {
   "cell_type": "code",
   "execution_count": 4,
   "metadata": {
    "id": "UzFQm0hj8Yol",
    "outputId": "cf63f95b-8a29-4593-b24a-4086183889df",
    "tags": []
   },
   "outputs": [
    {
     "name": "stdout",
     "output_type": "stream",
     "text": [
      "My name is Andrew. I am 25 years old.\n"
     ]
    }
   ],
   "source": [
    "print(\"My name is %(name)s. I am %(age)d years old.\" % {\"name\": name, \"age\": age})"
   ]
  },
  {
   "cell_type": "markdown",
   "metadata": {
    "id": "-_0QWodx8Yoo"
   },
   "source": [
    "## Formatting with format() function"
   ]
  },
  {
   "cell_type": "markdown",
   "metadata": {
    "id": "ATU1QaEn8Yoo"
   },
   "source": [
    "This method are used as replacement for %-formatting. As well as %-formmating it also support passing variables by the positions and names."
   ]
  },
  {
   "cell_type": "code",
   "execution_count": 4,
   "metadata": {
    "id": "52CUZ8e68Yop",
    "outputId": "cb641705-3954-422a-96e1-1cd065c33b28",
    "tags": []
   },
   "outputs": [
    {
     "name": "stdout",
     "output_type": "stream",
     "text": [
      "My name is Andrew. I am 25 years old.\n",
      "My name is 25. I am Andrew years old.\n"
     ]
    }
   ],
   "source": [
    "print(\"My name is {}. I am {} years old.\".format(name, age))\n",
    "print(\"My name is {}. I am {} years old.\".format(age, name))"
   ]
  },
  {
   "cell_type": "markdown",
   "metadata": {
    "id": "wpn1XSvf8Yos"
   },
   "source": [
    "Also you can directly point where it should place value of variable. "
   ]
  },
  {
   "cell_type": "code",
   "execution_count": 6,
   "metadata": {
    "id": "c2_e72828Yos",
    "outputId": "8534ce66-f717-41b0-c39c-1089bcabc553",
    "tags": []
   },
   "outputs": [
    {
     "name": "stdout",
     "output_type": "stream",
     "text": [
      "My name is Andrew. I am 25 years old.\n"
     ]
    }
   ],
   "source": [
    "print(\"My name is {0}. I am {1} years old.\".format(name, age)) "
   ]
  },
  {
   "cell_type": "markdown",
   "metadata": {
    "id": "mPiINxCL8Yov"
   },
   "source": [
    "And you can use one variable repeatedly."
   ]
  },
  {
   "cell_type": "code",
   "execution_count": 7,
   "metadata": {
    "id": "nQ30Y6Wc8Yov",
    "outputId": "7d2aca5a-b45c-4cea-875c-d72854889f6d",
    "tags": []
   },
   "outputs": [
    {
     "name": "stdout",
     "output_type": "stream",
     "text": [
      "My name is Andrew. Is my name really Andrew...? Of course, my name is Andrew\n"
     ]
    }
   ],
   "source": [
    "print(\"My name is {0}. Is my name really {1}...? Of course, my name is {0}\".format(name, age)) "
   ]
  },
  {
   "cell_type": "code",
   "execution_count": null,
   "metadata": {},
   "outputs": [],
   "source": []
  },
  {
   "cell_type": "markdown",
   "metadata": {
    "id": "WereccZe8Yoy"
   },
   "source": [
    "## f-strings\n",
    "\n",
    "f-strings. This formatting method appearance at Python 3.6 (PEP 498). It works like format() method, but simple and clearer to understanding.\n",
    "\n",
    "f-strings work very simple — they searched variables in scope and insert they values into string. In the sting itself you should only mark names of variables in {}."
   ]
  },
  {
   "cell_type": "code",
   "execution_count": 9,
   "metadata": {
    "id": "jak0afyy8Yoz",
    "outputId": "08b7bdb8-e132-41e4-d0ba-08de684150db",
    "tags": []
   },
   "outputs": [
    {
     "name": "stdout",
     "output_type": "stream",
     "text": [
      "My name is Andrew. I am 25 years old.\n"
     ]
    }
   ],
   "source": [
    "print(f\"My name is {name}. I am {age} years old.\")"
   ]
  },
  {
   "cell_type": "markdown",
   "metadata": {
    "id": "0ylM2e7E8Yo2"
   },
   "source": [
    "Let's look at they functions more closer.\n",
    "\n",
    "F-string support extended numbers formatting. It usefull when we want print numbers with certain precision."
   ]
  },
  {
   "cell_type": "code",
   "execution_count": 10,
   "metadata": {
    "id": "O5BpES_P8Yo3",
    "outputId": "4842ba90-8046-440a-8d2e-2d4b58ab76e4",
    "tags": []
   },
   "outputs": [
    {
     "name": "stdout",
     "output_type": "stream",
     "text": [
      "pi mean: 3.14\n"
     ]
    }
   ],
   "source": [
    "from math import pi \n",
    "\n",
    "print(f\"pi mean: {pi:.02f}\")"
   ]
  },
  {
   "cell_type": "markdown",
   "metadata": {
    "id": "yC4Q5hwW8Yo5"
   },
   "source": [
    "They can calculate arithmetic operations"
   ]
  },
  {
   "cell_type": "code",
   "execution_count": 11,
   "metadata": {
    "id": "krhFwD7R8Yo6",
    "tags": []
   },
   "outputs": [
    {
     "name": "stdout",
     "output_type": "stream",
     "text": [
      "10 x 5 / 2 = 25.0\n"
     ]
    }
   ],
   "source": [
    "x = 10\n",
    "y = 5\n",
    "print(f\"{x} x {y} / 2 = {x * y / 2}\")"
   ]
  },
  {
   "cell_type": "markdown",
   "metadata": {
    "id": "08orTq9f8Yo9"
   },
   "source": [
    "Can work with list indices:"
   ]
  },
  {
   "cell_type": "code",
   "execution_count": 12,
   "metadata": {
    "id": "rmhBK7XB8Yo9",
    "outputId": "1a37d8b1-c62d-455d-ee08-06aa0a2c4c3c",
    "tags": []
   },
   "outputs": [
    {
     "name": "stdout",
     "output_type": "stream",
     "text": [
      "We live on planet Terra\n"
     ]
    }
   ],
   "source": [
    "planets = [\"Mercury\", \"Venus\", \"Terra\", \"Mars\"]\n",
    "print(f\"We live on planet {planets[2]}\")"
   ]
  },
  {
   "cell_type": "markdown",
   "metadata": {
    "id": "qu5mFF-f8YpA"
   },
   "source": [
    "Аnd with dictionary by names:"
   ]
  },
  {
   "cell_type": "code",
   "execution_count": 13,
   "metadata": {
    "id": "XDPqIEvJ8YpA",
    "outputId": "0d9ffa85-14e5-4cc9-b963-faa8a367f934",
    "tags": []
   },
   "outputs": [
    {
     "name": "stdout",
     "output_type": "stream",
     "text": [
      "Planet Terra. Radius 6378.0 km.\n"
     ]
    }
   ],
   "source": [
    "planet_radius = {\"Terra\":  6378000}\n",
    "planet = \"Terra\"\n",
    "print(f\"Planet {planet}. Radius {planet_radius[planet]/1000} km.\")"
   ]
  },
  {
   "cell_type": "markdown",
   "metadata": {
    "id": "ORRrXQN-8YpD"
   },
   "source": [
    "And not only by names, but by variables and template variables too"
   ]
  },
  {
   "cell_type": "code",
   "execution_count": 16,
   "metadata": {
    "id": "_DzqeNkU8YpD",
    "outputId": "cbcef142-0343-4b19-cb9d-90f524fcbf4c",
    "tags": []
   },
   "outputs": [
    {
     "name": "stdout",
     "output_type": "stream",
     "text": [
      "Planet Terra. Radius 6378.0 km.\n",
      "Planet Terra. Radius 6378.0 km.\n"
     ]
    }
   ],
   "source": [
    "planet_radius = {\"Terra\":  6378000}\n",
    "print(f\"Planet Terra. Radius {planet_radius[planet]/1000} km.\")\n",
    "print(f\"Planet Terra. Radius {planet_radius['Terra']/1000} km.\")"
   ]
  },
  {
   "cell_type": "markdown",
   "metadata": {
    "id": "g5gosa8X8YpG"
   },
   "source": [
    "Finally you can call functions inside {}:"
   ]
  },
  {
   "cell_type": "code",
   "execution_count": 17,
   "metadata": {
    "id": "cfpzL0Hw8YpH",
    "outputId": "a99e84fe-3574-4ff7-fe9e-56594ce4fc0a",
    "tags": []
   },
   "outputs": [
    {
     "name": "stdout",
     "output_type": "stream",
     "text": [
      "BELIEF IS ONE OF THE MOST POWERFUL ORGANIC FORCES IN THE MULTIVERSE. IT MAY NOT BE ABLE TO MOVE MOUNTAINS, EXACTLY. BUT IT CAN CREATE SOMEONE WHO CAN., - Reaper sayed - PEOPLE GET EXACTLY THE WRONG IDEA ABOUT BELIEF. THEY THINK IT WORKS BACK TO FRONT. THEY THINK THE SEQUENCE IS, FIRST OBJECT, THEN BELIEF. IN FACT, IT WORKS THE OTHER WAY.”\n"
     ]
    }
   ],
   "source": [
    "replic1 = \"Belief is one of the most powerful organic forces in the multiverse. It may not be able to move mountains, exactly. But it can create someone who can\"\n",
    "replic2 = \"People get exactly the wrong idea about belief. They think it works back to front. They think the sequence is, first object, then belief. In fact, it works the other way.”\"\n",
    "print(f\"{replic1.upper()}, - Reaper sayed - {replic2.upper()}\")\n"
   ]
  },
  {
   "cell_type": "code",
   "execution_count": 18,
   "metadata": {
    "id": "-RIGyHuA8YpK",
    "outputId": "5a6157a5-f962-42d3-c659-88afb3300f74",
    "tags": []
   },
   "outputs": [
    {
     "name": "stdout",
     "output_type": "stream",
     "text": [
      "1.8\n"
     ]
    }
   ],
   "source": [
    "number = 1.79834\n",
    "print (f\"{round(number, 2)}\")"
   ]
  },
  {
   "cell_type": "markdown",
   "metadata": {},
   "source": [
    "So, mechanism of f-string is realy powerfull and can help you in diffrent situation"
   ]
  },
  {
   "cell_type": "code",
   "execution_count": 25,
   "metadata": {
    "tags": []
   },
   "outputs": [
    {
     "name": "stdout",
     "output_type": "stream",
     "text": [
      "1,2,3\n",
      "1.2.3\n",
      "not a {0}, but {1}\n",
      "not a {1}, but {2}\n",
      "\n",
      "not a 1, but 2\n",
      "not a 2, but 3\n"
     ]
    }
   ],
   "source": [
    "\n",
    "print (\",\".join(['1','2','3']))\n",
    "a = [1,2,3]\n",
    "print (f\"{a[0]}.{a[1]}.{a[2]}\")\n",
    "\n",
    "s = \"\"\n",
    "for i in range(len(a) -1 ):\n",
    "    s += f\"not a {{{i}}}, but {{{i+1}}}\\n\"\n",
    "print (s)\n",
    "print (s.format (*a)[:-1])"
   ]
  },
  {
   "cell_type": "markdown",
   "metadata": {},
   "source": [
    "* mean create from the list a 'list' of arguments for some function (because they need *args, not a list)"
   ]
  }
 ],
 "metadata": {
  "colab": {
   "name": "Basics_Lecture4.ipynb",
   "provenance": []
  },
  "kernelspec": {
   "display_name": "Python 3",
   "language": "python",
   "name": "python3"
  },
  "language_info": {
   "codemirror_mode": {
    "name": "ipython",
    "version": 3
   },
   "file_extension": ".py",
   "mimetype": "text/x-python",
   "name": "python",
   "nbconvert_exporter": "python",
   "pygments_lexer": "ipython3",
   "version": "3.8.5"
  },
  "toc": {
   "base_numbering": 1,
   "nav_menu": {},
   "number_sections": true,
   "sideBar": true,
   "skip_h1_title": false,
   "title_cell": "Table of Contents",
   "title_sidebar": "Contents",
   "toc_cell": false,
   "toc_position": {},
   "toc_section_display": true,
   "toc_window_display": false
  }
 },
 "nbformat": 4,
 "nbformat_minor": 1
}
